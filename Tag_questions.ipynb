{
 "cells": [
  {
   "attachments": {},
   "cell_type": "markdown",
   "metadata": {},
   "source": [
    "# Question tagging with BERT (HuggingFace)\n",
    "\n",
    "In instances where an individual poses a health-related query/description, there may be underlying themes linked to the question that aren't immediately apparent. In this endeavor, we employ a BERT model to identify and tag medical issues related to patient inquiries. This is achieved by leveraging extensive datasets from ehealth, icliniq, QuestionDoctorsQA, and WebMDQA websites."
   ]
  },
  {
   "cell_type": "markdown",
   "metadata": {},
   "source": [
    "## Import libraries"
   ]
  },
  {
   "attachments": {},
   "cell_type": "markdown",
   "metadata": {},
   "source": [
    "For reproducible purpose, we set some seed for random. We also check if there is GPU that we can use for training to use. Otherwise, we use CPU for training."
   ]
  },
  {
   "cell_type": "code",
   "execution_count": 1,
   "metadata": {},
   "outputs": [],
   "source": [
    "import random\n",
    "import numpy as np\n",
    "import transformers\n",
    "from datasets import load_dataset\n",
    "from transformers import DistilBertTokenizerFast\n",
    "from transformers import DistilBertConfig, TFDistilBertForQuestionAnswering\n",
    "import tensorflow as tf\n",
    "import time\n",
    "\n",
    "def set_random_seed(seed):\n",
    "    \"\"\" Setting the random seed of various libraries \"\"\"\n",
    "    try:\n",
    "        np.random.seed(seed)\n",
    "    except NameError:\n",
    "        print(\"Warning: Numpy is not imported. Setting the seed for Numpy failed.\")\n",
    "    try:\n",
    "        tf.random.set_seed(seed)\n",
    "    except NameError:\n",
    "        print(\"Warning: TensorFlow is not imported. Setting the seed for TensorFlow failed.\")\n",
    "    try:\n",
    "        random.seed(seed)\n",
    "    except NameError:\n",
    "        print(\"Warning: random module is not imported. Setting the seed for random failed.\")\n",
    "    try:\n",
    "        transformers.trainer_utils.set_seed(seed)\n",
    "    except NameError:\n",
    "        print(\"Warning: transformers module is not imported. Setting the seed for transformers failed.\")\n",
    "        \n",
    "# Fixing the random seed\n",
    "random_seed=4321\n",
    "set_random_seed(random_seed)\n",
    "\n",
    "physical_devices = tf.config.list_physical_devices('GPU')\n",
    "try:\n",
    "  tf.config.experimental.set_memory_growth(physical_devices[0], True)\n",
    "except:\n",
    "  print(\"No GPU found!\")\n",
    "  pass"
   ]
  },
  {
   "attachments": {},
   "cell_type": "markdown",
   "metadata": {},
   "source": [
    "## Download the dataset\n",
    "\n",
    "Datasets were downloaded from https://github.com/LasseRegin/medical-question-answer-data"
   ]
  },
  {
   "attachments": {},
   "cell_type": "markdown",
   "metadata": {},
   "source": [
    "## Load dataset from json file"
   ]
  },
  {
   "cell_type": "code",
   "execution_count": 2,
   "metadata": {},
   "outputs": [],
   "source": [
    "import pandas as pd"
   ]
  },
  {
   "attachments": {},
   "cell_type": "markdown",
   "metadata": {},
   "source": [
    "I already downloaded and extract the datasests, so we only need to load it here. I use Pandas package to load JSON format"
   ]
  },
  {
   "cell_type": "code",
   "execution_count": 3,
   "metadata": {},
   "outputs": [],
   "source": [
    "ehealth = pd.read_json('ehealthforumQAs.json')\n",
    "icliniqQAs = pd.read_json('icliniqQAs.json')\n",
    "questionDoctorQAs = pd.read_json('questionDoctorQAs.json')\n",
    "webmdQAs = pd.read_json('webmdQAs.json')\n"
   ]
  },
  {
   "attachments": {},
   "cell_type": "markdown",
   "metadata": {},
   "source": [
    "We have a look at the structure of datasets. We have 3 important components: Question, Answer, and Tag. Tag is more about the category of the question. Note that Tags were not classify, so we cannot use it as it is."
   ]
  },
  {
   "cell_type": "code",
   "execution_count": 115,
   "metadata": {},
   "outputs": [
    {
     "data": {
      "text/html": [
       "<div>\n",
       "<style scoped>\n",
       "    .dataframe tbody tr th:only-of-type {\n",
       "        vertical-align: middle;\n",
       "    }\n",
       "\n",
       "    .dataframe tbody tr th {\n",
       "        vertical-align: top;\n",
       "    }\n",
       "\n",
       "    .dataframe thead th {\n",
       "        text-align: right;\n",
       "    }\n",
       "</style>\n",
       "<table border=\"1\" class=\"dataframe\">\n",
       "  <thead>\n",
       "    <tr style=\"text-align: right;\">\n",
       "      <th></th>\n",
       "      <th>answer</th>\n",
       "      <th>question</th>\n",
       "      <th>url</th>\n",
       "      <th>tags</th>\n",
       "    </tr>\n",
       "  </thead>\n",
       "  <tbody>\n",
       "    <tr>\n",
       "      <th>0</th>\n",
       "      <td>adhd and bipolar mood disorder (bmd) can coexi...</td>\n",
       "      <td>my 5 1/2-year-old son displays adhd symptoms f...</td>\n",
       "      <td>http://answers.webmd.com/answers/1194205/my-5-...</td>\n",
       "      <td>[attention deficit hyperactivity disorder]</td>\n",
       "    </tr>\n",
       "    <tr>\n",
       "      <th>1</th>\n",
       "      <td>stimulants in general tend to decrease appetit...</td>\n",
       "      <td>my son has add and mild autism. he has been su...</td>\n",
       "      <td>http://answers.webmd.com/answers/1194206/my-so...</td>\n",
       "      <td>[autism, weight loss]</td>\n",
       "    </tr>\n",
       "    <tr>\n",
       "      <th>2</th>\n",
       "      <td>while any of the stimulant medications can inc...</td>\n",
       "      <td>my son is 13 and is depressed. he has been tak...</td>\n",
       "      <td>http://answers.webmd.com/answers/1198557/my-so...</td>\n",
       "      <td>[]</td>\n",
       "    </tr>\n",
       "    <tr>\n",
       "      <th>3</th>\n",
       "      <td>seventy percent of teens diagnosed when they a...</td>\n",
       "      <td>my 17-year-old has stopped taking concerta aft...</td>\n",
       "      <td>http://answers.webmd.com/answers/1195455/my-17...</td>\n",
       "      <td>[attention deficit hyperactivity disorder]</td>\n",
       "    </tr>\n",
       "    <tr>\n",
       "      <th>4</th>\n",
       "      <td>try claritin-d which is located behind the pha...</td>\n",
       "      <td>i've been taking respa-ar for allergies. i can...</td>\n",
       "      <td>http://answers.webmd.com/answers/1182576/i-ve-...</td>\n",
       "      <td>[allergy]</td>\n",
       "    </tr>\n",
       "    <tr>\n",
       "      <th>5</th>\n",
       "      <td>i am very happy to answer this question. the p...</td>\n",
       "      <td>what is the role of a pharmacist in a communit...</td>\n",
       "      <td>http://answers.webmd.com/answers/1182574/what-...</td>\n",
       "      <td>[]</td>\n",
       "    </tr>\n",
       "    <tr>\n",
       "      <th>6</th>\n",
       "      <td>get an evaluation asap. you can start with you...</td>\n",
       "      <td>my daughter is 15 months old has had severe fe...</td>\n",
       "      <td>http://answers.webmd.com/answers/5084550/my-da...</td>\n",
       "      <td>[feeding, birth, baby]</td>\n",
       "    </tr>\n",
       "    <tr>\n",
       "      <th>7</th>\n",
       "      <td>your body responds to food intake with hunger ...</td>\n",
       "      <td>does your body know how many calories you eat ...</td>\n",
       "      <td>http://answers.webmd.com/answers/5083875/does-...</td>\n",
       "      <td>[calorie, weight loss, food, pepper, snack]</td>\n",
       "    </tr>\n",
       "    <tr>\n",
       "      <th>8</th>\n",
       "      <td>some medications are available in liquid formu...</td>\n",
       "      <td>i have trouble swallowing pills. can my prescr...</td>\n",
       "      <td>http://answers.webmd.com/answers/1182575/i-hav...</td>\n",
       "      <td>[swallow]</td>\n",
       "    </tr>\n",
       "    <tr>\n",
       "      <th>9</th>\n",
       "      <td>generally a diet free from alcohol and low in ...</td>\n",
       "      <td>i need a list of foods that i can eat and list...</td>\n",
       "      <td>http://answers.webmd.com/answers/5084356/i-nee...</td>\n",
       "      <td>[food, pancreatitis]</td>\n",
       "    </tr>\n",
       "  </tbody>\n",
       "</table>\n",
       "</div>"
      ],
      "text/plain": [
       "                                              answer  \\\n",
       "0  adhd and bipolar mood disorder (bmd) can coexi...   \n",
       "1  stimulants in general tend to decrease appetit...   \n",
       "2  while any of the stimulant medications can inc...   \n",
       "3  seventy percent of teens diagnosed when they a...   \n",
       "4  try claritin-d which is located behind the pha...   \n",
       "5  i am very happy to answer this question. the p...   \n",
       "6  get an evaluation asap. you can start with you...   \n",
       "7  your body responds to food intake with hunger ...   \n",
       "8  some medications are available in liquid formu...   \n",
       "9  generally a diet free from alcohol and low in ...   \n",
       "\n",
       "                                            question  \\\n",
       "0  my 5 1/2-year-old son displays adhd symptoms f...   \n",
       "1  my son has add and mild autism. he has been su...   \n",
       "2  my son is 13 and is depressed. he has been tak...   \n",
       "3  my 17-year-old has stopped taking concerta aft...   \n",
       "4  i've been taking respa-ar for allergies. i can...   \n",
       "5  what is the role of a pharmacist in a communit...   \n",
       "6  my daughter is 15 months old has had severe fe...   \n",
       "7  does your body know how many calories you eat ...   \n",
       "8  i have trouble swallowing pills. can my prescr...   \n",
       "9  i need a list of foods that i can eat and list...   \n",
       "\n",
       "                                                 url  \\\n",
       "0  http://answers.webmd.com/answers/1194205/my-5-...   \n",
       "1  http://answers.webmd.com/answers/1194206/my-so...   \n",
       "2  http://answers.webmd.com/answers/1198557/my-so...   \n",
       "3  http://answers.webmd.com/answers/1195455/my-17...   \n",
       "4  http://answers.webmd.com/answers/1182576/i-ve-...   \n",
       "5  http://answers.webmd.com/answers/1182574/what-...   \n",
       "6  http://answers.webmd.com/answers/5084550/my-da...   \n",
       "7  http://answers.webmd.com/answers/5083875/does-...   \n",
       "8  http://answers.webmd.com/answers/1182575/i-hav...   \n",
       "9  http://answers.webmd.com/answers/5084356/i-nee...   \n",
       "\n",
       "                                          tags  \n",
       "0   [attention deficit hyperactivity disorder]  \n",
       "1                        [autism, weight loss]  \n",
       "2                                           []  \n",
       "3   [attention deficit hyperactivity disorder]  \n",
       "4                                    [allergy]  \n",
       "5                                           []  \n",
       "6                       [feeding, birth, baby]  \n",
       "7  [calorie, weight loss, food, pepper, snack]  \n",
       "8                                    [swallow]  \n",
       "9                         [food, pancreatitis]  "
      ]
     },
     "execution_count": 115,
     "metadata": {},
     "output_type": "execute_result"
    }
   ],
   "source": [
    "webmdQAs.head(10)"
   ]
  },
  {
   "cell_type": "code",
   "execution_count": 114,
   "metadata": {},
   "outputs": [
    {
     "data": {
      "text/html": [
       "<div>\n",
       "<style scoped>\n",
       "    .dataframe tbody tr th:only-of-type {\n",
       "        vertical-align: middle;\n",
       "    }\n",
       "\n",
       "    .dataframe tbody tr th {\n",
       "        vertical-align: top;\n",
       "    }\n",
       "\n",
       "    .dataframe thead th {\n",
       "        text-align: right;\n",
       "    }\n",
       "</style>\n",
       "<table border=\"1\" class=\"dataframe\">\n",
       "  <thead>\n",
       "    <tr style=\"text-align: right;\">\n",
       "      <th></th>\n",
       "      <th>answer</th>\n",
       "      <th>answer_author</th>\n",
       "      <th>question</th>\n",
       "      <th>question_text</th>\n",
       "      <th>tags</th>\n",
       "      <th>url</th>\n",
       "    </tr>\n",
       "  </thead>\n",
       "  <tbody>\n",
       "    <tr>\n",
       "      <th>0</th>\n",
       "      <td>you can stay assured you are fine free of hiv....</td>\n",
       "      <td>Dr. Ayman Darrag</td>\n",
       "      <td>is my anti hiv test conclusive or need retest?</td>\n",
       "      <td>Is my Anti Hiv Test Conclusive or need retest?</td>\n",
       "      <td>[hiv test]</td>\n",
       "      <td>https://questiondoctors.com/is-my-anti-hiv-tes...</td>\n",
       "    </tr>\n",
       "    <tr>\n",
       "      <th>1</th>\n",
       "      <td>hi you are 100 % hiv free good luck</td>\n",
       "      <td>Dr Ahmed Fawzy</td>\n",
       "      <td>is my anti hiv test conclusive or need retest?</td>\n",
       "      <td>Is my Anti Hiv Test Conclusive or need retest?</td>\n",
       "      <td>[hiv test]</td>\n",
       "      <td>https://questiondoctors.com/is-my-anti-hiv-tes...</td>\n",
       "    </tr>\n",
       "    <tr>\n",
       "      <th>2</th>\n",
       "      <td>your time slots of the tests and the final res...</td>\n",
       "      <td>Dr.Honey</td>\n",
       "      <td>is my anti hiv test conclusive or need retest?</td>\n",
       "      <td>Is my Anti Hiv Test Conclusive or need retest?</td>\n",
       "      <td>[hiv test]</td>\n",
       "      <td>https://questiondoctors.com/is-my-anti-hiv-tes...</td>\n",
       "    </tr>\n",
       "    <tr>\n",
       "      <th>3</th>\n",
       "      <td>hi i see no labrum tear however i see acetabul...</td>\n",
       "      <td>Dr Ahmed Fawzy</td>\n",
       "      <td>i have some hip pain 9 weeks. had mra image re...</td>\n",
       "      <td>I have some hip pain 9 weeks. Had MRA image re...</td>\n",
       "      <td>[magnetic resonance angiography (mra)]</td>\n",
       "      <td>https://questiondoctors.com/i-have-some-hip-pa...</td>\n",
       "    </tr>\n",
       "    <tr>\n",
       "      <th>4</th>\n",
       "      <td>no visible tear in labrum but obviously calcif...</td>\n",
       "      <td>Dr. Ayman Darrag</td>\n",
       "      <td>i have some hip pain 9 weeks. had mra image re...</td>\n",
       "      <td>I have some hip pain 9 weeks. Had MRA image re...</td>\n",
       "      <td>[magnetic resonance angiography (mra)]</td>\n",
       "      <td>https://questiondoctors.com/i-have-some-hip-pa...</td>\n",
       "    </tr>\n",
       "    <tr>\n",
       "      <th>5</th>\n",
       "      <td>hi. it does not look like tear of labrum so i ...</td>\n",
       "      <td>Dr.Honey</td>\n",
       "      <td>i have some hip pain 9 weeks. had mra image re...</td>\n",
       "      <td>I have some hip pain 9 weeks. Had MRA image re...</td>\n",
       "      <td>[magnetic resonance angiography (mra)]</td>\n",
       "      <td>https://questiondoctors.com/i-have-some-hip-pa...</td>\n",
       "    </tr>\n",
       "    <tr>\n",
       "      <th>6</th>\n",
       "      <td>in my opinion there is no labrum tear</td>\n",
       "      <td>Dr. D. Zluf</td>\n",
       "      <td>i have some hip pain 9 weeks. had mra image re...</td>\n",
       "      <td>I have some hip pain 9 weeks. Had MRA image re...</td>\n",
       "      <td>[magnetic resonance angiography (mra)]</td>\n",
       "      <td>https://questiondoctors.com/i-have-some-hip-pa...</td>\n",
       "    </tr>\n",
       "    <tr>\n",
       "      <th>7</th>\n",
       "      <td>in my opinion if you have something other than...</td>\n",
       "      <td>Dr. Ayman Darrag</td>\n",
       "      <td>i developed breathing difficulties approx 2 ye...</td>\n",
       "      <td>I developed breathing difficulties approx 2 ye...</td>\n",
       "      <td>[hyperventilation]</td>\n",
       "      <td>https://questiondoctors.com/i-developed-breath...</td>\n",
       "    </tr>\n",
       "    <tr>\n",
       "      <th>8</th>\n",
       "      <td>also have barely any air to exhale</td>\n",
       "      <td>trina</td>\n",
       "      <td>i developed breathing difficulties approx 2 ye...</td>\n",
       "      <td>I developed breathing difficulties approx 2 ye...</td>\n",
       "      <td>[hyperventilation]</td>\n",
       "      <td>https://questiondoctors.com/i-developed-breath...</td>\n",
       "    </tr>\n",
       "    <tr>\n",
       "      <th>9</th>\n",
       "      <td>let me tell you that your main problem is anxi...</td>\n",
       "      <td>Dr Masr</td>\n",
       "      <td>i developed breathing difficulties approx 2 ye...</td>\n",
       "      <td>I developed breathing difficulties approx 2 ye...</td>\n",
       "      <td>[hyperventilation]</td>\n",
       "      <td>https://questiondoctors.com/i-developed-breath...</td>\n",
       "    </tr>\n",
       "  </tbody>\n",
       "</table>\n",
       "</div>"
      ],
      "text/plain": [
       "                                              answer     answer_author  \\\n",
       "0  you can stay assured you are fine free of hiv....  Dr. Ayman Darrag   \n",
       "1                hi you are 100 % hiv free good luck    Dr Ahmed Fawzy   \n",
       "2  your time slots of the tests and the final res...          Dr.Honey   \n",
       "3  hi i see no labrum tear however i see acetabul...    Dr Ahmed Fawzy   \n",
       "4  no visible tear in labrum but obviously calcif...  Dr. Ayman Darrag   \n",
       "5  hi. it does not look like tear of labrum so i ...          Dr.Honey   \n",
       "6              in my opinion there is no labrum tear       Dr. D. Zluf   \n",
       "7  in my opinion if you have something other than...  Dr. Ayman Darrag   \n",
       "8                 also have barely any air to exhale             trina   \n",
       "9  let me tell you that your main problem is anxi...           Dr Masr   \n",
       "\n",
       "                                            question  \\\n",
       "0     is my anti hiv test conclusive or need retest?   \n",
       "1     is my anti hiv test conclusive or need retest?   \n",
       "2     is my anti hiv test conclusive or need retest?   \n",
       "3  i have some hip pain 9 weeks. had mra image re...   \n",
       "4  i have some hip pain 9 weeks. had mra image re...   \n",
       "5  i have some hip pain 9 weeks. had mra image re...   \n",
       "6  i have some hip pain 9 weeks. had mra image re...   \n",
       "7  i developed breathing difficulties approx 2 ye...   \n",
       "8  i developed breathing difficulties approx 2 ye...   \n",
       "9  i developed breathing difficulties approx 2 ye...   \n",
       "\n",
       "                                       question_text  \\\n",
       "0     Is my Anti Hiv Test Conclusive or need retest?   \n",
       "1     Is my Anti Hiv Test Conclusive or need retest?   \n",
       "2     Is my Anti Hiv Test Conclusive or need retest?   \n",
       "3  I have some hip pain 9 weeks. Had MRA image re...   \n",
       "4  I have some hip pain 9 weeks. Had MRA image re...   \n",
       "5  I have some hip pain 9 weeks. Had MRA image re...   \n",
       "6  I have some hip pain 9 weeks. Had MRA image re...   \n",
       "7  I developed breathing difficulties approx 2 ye...   \n",
       "8  I developed breathing difficulties approx 2 ye...   \n",
       "9  I developed breathing difficulties approx 2 ye...   \n",
       "\n",
       "                                     tags  \\\n",
       "0                              [hiv test]   \n",
       "1                              [hiv test]   \n",
       "2                              [hiv test]   \n",
       "3  [magnetic resonance angiography (mra)]   \n",
       "4  [magnetic resonance angiography (mra)]   \n",
       "5  [magnetic resonance angiography (mra)]   \n",
       "6  [magnetic resonance angiography (mra)]   \n",
       "7                      [hyperventilation]   \n",
       "8                      [hyperventilation]   \n",
       "9                      [hyperventilation]   \n",
       "\n",
       "                                                 url  \n",
       "0  https://questiondoctors.com/is-my-anti-hiv-tes...  \n",
       "1  https://questiondoctors.com/is-my-anti-hiv-tes...  \n",
       "2  https://questiondoctors.com/is-my-anti-hiv-tes...  \n",
       "3  https://questiondoctors.com/i-have-some-hip-pa...  \n",
       "4  https://questiondoctors.com/i-have-some-hip-pa...  \n",
       "5  https://questiondoctors.com/i-have-some-hip-pa...  \n",
       "6  https://questiondoctors.com/i-have-some-hip-pa...  \n",
       "7  https://questiondoctors.com/i-developed-breath...  \n",
       "8  https://questiondoctors.com/i-developed-breath...  \n",
       "9  https://questiondoctors.com/i-developed-breath...  "
      ]
     },
     "execution_count": 114,
     "metadata": {},
     "output_type": "execute_result"
    }
   ],
   "source": [
    "questionDoctorQAs.head(10)"
   ]
  },
  {
   "cell_type": "code",
   "execution_count": 113,
   "metadata": {},
   "outputs": [
    {
     "data": {
      "text/html": [
       "<div>\n",
       "<style scoped>\n",
       "    .dataframe tbody tr th:only-of-type {\n",
       "        vertical-align: middle;\n",
       "    }\n",
       "\n",
       "    .dataframe tbody tr th {\n",
       "        vertical-align: top;\n",
       "    }\n",
       "\n",
       "    .dataframe thead th {\n",
       "        text-align: right;\n",
       "    }\n",
       "</style>\n",
       "<table border=\"1\" class=\"dataframe\">\n",
       "  <thead>\n",
       "    <tr style=\"text-align: right;\">\n",
       "      <th></th>\n",
       "      <th>answer</th>\n",
       "      <th>question</th>\n",
       "      <th>url</th>\n",
       "      <th>tags</th>\n",
       "    </tr>\n",
       "  </thead>\n",
       "  <tbody>\n",
       "    <tr>\n",
       "      <th>0</th>\n",
       "      <td>stopping smoking is about will power and being...</td>\n",
       "      <td>how do i stop smoking now</td>\n",
       "      <td>http://ehealthforum.com/health/stop-smoking-qu...</td>\n",
       "      <td>[addiction, stop smoking]</td>\n",
       "    </tr>\n",
       "    <tr>\n",
       "      <th>1</th>\n",
       "      <td>hello this sounds quite unfamiliar that due to...</td>\n",
       "      <td>i had a tubaligation 4 years ago and also have...</td>\n",
       "      <td>http://ehealthforum.com/health/endometriosis-q...</td>\n",
       "      <td>[pregnancy, diet, endometriosis]</td>\n",
       "    </tr>\n",
       "    <tr>\n",
       "      <th>2</th>\n",
       "      <td>extra caffeine can cause gastric discomfort th...</td>\n",
       "      <td>could extra caffeine consumption be a cause of...</td>\n",
       "      <td>http://ehealthforum.com/health/caffeine-consum...</td>\n",
       "      <td>[breast cancer, cancer, breasts]</td>\n",
       "    </tr>\n",
       "    <tr>\n",
       "      <th>3</th>\n",
       "      <td>hello thanks for submitting your question here...</td>\n",
       "      <td>hello- i am a 24 year old female 5\"4 &amp; 115 lb ...</td>\n",
       "      <td>http://ehealthforum.com/health/pcos-one-ovary-...</td>\n",
       "      <td>[hair loss, diet, acne, ovulation and ovaries]</td>\n",
       "    </tr>\n",
       "    <tr>\n",
       "      <th>4</th>\n",
       "      <td>i am glad to help you out. this is not possibl...</td>\n",
       "      <td>i was wanting to know if you could tell me if ...</td>\n",
       "      <td>http://ehealthforum.com/health/not-knowing-you...</td>\n",
       "      <td>[am i pregnant, pregnant, urine pregnancy test...</td>\n",
       "    </tr>\n",
       "    <tr>\n",
       "      <th>5</th>\n",
       "      <td>you are not alone. you should consider expert ...</td>\n",
       "      <td>i have been taking methadose and oxycotin ille...</td>\n",
       "      <td>http://ehealthforum.com/health/topic51352.html</td>\n",
       "      <td>[addiction, recovery]</td>\n",
       "    </tr>\n",
       "    <tr>\n",
       "      <th>6</th>\n",
       "      <td>it is difficult to analyse your situation with...</td>\n",
       "      <td>i need help i drink every night and think that...</td>\n",
       "      <td>http://ehealthforum.com/health/i-need-help-i-d...</td>\n",
       "      <td>[depression, addiction, recovery]</td>\n",
       "    </tr>\n",
       "    <tr>\n",
       "      <th>7</th>\n",
       "      <td>given the description you could be experiencin...</td>\n",
       "      <td>i have had a lot of trouble getting off of nar...</td>\n",
       "      <td>http://ehealthforum.com/health/topic84923.html</td>\n",
       "      <td>[withdrawal, narcotics, drug addiction treatme...</td>\n",
       "    </tr>\n",
       "    <tr>\n",
       "      <th>8</th>\n",
       "      <td>it does not take much force at all to crush th...</td>\n",
       "      <td>hi. my name is roberto writing from italy. i w...</td>\n",
       "      <td>http://ehealthforum.com/health/clinical-trials...</td>\n",
       "      <td>[clinical trials, research, and studies]</td>\n",
       "    </tr>\n",
       "    <tr>\n",
       "      <th>9</th>\n",
       "      <td>medicines that contain iron like tonoferon usu...</td>\n",
       "      <td>the stool color is black (not loose) - is the ...</td>\n",
       "      <td>http://ehealthforum.com/health/topic124662.html</td>\n",
       "      <td>[general community chat]</td>\n",
       "    </tr>\n",
       "  </tbody>\n",
       "</table>\n",
       "</div>"
      ],
      "text/plain": [
       "                                              answer  \\\n",
       "0  stopping smoking is about will power and being...   \n",
       "1  hello this sounds quite unfamiliar that due to...   \n",
       "2  extra caffeine can cause gastric discomfort th...   \n",
       "3  hello thanks for submitting your question here...   \n",
       "4  i am glad to help you out. this is not possibl...   \n",
       "5  you are not alone. you should consider expert ...   \n",
       "6  it is difficult to analyse your situation with...   \n",
       "7  given the description you could be experiencin...   \n",
       "8  it does not take much force at all to crush th...   \n",
       "9  medicines that contain iron like tonoferon usu...   \n",
       "\n",
       "                                            question  \\\n",
       "0                          how do i stop smoking now   \n",
       "1  i had a tubaligation 4 years ago and also have...   \n",
       "2  could extra caffeine consumption be a cause of...   \n",
       "3  hello- i am a 24 year old female 5\"4 & 115 lb ...   \n",
       "4  i was wanting to know if you could tell me if ...   \n",
       "5  i have been taking methadose and oxycotin ille...   \n",
       "6  i need help i drink every night and think that...   \n",
       "7  i have had a lot of trouble getting off of nar...   \n",
       "8  hi. my name is roberto writing from italy. i w...   \n",
       "9  the stool color is black (not loose) - is the ...   \n",
       "\n",
       "                                                 url  \\\n",
       "0  http://ehealthforum.com/health/stop-smoking-qu...   \n",
       "1  http://ehealthforum.com/health/endometriosis-q...   \n",
       "2  http://ehealthforum.com/health/caffeine-consum...   \n",
       "3  http://ehealthforum.com/health/pcos-one-ovary-...   \n",
       "4  http://ehealthforum.com/health/not-knowing-you...   \n",
       "5     http://ehealthforum.com/health/topic51352.html   \n",
       "6  http://ehealthforum.com/health/i-need-help-i-d...   \n",
       "7     http://ehealthforum.com/health/topic84923.html   \n",
       "8  http://ehealthforum.com/health/clinical-trials...   \n",
       "9    http://ehealthforum.com/health/topic124662.html   \n",
       "\n",
       "                                                tags  \n",
       "0                          [addiction, stop smoking]  \n",
       "1                   [pregnancy, diet, endometriosis]  \n",
       "2                   [breast cancer, cancer, breasts]  \n",
       "3     [hair loss, diet, acne, ovulation and ovaries]  \n",
       "4  [am i pregnant, pregnant, urine pregnancy test...  \n",
       "5                              [addiction, recovery]  \n",
       "6                  [depression, addiction, recovery]  \n",
       "7  [withdrawal, narcotics, drug addiction treatme...  \n",
       "8           [clinical trials, research, and studies]  \n",
       "9                           [general community chat]  "
      ]
     },
     "execution_count": 113,
     "metadata": {},
     "output_type": "execute_result"
    }
   ],
   "source": [
    "ehealth.head(10)"
   ]
  },
  {
   "cell_type": "code",
   "execution_count": 112,
   "metadata": {},
   "outputs": [
    {
     "data": {
      "text/html": [
       "<div>\n",
       "<style scoped>\n",
       "    .dataframe tbody tr th:only-of-type {\n",
       "        vertical-align: middle;\n",
       "    }\n",
       "\n",
       "    .dataframe tbody tr th {\n",
       "        vertical-align: top;\n",
       "    }\n",
       "\n",
       "    .dataframe thead th {\n",
       "        text-align: right;\n",
       "    }\n",
       "</style>\n",
       "<table border=\"1\" class=\"dataframe\">\n",
       "  <thead>\n",
       "    <tr style=\"text-align: right;\">\n",
       "      <th></th>\n",
       "      <th>answer</th>\n",
       "      <th>question</th>\n",
       "      <th>question_text</th>\n",
       "      <th>tags</th>\n",
       "      <th>url</th>\n",
       "    </tr>\n",
       "  </thead>\n",
       "  <tbody>\n",
       "    <tr>\n",
       "      <th>0</th>\n",
       "      <td>from your description it appears that you may ...</td>\n",
       "      <td>is it fine to exercise with knee pain?</td>\n",
       "      <td>\\r\\n\\r\\n\\r\\n\\t\\t\\t\\t\\tHi doctor,\\nI am a 24 ye...</td>\n",
       "      <td>[exercises]</td>\n",
       "      <td>https://www.icliniq.com/qa/knee-pain/is-it-fin...</td>\n",
       "    </tr>\n",
       "    <tr>\n",
       "      <th>1</th>\n",
       "      <td>depression anxiety restlessness and panic atta...</td>\n",
       "      <td>suffering from anxiety restlessness and taking...</td>\n",
       "      <td>\\r\\n\\r\\n\\r\\n\\t\\t\\t\\t\\tDear Doctor,\\nI am suffe...</td>\n",
       "      <td>[anxiety]</td>\n",
       "      <td>https://www.icliniq.com/qa/anxiety/suffering-f...</td>\n",
       "    </tr>\n",
       "    <tr>\n",
       "      <th>2</th>\n",
       "      <td>patients with hypothyroidism usually gain weig...</td>\n",
       "      <td>can a thyroid patient eat soybean and fenugreek?</td>\n",
       "      <td>\\r\\n\\r\\n\\r\\n\\t\\t\\t\\t\\tHi doctor,I am a 23 year...</td>\n",
       "      <td>[hypothyroidism]</td>\n",
       "      <td>https://www.icliniq.com/qa/thyroid-problem/can...</td>\n",
       "    </tr>\n",
       "    <tr>\n",
       "      <th>3</th>\n",
       "      <td>fenugreek seed cannot affect your fertility do...</td>\n",
       "      <td>i am not getting my periods after taking fenug...</td>\n",
       "      <td>\\r\\n\\r\\n\\r\\n\\t\\t\\t\\t\\tHi doctor,\\nI am a 23 ye...</td>\n",
       "      <td>[delayed period]</td>\n",
       "      <td>https://www.icliniq.com/qa/missed-period/i-am-...</td>\n",
       "    </tr>\n",
       "    <tr>\n",
       "      <th>4</th>\n",
       "      <td>your problem is a characteristic of cholinergi...</td>\n",
       "      <td>kindly suggest me a therapy to overcome heat a...</td>\n",
       "      <td>\\r\\n\\r\\n\\r\\n\\t\\t\\t\\t\\tHello doctor,\\nFrom one ...</td>\n",
       "      <td>[levocetirizine]</td>\n",
       "      <td>https://www.icliniq.com/qa/cholinergic-urticar...</td>\n",
       "    </tr>\n",
       "    <tr>\n",
       "      <th>5</th>\n",
       "      <td>how are you doing? sorry to hear what you have...</td>\n",
       "      <td>can taking multiple antibiotics cause redness ...</td>\n",
       "      <td>\\r\\n\\r\\n\\r\\n\\t\\t\\t\\t\\tHello doctor,\\nEver sinc...</td>\n",
       "      <td>[antibiotics]</td>\n",
       "      <td>https://www.icliniq.com/qa/dryness-of-vagina/c...</td>\n",
       "    </tr>\n",
       "    <tr>\n",
       "      <th>6</th>\n",
       "      <td>thank you for the detailed information. i am h...</td>\n",
       "      <td>other than baclofen which medicine can be used...</td>\n",
       "      <td>\\r\\n\\r\\n\\r\\n\\t\\t\\t\\t\\tHi doctor,\\nMy dad is wi...</td>\n",
       "      <td>[physiotherapy]</td>\n",
       "      <td>https://www.icliniq.com/qa/muscle-stiffness/ot...</td>\n",
       "    </tr>\n",
       "    <tr>\n",
       "      <th>7</th>\n",
       "      <td>i read through your query and understood your ...</td>\n",
       "      <td>my fiance is having diabetes type 2. will she ...</td>\n",
       "      <td>\\r\\n\\r\\n\\r\\n\\t\\t\\t\\t\\tHello,\\nMy fiance is hav...</td>\n",
       "      <td>[diabetes]</td>\n",
       "      <td>https://www.icliniq.com/qa/type-2-diabetes-mel...</td>\n",
       "    </tr>\n",
       "    <tr>\n",
       "      <th>8</th>\n",
       "      <td>in your paternal family is there any history o...</td>\n",
       "      <td>one of the hairs in eyebrow has changed to blo...</td>\n",
       "      <td>\\r\\n\\r\\n\\r\\n\\t\\t\\t\\t\\tHi doctor,\\nI am a 24 ye...</td>\n",
       "      <td>[vitiligo]</td>\n",
       "      <td>https://www.icliniq.com/qa/vitiligo/one-of-the...</td>\n",
       "    </tr>\n",
       "    <tr>\n",
       "      <th>9</th>\n",
       "      <td>i can understand your concern regarding your s...</td>\n",
       "      <td>my son has severe constipation after taking pa...</td>\n",
       "      <td>\\r\\n\\r\\n\\r\\n\\t\\t\\t\\t\\tHi doctor,\\nI have a twe...</td>\n",
       "      <td>[constipation]</td>\n",
       "      <td>https://www.icliniq.com/qa/constipation/my-son...</td>\n",
       "    </tr>\n",
       "  </tbody>\n",
       "</table>\n",
       "</div>"
      ],
      "text/plain": [
       "                                              answer  \\\n",
       "0  from your description it appears that you may ...   \n",
       "1  depression anxiety restlessness and panic atta...   \n",
       "2  patients with hypothyroidism usually gain weig...   \n",
       "3  fenugreek seed cannot affect your fertility do...   \n",
       "4  your problem is a characteristic of cholinergi...   \n",
       "5  how are you doing? sorry to hear what you have...   \n",
       "6  thank you for the detailed information. i am h...   \n",
       "7  i read through your query and understood your ...   \n",
       "8  in your paternal family is there any history o...   \n",
       "9  i can understand your concern regarding your s...   \n",
       "\n",
       "                                            question  \\\n",
       "0             is it fine to exercise with knee pain?   \n",
       "1  suffering from anxiety restlessness and taking...   \n",
       "2   can a thyroid patient eat soybean and fenugreek?   \n",
       "3  i am not getting my periods after taking fenug...   \n",
       "4  kindly suggest me a therapy to overcome heat a...   \n",
       "5  can taking multiple antibiotics cause redness ...   \n",
       "6  other than baclofen which medicine can be used...   \n",
       "7  my fiance is having diabetes type 2. will she ...   \n",
       "8  one of the hairs in eyebrow has changed to blo...   \n",
       "9  my son has severe constipation after taking pa...   \n",
       "\n",
       "                                       question_text              tags  \\\n",
       "0  \\r\\n\\r\\n\\r\\n\\t\\t\\t\\t\\tHi doctor,\\nI am a 24 ye...       [exercises]   \n",
       "1  \\r\\n\\r\\n\\r\\n\\t\\t\\t\\t\\tDear Doctor,\\nI am suffe...         [anxiety]   \n",
       "2  \\r\\n\\r\\n\\r\\n\\t\\t\\t\\t\\tHi doctor,I am a 23 year...  [hypothyroidism]   \n",
       "3  \\r\\n\\r\\n\\r\\n\\t\\t\\t\\t\\tHi doctor,\\nI am a 23 ye...  [delayed period]   \n",
       "4  \\r\\n\\r\\n\\r\\n\\t\\t\\t\\t\\tHello doctor,\\nFrom one ...  [levocetirizine]   \n",
       "5  \\r\\n\\r\\n\\r\\n\\t\\t\\t\\t\\tHello doctor,\\nEver sinc...     [antibiotics]   \n",
       "6  \\r\\n\\r\\n\\r\\n\\t\\t\\t\\t\\tHi doctor,\\nMy dad is wi...   [physiotherapy]   \n",
       "7  \\r\\n\\r\\n\\r\\n\\t\\t\\t\\t\\tHello,\\nMy fiance is hav...        [diabetes]   \n",
       "8  \\r\\n\\r\\n\\r\\n\\t\\t\\t\\t\\tHi doctor,\\nI am a 24 ye...        [vitiligo]   \n",
       "9  \\r\\n\\r\\n\\r\\n\\t\\t\\t\\t\\tHi doctor,\\nI have a twe...    [constipation]   \n",
       "\n",
       "                                                 url  \n",
       "0  https://www.icliniq.com/qa/knee-pain/is-it-fin...  \n",
       "1  https://www.icliniq.com/qa/anxiety/suffering-f...  \n",
       "2  https://www.icliniq.com/qa/thyroid-problem/can...  \n",
       "3  https://www.icliniq.com/qa/missed-period/i-am-...  \n",
       "4  https://www.icliniq.com/qa/cholinergic-urticar...  \n",
       "5  https://www.icliniq.com/qa/dryness-of-vagina/c...  \n",
       "6  https://www.icliniq.com/qa/muscle-stiffness/ot...  \n",
       "7  https://www.icliniq.com/qa/type-2-diabetes-mel...  \n",
       "8  https://www.icliniq.com/qa/vitiligo/one-of-the...  \n",
       "9  https://www.icliniq.com/qa/constipation/my-son...  "
      ]
     },
     "execution_count": 112,
     "metadata": {},
     "output_type": "execute_result"
    }
   ],
   "source": [
    "icliniqQAs.head(10)"
   ]
  },
  {
   "attachments": {},
   "cell_type": "markdown",
   "metadata": {},
   "source": [
    "Alright, we need to combine all the datasets to one for training and testing. Let's say it is all_QA data"
   ]
  },
  {
   "cell_type": "code",
   "execution_count": 8,
   "metadata": {},
   "outputs": [],
   "source": [
    "con_QAs = [icliniqQAs.loc[:,[\"question\", \"answer\", \"tags\"]],questionDoctorQAs.loc[:,[\"question\", \"answer\", \"tags\"]],ehealth.loc[:,[\"question\", \"answer\", \"tags\"]],webmdQAs.loc[:,[\"question\", \"answer\", \"tags\"]]]"
   ]
  },
  {
   "cell_type": "code",
   "execution_count": 111,
   "metadata": {},
   "outputs": [
    {
     "data": {
      "text/html": [
       "<div>\n",
       "<style scoped>\n",
       "    .dataframe tbody tr th:only-of-type {\n",
       "        vertical-align: middle;\n",
       "    }\n",
       "\n",
       "    .dataframe tbody tr th {\n",
       "        vertical-align: top;\n",
       "    }\n",
       "\n",
       "    .dataframe thead th {\n",
       "        text-align: right;\n",
       "    }\n",
       "</style>\n",
       "<table border=\"1\" class=\"dataframe\">\n",
       "  <thead>\n",
       "    <tr style=\"text-align: right;\">\n",
       "      <th></th>\n",
       "      <th>question</th>\n",
       "      <th>answer</th>\n",
       "      <th>tags</th>\n",
       "    </tr>\n",
       "  </thead>\n",
       "  <tbody>\n",
       "    <tr>\n",
       "      <th>0</th>\n",
       "      <td>is it fine to exercise with knee pain?</td>\n",
       "      <td>from your description it appears that you may ...</td>\n",
       "      <td>[exercises]</td>\n",
       "    </tr>\n",
       "    <tr>\n",
       "      <th>1</th>\n",
       "      <td>suffering from anxiety restlessness and taking...</td>\n",
       "      <td>depression anxiety restlessness and panic atta...</td>\n",
       "      <td>[anxiety]</td>\n",
       "    </tr>\n",
       "    <tr>\n",
       "      <th>2</th>\n",
       "      <td>can a thyroid patient eat soybean and fenugreek?</td>\n",
       "      <td>patients with hypothyroidism usually gain weig...</td>\n",
       "      <td>[hypothyroidism]</td>\n",
       "    </tr>\n",
       "    <tr>\n",
       "      <th>3</th>\n",
       "      <td>i am not getting my periods after taking fenug...</td>\n",
       "      <td>fenugreek seed cannot affect your fertility do...</td>\n",
       "      <td>[delayed period]</td>\n",
       "    </tr>\n",
       "    <tr>\n",
       "      <th>4</th>\n",
       "      <td>kindly suggest me a therapy to overcome heat a...</td>\n",
       "      <td>your problem is a characteristic of cholinergi...</td>\n",
       "      <td>[levocetirizine]</td>\n",
       "    </tr>\n",
       "    <tr>\n",
       "      <th>5</th>\n",
       "      <td>can taking multiple antibiotics cause redness ...</td>\n",
       "      <td>how are you doing? sorry to hear what you have...</td>\n",
       "      <td>[antibiotics]</td>\n",
       "    </tr>\n",
       "    <tr>\n",
       "      <th>6</th>\n",
       "      <td>other than baclofen which medicine can be used...</td>\n",
       "      <td>thank you for the detailed information. i am h...</td>\n",
       "      <td>[physiotherapy]</td>\n",
       "    </tr>\n",
       "    <tr>\n",
       "      <th>7</th>\n",
       "      <td>my fiance is having diabetes type 2. will she ...</td>\n",
       "      <td>i read through your query and understood your ...</td>\n",
       "      <td>[diabetes]</td>\n",
       "    </tr>\n",
       "    <tr>\n",
       "      <th>8</th>\n",
       "      <td>one of the hairs in eyebrow has changed to blo...</td>\n",
       "      <td>in your paternal family is there any history o...</td>\n",
       "      <td>[vitiligo]</td>\n",
       "    </tr>\n",
       "    <tr>\n",
       "      <th>9</th>\n",
       "      <td>my son has severe constipation after taking pa...</td>\n",
       "      <td>i can understand your concern regarding your s...</td>\n",
       "      <td>[constipation]</td>\n",
       "    </tr>\n",
       "  </tbody>\n",
       "</table>\n",
       "</div>"
      ],
      "text/plain": [
       "                                            question  \\\n",
       "0             is it fine to exercise with knee pain?   \n",
       "1  suffering from anxiety restlessness and taking...   \n",
       "2   can a thyroid patient eat soybean and fenugreek?   \n",
       "3  i am not getting my periods after taking fenug...   \n",
       "4  kindly suggest me a therapy to overcome heat a...   \n",
       "5  can taking multiple antibiotics cause redness ...   \n",
       "6  other than baclofen which medicine can be used...   \n",
       "7  my fiance is having diabetes type 2. will she ...   \n",
       "8  one of the hairs in eyebrow has changed to blo...   \n",
       "9  my son has severe constipation after taking pa...   \n",
       "\n",
       "                                              answer              tags  \n",
       "0  from your description it appears that you may ...       [exercises]  \n",
       "1  depression anxiety restlessness and panic atta...         [anxiety]  \n",
       "2  patients with hypothyroidism usually gain weig...  [hypothyroidism]  \n",
       "3  fenugreek seed cannot affect your fertility do...  [delayed period]  \n",
       "4  your problem is a characteristic of cholinergi...  [levocetirizine]  \n",
       "5  how are you doing? sorry to hear what you have...     [antibiotics]  \n",
       "6  thank you for the detailed information. i am h...   [physiotherapy]  \n",
       "7  i read through your query and understood your ...        [diabetes]  \n",
       "8  in your paternal family is there any history o...        [vitiligo]  \n",
       "9  i can understand your concern regarding your s...    [constipation]  "
      ]
     },
     "execution_count": 111,
     "metadata": {},
     "output_type": "execute_result"
    }
   ],
   "source": [
    "all_QA = pd.concat(con_QAs, ignore_index = True)\n",
    "all_QA.head(10)"
   ]
  },
  {
   "cell_type": "code",
   "execution_count": 110,
   "metadata": {},
   "outputs": [
    {
     "data": {
      "text/html": [
       "<div>\n",
       "<style scoped>\n",
       "    .dataframe tbody tr th:only-of-type {\n",
       "        vertical-align: middle;\n",
       "    }\n",
       "\n",
       "    .dataframe tbody tr th {\n",
       "        vertical-align: top;\n",
       "    }\n",
       "\n",
       "    .dataframe thead th {\n",
       "        text-align: right;\n",
       "    }\n",
       "</style>\n",
       "<table border=\"1\" class=\"dataframe\">\n",
       "  <thead>\n",
       "    <tr style=\"text-align: right;\">\n",
       "      <th></th>\n",
       "      <th>question</th>\n",
       "      <th>answer</th>\n",
       "      <th>tags</th>\n",
       "      <th>context</th>\n",
       "      <th>preprocessed_question</th>\n",
       "      <th>preprocessed_answer</th>\n",
       "      <th>question_len</th>\n",
       "      <th>answer_len</th>\n",
       "      <th>truncated_question</th>\n",
       "      <th>truncated_answer</th>\n",
       "      <th>tags_100</th>\n",
       "    </tr>\n",
       "  </thead>\n",
       "  <tbody>\n",
       "    <tr>\n",
       "      <th>0</th>\n",
       "      <td>is it fine to exercise with knee pain?</td>\n",
       "      <td>from your description it appears that you may ...</td>\n",
       "      <td>[exercises]</td>\n",
       "      <td>is it fine to exercise with knee pain? from yo...</td>\n",
       "      <td>is it fine to exercise with knee pain</td>\n",
       "      <td>from your description it appears that you may ...</td>\n",
       "      <td>8</td>\n",
       "      <td>90</td>\n",
       "      <td>is it fine to exercise with knee pain</td>\n",
       "      <td>from your description it appears that you may ...</td>\n",
       "      <td>[]</td>\n",
       "    </tr>\n",
       "    <tr>\n",
       "      <th>1</th>\n",
       "      <td>suffering from anxiety restlessness and taking...</td>\n",
       "      <td>depression anxiety restlessness and panic atta...</td>\n",
       "      <td>[anxiety]</td>\n",
       "      <td>suffering from anxiety restlessness and taking...</td>\n",
       "      <td>suffering from anxiety restlessness and taking...</td>\n",
       "      <td>depression anxiety restlessness and panic atta...</td>\n",
       "      <td>24</td>\n",
       "      <td>109</td>\n",
       "      <td>suffering from anxiety restlessness and taking...</td>\n",
       "      <td>depression anxiety restlessness and panic atta...</td>\n",
       "      <td>[anxiety]</td>\n",
       "    </tr>\n",
       "    <tr>\n",
       "      <th>2</th>\n",
       "      <td>can a thyroid patient eat soybean and fenugreek?</td>\n",
       "      <td>patients with hypothyroidism usually gain weig...</td>\n",
       "      <td>[hypothyroidism]</td>\n",
       "      <td>can a thyroid patient eat soybean and fenugree...</td>\n",
       "      <td>can a thyroid patient eat soybean and fenugreek</td>\n",
       "      <td>patients with hypothyroidism usually gain weig...</td>\n",
       "      <td>8</td>\n",
       "      <td>88</td>\n",
       "      <td>can a thyroid patient eat soybean and fenugreek</td>\n",
       "      <td>patients with hypothyroidism usually gain weig...</td>\n",
       "      <td>[]</td>\n",
       "    </tr>\n",
       "    <tr>\n",
       "      <th>3</th>\n",
       "      <td>i am not getting my periods after taking fenug...</td>\n",
       "      <td>fenugreek seed cannot affect your fertility do...</td>\n",
       "      <td>[delayed period]</td>\n",
       "      <td>i am not getting my periods after taking fenug...</td>\n",
       "      <td>i am not getting my periods after taking fenug...</td>\n",
       "      <td>fenugreek seed cannot affect your fertility do...</td>\n",
       "      <td>11</td>\n",
       "      <td>40</td>\n",
       "      <td>i am not getting my periods after taking fenug...</td>\n",
       "      <td>fenugreek seed cannot affect your fertility do...</td>\n",
       "      <td>[]</td>\n",
       "    </tr>\n",
       "    <tr>\n",
       "      <th>4</th>\n",
       "      <td>kindly suggest me a therapy to overcome heat a...</td>\n",
       "      <td>your problem is a characteristic of cholinergi...</td>\n",
       "      <td>[levocetirizine]</td>\n",
       "      <td>kindly suggest me a therapy to overcome heat a...</td>\n",
       "      <td>kindly suggest me a therapy to overcome heat a...</td>\n",
       "      <td>your problem is a characteristic of cholinergi...</td>\n",
       "      <td>9</td>\n",
       "      <td>118</td>\n",
       "      <td>kindly suggest me a therapy to overcome heat a...</td>\n",
       "      <td>your problem is a characteristic of cholinergi...</td>\n",
       "      <td>[]</td>\n",
       "    </tr>\n",
       "    <tr>\n",
       "      <th>5</th>\n",
       "      <td>can taking multiple antibiotics cause redness ...</td>\n",
       "      <td>how are you doing? sorry to hear what you have...</td>\n",
       "      <td>[antibiotics]</td>\n",
       "      <td>can taking multiple antibiotics cause redness ...</td>\n",
       "      <td>can taking multiple antibiotics cause redness ...</td>\n",
       "      <td>how are you doing sorry to hear what you have ...</td>\n",
       "      <td>10</td>\n",
       "      <td>278</td>\n",
       "      <td>can taking multiple antibiotics cause redness ...</td>\n",
       "      <td>how are you doing sorry to hear what you have ...</td>\n",
       "      <td>[]</td>\n",
       "    </tr>\n",
       "    <tr>\n",
       "      <th>6</th>\n",
       "      <td>other than baclofen which medicine can be used...</td>\n",
       "      <td>thank you for the detailed information. i am h...</td>\n",
       "      <td>[physiotherapy]</td>\n",
       "      <td>other than baclofen which medicine can be used...</td>\n",
       "      <td>other than baclofen which medicine can be used...</td>\n",
       "      <td>thank you for the detailed information i am ha...</td>\n",
       "      <td>11</td>\n",
       "      <td>210</td>\n",
       "      <td>other than baclofen which medicine can be used...</td>\n",
       "      <td>thank you for the detailed information i am ha...</td>\n",
       "      <td>[]</td>\n",
       "    </tr>\n",
       "    <tr>\n",
       "      <th>7</th>\n",
       "      <td>my fiance is having diabetes type 2. will she ...</td>\n",
       "      <td>i read through your query and understood your ...</td>\n",
       "      <td>[diabetes]</td>\n",
       "      <td>my fiance is having diabetes type 2. will she ...</td>\n",
       "      <td>my fiance is having diabetes type 2 will she f...</td>\n",
       "      <td>i read through your query and understood your ...</td>\n",
       "      <td>14</td>\n",
       "      <td>182</td>\n",
       "      <td>my fiance is having diabetes type 2 will she f...</td>\n",
       "      <td>i read through your query and understood your ...</td>\n",
       "      <td>[]</td>\n",
       "    </tr>\n",
       "    <tr>\n",
       "      <th>8</th>\n",
       "      <td>one of the hairs in eyebrow has changed to blo...</td>\n",
       "      <td>in your paternal family is there any history o...</td>\n",
       "      <td>[vitiligo]</td>\n",
       "      <td>one of the hairs in eyebrow has changed to blo...</td>\n",
       "      <td>one of the hairs in eyebrow has changed to blo...</td>\n",
       "      <td>in your paternal family is there any history o...</td>\n",
       "      <td>13</td>\n",
       "      <td>107</td>\n",
       "      <td>one of the hairs in eyebrow has changed to blo...</td>\n",
       "      <td>in your paternal family is there any history o...</td>\n",
       "      <td>[]</td>\n",
       "    </tr>\n",
       "    <tr>\n",
       "      <th>9</th>\n",
       "      <td>my son has severe constipation after taking pa...</td>\n",
       "      <td>i can understand your concern regarding your s...</td>\n",
       "      <td>[constipation]</td>\n",
       "      <td>my son has severe constipation after taking pa...</td>\n",
       "      <td>my son has severe constipation after taking pa...</td>\n",
       "      <td>i can understand your concern regarding your s...</td>\n",
       "      <td>10</td>\n",
       "      <td>99</td>\n",
       "      <td>my son has severe constipation after taking pa...</td>\n",
       "      <td>i can understand your concern regarding your s...</td>\n",
       "      <td>[]</td>\n",
       "    </tr>\n",
       "  </tbody>\n",
       "</table>\n",
       "</div>"
      ],
      "text/plain": [
       "                                            question  \\\n",
       "0             is it fine to exercise with knee pain?   \n",
       "1  suffering from anxiety restlessness and taking...   \n",
       "2   can a thyroid patient eat soybean and fenugreek?   \n",
       "3  i am not getting my periods after taking fenug...   \n",
       "4  kindly suggest me a therapy to overcome heat a...   \n",
       "5  can taking multiple antibiotics cause redness ...   \n",
       "6  other than baclofen which medicine can be used...   \n",
       "7  my fiance is having diabetes type 2. will she ...   \n",
       "8  one of the hairs in eyebrow has changed to blo...   \n",
       "9  my son has severe constipation after taking pa...   \n",
       "\n",
       "                                              answer              tags  \\\n",
       "0  from your description it appears that you may ...       [exercises]   \n",
       "1  depression anxiety restlessness and panic atta...         [anxiety]   \n",
       "2  patients with hypothyroidism usually gain weig...  [hypothyroidism]   \n",
       "3  fenugreek seed cannot affect your fertility do...  [delayed period]   \n",
       "4  your problem is a characteristic of cholinergi...  [levocetirizine]   \n",
       "5  how are you doing? sorry to hear what you have...     [antibiotics]   \n",
       "6  thank you for the detailed information. i am h...   [physiotherapy]   \n",
       "7  i read through your query and understood your ...        [diabetes]   \n",
       "8  in your paternal family is there any history o...        [vitiligo]   \n",
       "9  i can understand your concern regarding your s...    [constipation]   \n",
       "\n",
       "                                             context  \\\n",
       "0  is it fine to exercise with knee pain? from yo...   \n",
       "1  suffering from anxiety restlessness and taking...   \n",
       "2  can a thyroid patient eat soybean and fenugree...   \n",
       "3  i am not getting my periods after taking fenug...   \n",
       "4  kindly suggest me a therapy to overcome heat a...   \n",
       "5  can taking multiple antibiotics cause redness ...   \n",
       "6  other than baclofen which medicine can be used...   \n",
       "7  my fiance is having diabetes type 2. will she ...   \n",
       "8  one of the hairs in eyebrow has changed to blo...   \n",
       "9  my son has severe constipation after taking pa...   \n",
       "\n",
       "                               preprocessed_question  \\\n",
       "0              is it fine to exercise with knee pain   \n",
       "1  suffering from anxiety restlessness and taking...   \n",
       "2    can a thyroid patient eat soybean and fenugreek   \n",
       "3  i am not getting my periods after taking fenug...   \n",
       "4  kindly suggest me a therapy to overcome heat a...   \n",
       "5  can taking multiple antibiotics cause redness ...   \n",
       "6  other than baclofen which medicine can be used...   \n",
       "7  my fiance is having diabetes type 2 will she f...   \n",
       "8  one of the hairs in eyebrow has changed to blo...   \n",
       "9  my son has severe constipation after taking pa...   \n",
       "\n",
       "                                 preprocessed_answer  question_len  \\\n",
       "0  from your description it appears that you may ...             8   \n",
       "1  depression anxiety restlessness and panic atta...            24   \n",
       "2  patients with hypothyroidism usually gain weig...             8   \n",
       "3  fenugreek seed cannot affect your fertility do...            11   \n",
       "4  your problem is a characteristic of cholinergi...             9   \n",
       "5  how are you doing sorry to hear what you have ...            10   \n",
       "6  thank you for the detailed information i am ha...            11   \n",
       "7  i read through your query and understood your ...            14   \n",
       "8  in your paternal family is there any history o...            13   \n",
       "9  i can understand your concern regarding your s...            10   \n",
       "\n",
       "   answer_len                                 truncated_question  \\\n",
       "0          90              is it fine to exercise with knee pain   \n",
       "1         109  suffering from anxiety restlessness and taking...   \n",
       "2          88    can a thyroid patient eat soybean and fenugreek   \n",
       "3          40  i am not getting my periods after taking fenug...   \n",
       "4         118  kindly suggest me a therapy to overcome heat a...   \n",
       "5         278  can taking multiple antibiotics cause redness ...   \n",
       "6         210  other than baclofen which medicine can be used...   \n",
       "7         182  my fiance is having diabetes type 2 will she f...   \n",
       "8         107  one of the hairs in eyebrow has changed to blo...   \n",
       "9          99  my son has severe constipation after taking pa...   \n",
       "\n",
       "                                    truncated_answer   tags_100  \n",
       "0  from your description it appears that you may ...         []  \n",
       "1  depression anxiety restlessness and panic atta...  [anxiety]  \n",
       "2  patients with hypothyroidism usually gain weig...         []  \n",
       "3  fenugreek seed cannot affect your fertility do...         []  \n",
       "4  your problem is a characteristic of cholinergi...         []  \n",
       "5  how are you doing sorry to hear what you have ...         []  \n",
       "6  thank you for the detailed information i am ha...         []  \n",
       "7  i read through your query and understood your ...         []  \n",
       "8  in your paternal family is there any history o...         []  \n",
       "9  i can understand your concern regarding your s...         []  "
      ]
     },
     "execution_count": 110,
     "metadata": {},
     "output_type": "execute_result"
    }
   ],
   "source": [
    "all_QA['question'] = all_QA['question'].str.strip()\n",
    "all_QA['answer'] = all_QA['answer'].str.strip()\n",
    "all_QA['context'] = all_QA['question'] + \" \" + all_QA['answer']\n",
    "all_QA.head(10)"
   ]
  },
  {
   "attachments": {},
   "cell_type": "markdown",
   "metadata": {},
   "source": [
    "## There are some contraction format in the Q and A, we need to replace them to the normal form"
   ]
  },
  {
   "cell_type": "code",
   "execution_count": 11,
   "metadata": {},
   "outputs": [
    {
     "data": {
      "text/html": [
       "<div>\n",
       "<style scoped>\n",
       "    .dataframe tbody tr th:only-of-type {\n",
       "        vertical-align: middle;\n",
       "    }\n",
       "\n",
       "    .dataframe tbody tr th {\n",
       "        vertical-align: top;\n",
       "    }\n",
       "\n",
       "    .dataframe thead th {\n",
       "        text-align: right;\n",
       "    }\n",
       "</style>\n",
       "<table border=\"1\" class=\"dataframe\">\n",
       "  <thead>\n",
       "    <tr style=\"text-align: right;\">\n",
       "      <th></th>\n",
       "      <th>question</th>\n",
       "      <th>answer</th>\n",
       "      <th>tags</th>\n",
       "      <th>context</th>\n",
       "      <th>preprocessed_question</th>\n",
       "      <th>preprocessed_answer</th>\n",
       "    </tr>\n",
       "  </thead>\n",
       "  <tbody>\n",
       "    <tr>\n",
       "      <th>0</th>\n",
       "      <td>is it fine to exercise with knee pain?</td>\n",
       "      <td>from your description it appears that you may ...</td>\n",
       "      <td>[exercises]</td>\n",
       "      <td>is it fine to exercise with knee pain? from yo...</td>\n",
       "      <td>is it fine to exercise with knee pain</td>\n",
       "      <td>from your description it appears that you may ...</td>\n",
       "    </tr>\n",
       "    <tr>\n",
       "      <th>1</th>\n",
       "      <td>suffering from anxiety restlessness and taking...</td>\n",
       "      <td>depression anxiety restlessness and panic atta...</td>\n",
       "      <td>[anxiety]</td>\n",
       "      <td>suffering from anxiety restlessness and taking...</td>\n",
       "      <td>suffering from anxiety restlessness and taking...</td>\n",
       "      <td>depression anxiety restlessness and panic atta...</td>\n",
       "    </tr>\n",
       "    <tr>\n",
       "      <th>2</th>\n",
       "      <td>can a thyroid patient eat soybean and fenugreek?</td>\n",
       "      <td>patients with hypothyroidism usually gain weig...</td>\n",
       "      <td>[hypothyroidism]</td>\n",
       "      <td>can a thyroid patient eat soybean and fenugree...</td>\n",
       "      <td>can a thyroid patient eat soybean and fenugreek</td>\n",
       "      <td>patients with hypothyroidism usually gain weig...</td>\n",
       "    </tr>\n",
       "    <tr>\n",
       "      <th>3</th>\n",
       "      <td>i am not getting my periods after taking fenug...</td>\n",
       "      <td>fenugreek seed cannot affect your fertility do...</td>\n",
       "      <td>[delayed period]</td>\n",
       "      <td>i am not getting my periods after taking fenug...</td>\n",
       "      <td>i am not getting my periods after taking fenug...</td>\n",
       "      <td>fenugreek seed cannot affect your fertility do...</td>\n",
       "    </tr>\n",
       "    <tr>\n",
       "      <th>4</th>\n",
       "      <td>kindly suggest me a therapy to overcome heat a...</td>\n",
       "      <td>your problem is a characteristic of cholinergi...</td>\n",
       "      <td>[levocetirizine]</td>\n",
       "      <td>kindly suggest me a therapy to overcome heat a...</td>\n",
       "      <td>kindly suggest me a therapy to overcome heat a...</td>\n",
       "      <td>your problem is a characteristic of cholinergi...</td>\n",
       "    </tr>\n",
       "  </tbody>\n",
       "</table>\n",
       "</div>"
      ],
      "text/plain": [
       "                                            question  \\\n",
       "0             is it fine to exercise with knee pain?   \n",
       "1  suffering from anxiety restlessness and taking...   \n",
       "2   can a thyroid patient eat soybean and fenugreek?   \n",
       "3  i am not getting my periods after taking fenug...   \n",
       "4  kindly suggest me a therapy to overcome heat a...   \n",
       "\n",
       "                                              answer              tags  \\\n",
       "0  from your description it appears that you may ...       [exercises]   \n",
       "1  depression anxiety restlessness and panic atta...         [anxiety]   \n",
       "2  patients with hypothyroidism usually gain weig...  [hypothyroidism]   \n",
       "3  fenugreek seed cannot affect your fertility do...  [delayed period]   \n",
       "4  your problem is a characteristic of cholinergi...  [levocetirizine]   \n",
       "\n",
       "                                             context  \\\n",
       "0  is it fine to exercise with knee pain? from yo...   \n",
       "1  suffering from anxiety restlessness and taking...   \n",
       "2  can a thyroid patient eat soybean and fenugree...   \n",
       "3  i am not getting my periods after taking fenug...   \n",
       "4  kindly suggest me a therapy to overcome heat a...   \n",
       "\n",
       "                               preprocessed_question  \\\n",
       "0              is it fine to exercise with knee pain   \n",
       "1  suffering from anxiety restlessness and taking...   \n",
       "2    can a thyroid patient eat soybean and fenugreek   \n",
       "3  i am not getting my periods after taking fenug...   \n",
       "4  kindly suggest me a therapy to overcome heat a...   \n",
       "\n",
       "                                 preprocessed_answer  \n",
       "0  from your description it appears that you may ...  \n",
       "1  depression anxiety restlessness and panic atta...  \n",
       "2  patients with hypothyroidism usually gain weig...  \n",
       "3  fenugreek seed cannot affect your fertility do...  \n",
       "4  your problem is a characteristic of cholinergi...  "
      ]
     },
     "execution_count": 11,
     "metadata": {},
     "output_type": "execute_result"
    }
   ],
   "source": [
    "import re\n",
    "#preprocessing questions and answers.\n",
    "def decontractions(phrase):\n",
    "    \"\"\"decontracted takes text and convert contractions into natural form.\n",
    "     ref: https://stackoverflow.com/questions/19790188/expanding-english-language-contractions-in-python/47091490#47091490\"\"\"\n",
    "    phrase = re.sub(r\"won\\'t\", \"will not\", phrase)\n",
    "    phrase = re.sub(r\"can\\'t\", \"can not\", phrase)\n",
    "    phrase = re.sub(r\"won\\’t\", \"will not\", phrase)\n",
    "    phrase = re.sub(r\"can\\’t\", \"can not\", phrase)\n",
    "    phrase = re.sub(r\"n\\'t\", \" not\", phrase)\n",
    "    phrase = re.sub(r\"\\'re\", \" are\", phrase)\n",
    "    phrase = re.sub(r\"\\'s\", \" is\", phrase)\n",
    "    phrase = re.sub(r\"\\'d\", \" would\", phrase)\n",
    "    phrase = re.sub(r\"\\'ll\", \" will\", phrase)\n",
    "    phrase = re.sub(r\"\\'t\", \" not\", phrase)\n",
    "    phrase = re.sub(r\"\\'ve\", \" have\", phrase)\n",
    "    phrase = re.sub(r\"\\'m\", \" am\", phrase)\n",
    "    phrase = re.sub(r\"<link>\", \"\", phrase)\n",
    "    phrase = re.sub(r\"n\\’t\", \" not\", phrase)\n",
    "    phrase = re.sub(r\"\\’re\", \" are\", phrase)\n",
    "    phrase = re.sub(r\"\\’s\", \" is\", phrase)\n",
    "    phrase = re.sub(r\"\\’d\", \" would\", phrase)\n",
    "    phrase = re.sub(r\"\\’ll\", \" will\", phrase)\n",
    "    phrase = re.sub(r\"\\’t\", \" not\", phrase)\n",
    "    phrase = re.sub(r\"\\’ve\", \" have\", phrase)\n",
    "    phrase = re.sub(r\"\\’m\", \" am\", phrase)\n",
    "\n",
    "    return phrase\n",
    "\n",
    "\n",
    "def preprocess(text):\n",
    "    # convert all the text into lower letters\n",
    "    # remove the words betweent brakets ()\n",
    "    # remove these characters: {'$', ')', '?', '\"', '’', '.',  '°', '!', ';', '/', \"'\", '€', '%', ':', ',', '('}\n",
    "    # replace these spl characters with space: '\\u200b', '\\xa0', '-', '/'\n",
    "    \n",
    "    text = text.lower()\n",
    "    text = text.strip()\n",
    "    text = decontractions(text)\n",
    "    text = re.sub('[$)\\?\"’.°!;\\'€%:,(/]', '', text)\n",
    "    text = re.sub('\\u200b', ' ', text)\n",
    "    text = re.sub('\\xa0', ' ', text)\n",
    "    text = re.sub('-', ' ', text)\n",
    "    text = re.sub('>','',text)\n",
    "    return text\n",
    "\n",
    "\n",
    "all_QA['preprocessed_question'] = all_QA['question'].apply(preprocess)\n",
    "all_QA['preprocessed_answer'] = all_QA['answer'].apply(preprocess)\n",
    "all_QA.head()"
   ]
  },
  {
   "cell_type": "code",
   "execution_count": 12,
   "metadata": {},
   "outputs": [],
   "source": [
    "all_QA['preprocessed_question'] = all_QA['preprocessed_question'].str.strip()\n",
    "all_QA['preprocessed_answer'] = all_QA['preprocessed_answer'].str.strip()\n",
    "all_QA['context'] = all_QA['preprocessed_question'] + all_QA['preprocessed_answer']"
   ]
  },
  {
   "attachments": {},
   "cell_type": "markdown",
   "metadata": {},
   "source": [
    "## Find the length of questions and answers. It is needed for training to reduce the memory for unnecessary tasks. Why? Because we will use BERT model and transfer it to our data. BERT (we is going to use) can handle max length of sequence of 512. If our data has shorter, we use need to reduce the max length. If we have longer, we may need to find other models that can take care of it or we must truncated our data (questions and answers)"
   ]
  },
  {
   "attachments": {},
   "cell_type": "markdown",
   "metadata": {},
   "source": [
    "We are looking for some statistics to see the length of questions and answers. It will give us some clues what to choose for max length of sentences."
   ]
  },
  {
   "cell_type": "code",
   "execution_count": 13,
   "metadata": {},
   "outputs": [],
   "source": [
    "\n",
    "\n",
    "#finding the lens of preprocessed questions and answers\n",
    "all_QA['question_len']=all_QA['preprocessed_question'].apply(lambda x: len(x.split(' ')))\n",
    "all_QA['answer_len']=all_QA['preprocessed_answer'].apply(lambda x: len(x.split(' ')))\n",
    "     \n"
   ]
  },
  {
   "cell_type": "markdown",
   "metadata": {},
   "source": [
    "Length of sentences by percentile"
   ]
  },
  {
   "cell_type": "code",
   "execution_count": 14,
   "metadata": {},
   "outputs": [
    {
     "data": {
      "text/plain": [
       "0.10      7.0\n",
       "0.25     11.0\n",
       "0.50     18.0\n",
       "0.75     49.0\n",
       "0.90     96.0\n",
       "0.99    124.0\n",
       "Name: question_len, dtype: float64"
      ]
     },
     "execution_count": 14,
     "metadata": {},
     "output_type": "execute_result"
    }
   ],
   "source": [
    "all_QA['question_len'].quantile([.1,.25,.50,.75,.90,.99])"
   ]
  },
  {
   "cell_type": "code",
   "execution_count": 15,
   "metadata": {},
   "outputs": [
    {
     "data": {
      "text/plain": [
       "425"
      ]
     },
     "execution_count": 15,
     "metadata": {},
     "output_type": "execute_result"
    }
   ],
   "source": [
    "all_QA['question_len'].max()"
   ]
  },
  {
   "cell_type": "code",
   "execution_count": 16,
   "metadata": {},
   "outputs": [
    {
     "data": {
      "text/plain": [
       "1333"
      ]
     },
     "execution_count": 16,
     "metadata": {},
     "output_type": "execute_result"
    }
   ],
   "source": [
    "all_QA['answer_len'].max()"
   ]
  },
  {
   "cell_type": "code",
   "execution_count": 17,
   "metadata": {},
   "outputs": [
    {
     "data": {
      "text/plain": [
       "0.10     21.0\n",
       "0.25     35.0\n",
       "0.50     61.0\n",
       "0.75    114.0\n",
       "0.90    200.9\n",
       "0.99    495.0\n",
       "Name: answer_len, dtype: float64"
      ]
     },
     "execution_count": 17,
     "metadata": {},
     "output_type": "execute_result"
    }
   ],
   "source": [
    "all_QA['answer_len'].quantile([.1,.25,.50,.75,.90,.99])"
   ]
  },
  {
   "attachments": {},
   "cell_type": "markdown",
   "metadata": {},
   "source": [
    "Some answers are very long, however, they are mostly less than 125 and the question is no longer than 125. So, we will use max length for training as 125."
   ]
  },
  {
   "attachments": {},
   "cell_type": "markdown",
   "metadata": {},
   "source": [
    "## We use max length of Q and A as 125."
   ]
  },
  {
   "attachments": {},
   "cell_type": "markdown",
   "metadata": {},
   "source": [
    "Thus, we need to cut any answers that is longer than 125 to 125."
   ]
  },
  {
   "cell_type": "code",
   "execution_count": 18,
   "metadata": {},
   "outputs": [],
   "source": [
    "all_QA['truncated_question']=all_QA.apply(lambda x: ' '.join(x.preprocessed_question.split(' ')[:125]) if x.question_len>125 else x.preprocessed_question ,axis=1)\n",
    "all_QA['truncated_answer']=all_QA.apply(lambda x: ' '.join(x.preprocessed_answer.split(' ')[:125]) if x.answer_len>495 else x.preprocessed_answer ,axis=1)\n"
   ]
  },
  {
   "cell_type": "code",
   "execution_count": 19,
   "metadata": {},
   "outputs": [],
   "source": [
    "all_QA['truncated_answer'] = all_QA['truncated_answer'].str.strip()\n",
    "all_QA['truncated_question'] = all_QA['truncated_question'].str.strip()"
   ]
  },
  {
   "attachments": {},
   "cell_type": "markdown",
   "metadata": {},
   "source": [
    "Let's call our truncated data now as dat_QA"
   ]
  },
  {
   "cell_type": "code",
   "execution_count": 109,
   "metadata": {},
   "outputs": [
    {
     "data": {
      "text/html": [
       "<div>\n",
       "<style scoped>\n",
       "    .dataframe tbody tr th:only-of-type {\n",
       "        vertical-align: middle;\n",
       "    }\n",
       "\n",
       "    .dataframe tbody tr th {\n",
       "        vertical-align: top;\n",
       "    }\n",
       "\n",
       "    .dataframe thead th {\n",
       "        text-align: right;\n",
       "    }\n",
       "</style>\n",
       "<table border=\"1\" class=\"dataframe\">\n",
       "  <thead>\n",
       "    <tr style=\"text-align: right;\">\n",
       "      <th></th>\n",
       "      <th>truncated_question</th>\n",
       "      <th>truncated_answer</th>\n",
       "      <th>tags</th>\n",
       "    </tr>\n",
       "  </thead>\n",
       "  <tbody>\n",
       "    <tr>\n",
       "      <th>0</th>\n",
       "      <td>is it fine to exercise with knee pain</td>\n",
       "      <td>from your description it appears that you may ...</td>\n",
       "      <td>[exercises]</td>\n",
       "    </tr>\n",
       "    <tr>\n",
       "      <th>1</th>\n",
       "      <td>suffering from anxiety restlessness and taking...</td>\n",
       "      <td>depression anxiety restlessness and panic atta...</td>\n",
       "      <td>[anxiety]</td>\n",
       "    </tr>\n",
       "    <tr>\n",
       "      <th>2</th>\n",
       "      <td>can a thyroid patient eat soybean and fenugreek</td>\n",
       "      <td>patients with hypothyroidism usually gain weig...</td>\n",
       "      <td>[hypothyroidism]</td>\n",
       "    </tr>\n",
       "    <tr>\n",
       "      <th>3</th>\n",
       "      <td>i am not getting my periods after taking fenug...</td>\n",
       "      <td>fenugreek seed cannot affect your fertility do...</td>\n",
       "      <td>[delayed period]</td>\n",
       "    </tr>\n",
       "    <tr>\n",
       "      <th>4</th>\n",
       "      <td>kindly suggest me a therapy to overcome heat a...</td>\n",
       "      <td>your problem is a characteristic of cholinergi...</td>\n",
       "      <td>[levocetirizine]</td>\n",
       "    </tr>\n",
       "    <tr>\n",
       "      <th>5</th>\n",
       "      <td>can taking multiple antibiotics cause redness ...</td>\n",
       "      <td>how are you doing sorry to hear what you have ...</td>\n",
       "      <td>[antibiotics]</td>\n",
       "    </tr>\n",
       "    <tr>\n",
       "      <th>6</th>\n",
       "      <td>other than baclofen which medicine can be used...</td>\n",
       "      <td>thank you for the detailed information i am ha...</td>\n",
       "      <td>[physiotherapy]</td>\n",
       "    </tr>\n",
       "    <tr>\n",
       "      <th>7</th>\n",
       "      <td>my fiance is having diabetes type 2 will she f...</td>\n",
       "      <td>i read through your query and understood your ...</td>\n",
       "      <td>[diabetes]</td>\n",
       "    </tr>\n",
       "    <tr>\n",
       "      <th>8</th>\n",
       "      <td>one of the hairs in eyebrow has changed to blo...</td>\n",
       "      <td>in your paternal family is there any history o...</td>\n",
       "      <td>[vitiligo]</td>\n",
       "    </tr>\n",
       "    <tr>\n",
       "      <th>9</th>\n",
       "      <td>my son has severe constipation after taking pa...</td>\n",
       "      <td>i can understand your concern regarding your s...</td>\n",
       "      <td>[constipation]</td>\n",
       "    </tr>\n",
       "  </tbody>\n",
       "</table>\n",
       "</div>"
      ],
      "text/plain": [
       "                                  truncated_question  \\\n",
       "0              is it fine to exercise with knee pain   \n",
       "1  suffering from anxiety restlessness and taking...   \n",
       "2    can a thyroid patient eat soybean and fenugreek   \n",
       "3  i am not getting my periods after taking fenug...   \n",
       "4  kindly suggest me a therapy to overcome heat a...   \n",
       "5  can taking multiple antibiotics cause redness ...   \n",
       "6  other than baclofen which medicine can be used...   \n",
       "7  my fiance is having diabetes type 2 will she f...   \n",
       "8  one of the hairs in eyebrow has changed to blo...   \n",
       "9  my son has severe constipation after taking pa...   \n",
       "\n",
       "                                    truncated_answer              tags  \n",
       "0  from your description it appears that you may ...       [exercises]  \n",
       "1  depression anxiety restlessness and panic atta...         [anxiety]  \n",
       "2  patients with hypothyroidism usually gain weig...  [hypothyroidism]  \n",
       "3  fenugreek seed cannot affect your fertility do...  [delayed period]  \n",
       "4  your problem is a characteristic of cholinergi...  [levocetirizine]  \n",
       "5  how are you doing sorry to hear what you have ...     [antibiotics]  \n",
       "6  thank you for the detailed information i am ha...   [physiotherapy]  \n",
       "7  i read through your query and understood your ...        [diabetes]  \n",
       "8  in your paternal family is there any history o...        [vitiligo]  \n",
       "9  i can understand your concern regarding your s...    [constipation]  "
      ]
     },
     "execution_count": 109,
     "metadata": {},
     "output_type": "execute_result"
    }
   ],
   "source": [
    "dat_QA = all_QA.loc[:,['truncated_question','truncated_answer','tags']]\n",
    "dat_QA.head(10)"
   ]
  },
  {
   "attachments": {},
   "cell_type": "markdown",
   "metadata": {},
   "source": [
    "# We want to know how many different tags we have in the data"
   ]
  },
  {
   "cell_type": "code",
   "execution_count": 25,
   "metadata": {},
   "outputs": [],
   "source": [
    "tags = []\n",
    "for i in range(dat_QA.shape[0]):\n",
    "    tags.extend(dat_QA.iloc[i,2])"
   ]
  },
  {
   "cell_type": "code",
   "execution_count": 26,
   "metadata": {},
   "outputs": [],
   "source": [
    "import collections"
   ]
  },
  {
   "cell_type": "code",
   "execution_count": 108,
   "metadata": {},
   "outputs": [
    {
     "data": {
      "text/plain": [
       "['exercises',\n",
       " 'anxiety',\n",
       " 'hypothyroidism',\n",
       " 'delayed period',\n",
       " 'levocetirizine',\n",
       " 'antibiotics',\n",
       " 'physiotherapy',\n",
       " 'diabetes',\n",
       " 'vitiligo',\n",
       " 'constipation',\n",
       " 'complete blood count',\n",
       " 'genetic inheritance',\n",
       " 'vitiligo',\n",
       " 'thyroid problem',\n",
       " 'thyroid problem',\n",
       " 'vitiligo',\n",
       " 'premature ejaculation',\n",
       " 'constipation',\n",
       " 'premature ejaculation',\n",
       " 'thyroid problem']"
      ]
     },
     "execution_count": 108,
     "metadata": {},
     "output_type": "execute_result"
    }
   ],
   "source": [
    "tags[:20]"
   ]
  },
  {
   "cell_type": "code",
   "execution_count": 107,
   "metadata": {},
   "outputs": [],
   "source": [
    "counter = collections.Counter(tags)"
   ]
  },
  {
   "cell_type": "code",
   "execution_count": 105,
   "metadata": {},
   "outputs": [
    {
     "data": {
      "text/plain": [
       "[('pregnancy', 2930),\n",
       " ('period', 1384),\n",
       " ('pain', 1274),\n",
       " ('exercise', 890),\n",
       " ('sexual intercourse', 809),\n",
       " ('coldness', 670),\n",
       " ('skin', 646),\n",
       " ('vision', 638),\n",
       " ('drug', 571),\n",
       " ('fever', 502),\n",
       " ('baby', 496),\n",
       " ('stomach', 493),\n",
       " ('burn', 482),\n",
       " ('nausea', 436),\n",
       " ('penis', 419),\n",
       " ('vagina', 418),\n",
       " ('drinking', 415),\n",
       " ('surgery', 409),\n",
       " ('injection', 408),\n",
       " ('anxiety', 394)]"
      ]
     },
     "execution_count": 105,
     "metadata": {},
     "output_type": "execute_result"
    }
   ],
   "source": [
    "most_tags = counter.most_common(50)\n",
    "most_tags[:20]"
   ]
  },
  {
   "cell_type": "code",
   "execution_count": 30,
   "metadata": {},
   "outputs": [
    {
     "data": {
      "text/plain": [
       "'pregnancy'"
      ]
     },
     "execution_count": 30,
     "metadata": {},
     "output_type": "execute_result"
    }
   ],
   "source": [
    "most_tags[0][0]"
   ]
  },
  {
   "cell_type": "code",
   "execution_count": null,
   "metadata": {},
   "outputs": [],
   "source": [
    "most_tags_list = [tag[0] for tag in most_tags]\n"
   ]
  },
  {
   "cell_type": "code",
   "execution_count": 104,
   "metadata": {},
   "outputs": [
    {
     "data": {
      "text/plain": [
       "['pregnancy',\n",
       " 'period',\n",
       " 'pain',\n",
       " 'exercise',\n",
       " 'sexual intercourse',\n",
       " 'coldness',\n",
       " 'skin',\n",
       " 'vision',\n",
       " 'drug',\n",
       " 'fever',\n",
       " 'baby',\n",
       " 'stomach',\n",
       " 'burn',\n",
       " 'nausea',\n",
       " 'penis',\n",
       " 'vagina',\n",
       " 'drinking',\n",
       " 'surgery',\n",
       " 'injection',\n",
       " 'anxiety']"
      ]
     },
     "execution_count": 104,
     "metadata": {},
     "output_type": "execute_result"
    }
   ],
   "source": [
    "most_tags_list[:20]"
   ]
  },
  {
   "cell_type": "code",
   "execution_count": 32,
   "metadata": {},
   "outputs": [],
   "source": [
    "all_QA['tags_100']=all_QA.apply(lambda x: list(set.intersection(set(x.tags), set(most_tags_list))) ,axis=1)\n",
    "\n",
    "# for i in range(all_QA.shape[0]):\n",
    "#     all_QA['tags_100'][i] = list(set.intersection(set(all_QA['tags'][i]), set(most_tags_list)))"
   ]
  },
  {
   "cell_type": "code",
   "execution_count": 103,
   "metadata": {},
   "outputs": [
    {
     "data": {
      "text/html": [
       "<div>\n",
       "<style scoped>\n",
       "    .dataframe tbody tr th:only-of-type {\n",
       "        vertical-align: middle;\n",
       "    }\n",
       "\n",
       "    .dataframe tbody tr th {\n",
       "        vertical-align: top;\n",
       "    }\n",
       "\n",
       "    .dataframe thead th {\n",
       "        text-align: right;\n",
       "    }\n",
       "</style>\n",
       "<table border=\"1\" class=\"dataframe\">\n",
       "  <thead>\n",
       "    <tr style=\"text-align: right;\">\n",
       "      <th></th>\n",
       "      <th>question</th>\n",
       "      <th>answer</th>\n",
       "      <th>tags</th>\n",
       "      <th>context</th>\n",
       "      <th>preprocessed_question</th>\n",
       "      <th>preprocessed_answer</th>\n",
       "      <th>question_len</th>\n",
       "      <th>answer_len</th>\n",
       "      <th>truncated_question</th>\n",
       "      <th>truncated_answer</th>\n",
       "      <th>tags_100</th>\n",
       "    </tr>\n",
       "  </thead>\n",
       "  <tbody>\n",
       "    <tr>\n",
       "      <th>100</th>\n",
       "      <td>how to get relief from dandruff?</td>\n",
       "      <td>the causes of dandruff are any of the followin...</td>\n",
       "      <td>[salicylic acid]</td>\n",
       "      <td>how to get relief from dandruffthe causes of d...</td>\n",
       "      <td>how to get relief from dandruff</td>\n",
       "      <td>the causes of dandruff are any of the followin...</td>\n",
       "      <td>6</td>\n",
       "      <td>101</td>\n",
       "      <td>how to get relief from dandruff</td>\n",
       "      <td>the causes of dandruff are any of the followin...</td>\n",
       "      <td>[]</td>\n",
       "    </tr>\n",
       "    <tr>\n",
       "      <th>101</th>\n",
       "      <td>i have developed hair dye allergy. please help.</td>\n",
       "      <td>as per the details given it seems that you hav...</td>\n",
       "      <td>[allergy]</td>\n",
       "      <td>i have developed hair dye allergy please helpa...</td>\n",
       "      <td>i have developed hair dye allergy please help</td>\n",
       "      <td>as per the details given it seems that you hav...</td>\n",
       "      <td>8</td>\n",
       "      <td>111</td>\n",
       "      <td>i have developed hair dye allergy please help</td>\n",
       "      <td>as per the details given it seems that you hav...</td>\n",
       "      <td>[]</td>\n",
       "    </tr>\n",
       "    <tr>\n",
       "      <th>102</th>\n",
       "      <td>while treating a patient for depression when c...</td>\n",
       "      <td>you seem to be dealing with a patient with tre...</td>\n",
       "      <td>[selective serotonin reuptake inhibitors]</td>\n",
       "      <td>while treating a patient for depression when c...</td>\n",
       "      <td>while treating a patient for depression when c...</td>\n",
       "      <td>you seem to be dealing with a patient with tre...</td>\n",
       "      <td>12</td>\n",
       "      <td>143</td>\n",
       "      <td>while treating a patient for depression when c...</td>\n",
       "      <td>you seem to be dealing with a patient with tre...</td>\n",
       "      <td>[]</td>\n",
       "    </tr>\n",
       "    <tr>\n",
       "      <th>103</th>\n",
       "      <td>i have twin baby girls. one of them is not gai...</td>\n",
       "      <td>keep trying to give breast feeds as much as po...</td>\n",
       "      <td>[baby constipation]</td>\n",
       "      <td>i have twin baby girls one of them is not gain...</td>\n",
       "      <td>i have twin baby girls one of them is not gain...</td>\n",
       "      <td>keep trying to give breast feeds as much as po...</td>\n",
       "      <td>14</td>\n",
       "      <td>210</td>\n",
       "      <td>i have twin baby girls one of them is not gain...</td>\n",
       "      <td>keep trying to give breast feeds as much as po...</td>\n",
       "      <td>[]</td>\n",
       "    </tr>\n",
       "    <tr>\n",
       "      <th>104</th>\n",
       "      <td>my 4 month baby has not passed stools. please ...</td>\n",
       "      <td>it is common to have decrease in stool frequen...</td>\n",
       "      <td>[baby constipation]</td>\n",
       "      <td>my 4 month baby has not passed stools please h...</td>\n",
       "      <td>my 4 month baby has not passed stools please help</td>\n",
       "      <td>it is common to have decrease in stool frequen...</td>\n",
       "      <td>10</td>\n",
       "      <td>130</td>\n",
       "      <td>my 4 month baby has not passed stools please help</td>\n",
       "      <td>it is common to have decrease in stool frequen...</td>\n",
       "      <td>[]</td>\n",
       "    </tr>\n",
       "    <tr>\n",
       "      <th>105</th>\n",
       "      <td>how to remove pimples and the scars on my face?</td>\n",
       "      <td>pimple is somewhat hormonal and due to oily sk...</td>\n",
       "      <td>[acne scars]</td>\n",
       "      <td>how to remove pimples and the scars on my face...</td>\n",
       "      <td>how to remove pimples and the scars on my face</td>\n",
       "      <td>pimple is somewhat hormonal and due to oily sk...</td>\n",
       "      <td>10</td>\n",
       "      <td>351</td>\n",
       "      <td>how to remove pimples and the scars on my face</td>\n",
       "      <td>pimple is somewhat hormonal and due to oily sk...</td>\n",
       "      <td>[]</td>\n",
       "    </tr>\n",
       "    <tr>\n",
       "      <th>106</th>\n",
       "      <td>i brush my teeth twice daily. even then my tee...</td>\n",
       "      <td>even after brushing twice daily if your teeth ...</td>\n",
       "      <td>[dental scaling]</td>\n",
       "      <td>i brush my teeth twice daily even then my teet...</td>\n",
       "      <td>i brush my teeth twice daily even then my teet...</td>\n",
       "      <td>even after brushing twice daily if your teeth ...</td>\n",
       "      <td>15</td>\n",
       "      <td>63</td>\n",
       "      <td>i brush my teeth twice daily even then my teet...</td>\n",
       "      <td>even after brushing twice daily if your teeth ...</td>\n",
       "      <td>[]</td>\n",
       "    </tr>\n",
       "    <tr>\n",
       "      <th>107</th>\n",
       "      <td>how to confirm my pregnancy?</td>\n",
       "      <td>the history typically suggests an implantation...</td>\n",
       "      <td>[missed period]</td>\n",
       "      <td>how to confirm my pregnancythe history typical...</td>\n",
       "      <td>how to confirm my pregnancy</td>\n",
       "      <td>the history typically suggests an implantation...</td>\n",
       "      <td>5</td>\n",
       "      <td>173</td>\n",
       "      <td>how to confirm my pregnancy</td>\n",
       "      <td>the history typically suggests an implantation...</td>\n",
       "      <td>[]</td>\n",
       "    </tr>\n",
       "    <tr>\n",
       "      <th>108</th>\n",
       "      <td>does lexapro take a long time to start working?</td>\n",
       "      <td>if lexapro (escitalopram) caused insomnia then...</td>\n",
       "      <td>[selective serotonin reuptake inhibitors]</td>\n",
       "      <td>does lexapro take a long time to start working...</td>\n",
       "      <td>does lexapro take a long time to start working</td>\n",
       "      <td>if lexapro escitalopram caused insomnia then i...</td>\n",
       "      <td>9</td>\n",
       "      <td>70</td>\n",
       "      <td>does lexapro take a long time to start working</td>\n",
       "      <td>if lexapro escitalopram caused insomnia then i...</td>\n",
       "      <td>[]</td>\n",
       "    </tr>\n",
       "    <tr>\n",
       "      <th>109</th>\n",
       "      <td>my period has been late by 4 days. i am trying...</td>\n",
       "      <td>i understand your concern completely here with...</td>\n",
       "      <td>[missed period]</td>\n",
       "      <td>my period has been late by 4 days i am trying ...</td>\n",
       "      <td>my period has been late by 4 days i am trying ...</td>\n",
       "      <td>i understand your concern completely here with...</td>\n",
       "      <td>15</td>\n",
       "      <td>172</td>\n",
       "      <td>my period has been late by 4 days i am trying ...</td>\n",
       "      <td>i understand your concern completely here with...</td>\n",
       "      <td>[]</td>\n",
       "    </tr>\n",
       "    <tr>\n",
       "      <th>110</th>\n",
       "      <td>how to get rid of bad breath? i floss brush ev...</td>\n",
       "      <td>do not worry. after following these tips you w...</td>\n",
       "      <td>[dental scaling]</td>\n",
       "      <td>how to get rid of bad breath i floss brush eve...</td>\n",
       "      <td>how to get rid of bad breath i floss brush eve...</td>\n",
       "      <td>do not worry after following these tips you wi...</td>\n",
       "      <td>20</td>\n",
       "      <td>168</td>\n",
       "      <td>how to get rid of bad breath i floss brush eve...</td>\n",
       "      <td>do not worry after following these tips you wi...</td>\n",
       "      <td>[]</td>\n",
       "    </tr>\n",
       "    <tr>\n",
       "      <th>111</th>\n",
       "      <td>shall i use mtp kit as my last period was befo...</td>\n",
       "      <td>first you have to check urine for pregnancy. t...</td>\n",
       "      <td>[missed period]</td>\n",
       "      <td>shall i use mtp kit as my last period was befo...</td>\n",
       "      <td>shall i use mtp kit as my last period was befo...</td>\n",
       "      <td>first you have to check urine for pregnancy th...</td>\n",
       "      <td>13</td>\n",
       "      <td>129</td>\n",
       "      <td>shall i use mtp kit as my last period was befo...</td>\n",
       "      <td>first you have to check urine for pregnancy th...</td>\n",
       "      <td>[]</td>\n",
       "    </tr>\n",
       "    <tr>\n",
       "      <th>112</th>\n",
       "      <td>my teeth are yellow. is scaling only a tempora...</td>\n",
       "      <td>yellowing of teeth is mainly due to one of the...</td>\n",
       "      <td>[dental scaling]</td>\n",
       "      <td>my teeth are yellow is scaling only a temporar...</td>\n",
       "      <td>my teeth are yellow is scaling only a temporar...</td>\n",
       "      <td>yellowing of teeth is mainly due to one of the...</td>\n",
       "      <td>14</td>\n",
       "      <td>646</td>\n",
       "      <td>my teeth are yellow is scaling only a temporar...</td>\n",
       "      <td>yellowing of teeth is mainly due to one of the...</td>\n",
       "      <td>[]</td>\n",
       "    </tr>\n",
       "    <tr>\n",
       "      <th>113</th>\n",
       "      <td>my mouth stinks very badly. what shall i do?</td>\n",
       "      <td>get a full mouth scaling done from a dentist. ...</td>\n",
       "      <td>[dental scaling]</td>\n",
       "      <td>my mouth stinks very badly what shall i doget ...</td>\n",
       "      <td>my mouth stinks very badly what shall i do</td>\n",
       "      <td>get a full mouth scaling done from a dentist s...</td>\n",
       "      <td>9</td>\n",
       "      <td>100</td>\n",
       "      <td>my mouth stinks very badly what shall i do</td>\n",
       "      <td>get a full mouth scaling done from a dentist s...</td>\n",
       "      <td>[]</td>\n",
       "    </tr>\n",
       "    <tr>\n",
       "      <th>114</th>\n",
       "      <td>took urine pregnancy test on the 1st day of mi...</td>\n",
       "      <td>you tested too early with a urine pregnancy te...</td>\n",
       "      <td>[missed period]</td>\n",
       "      <td>took urine pregnancy test on the 1st day of mi...</td>\n",
       "      <td>took urine pregnancy test on the 1st day of mi...</td>\n",
       "      <td>you tested too early with a urine pregnancy te...</td>\n",
       "      <td>14</td>\n",
       "      <td>145</td>\n",
       "      <td>took urine pregnancy test on the 1st day of mi...</td>\n",
       "      <td>you tested too early with a urine pregnancy te...</td>\n",
       "      <td>[]</td>\n",
       "    </tr>\n",
       "    <tr>\n",
       "      <th>115</th>\n",
       "      <td>how to prevent bleeding on brushing?</td>\n",
       "      <td>you should use betadine gargle as mouthwash tw...</td>\n",
       "      <td>[dental scaling]</td>\n",
       "      <td>how to prevent bleeding on brushingyou should ...</td>\n",
       "      <td>how to prevent bleeding on brushing</td>\n",
       "      <td>you should use betadine gargle as mouthwash tw...</td>\n",
       "      <td>6</td>\n",
       "      <td>96</td>\n",
       "      <td>how to prevent bleeding on brushing</td>\n",
       "      <td>you should use betadine gargle as mouthwash tw...</td>\n",
       "      <td>[]</td>\n",
       "    </tr>\n",
       "    <tr>\n",
       "      <th>116</th>\n",
       "      <td>there is a tooth decay started in my all tooth...</td>\n",
       "      <td>if you think it is a decay that has started in...</td>\n",
       "      <td>[dental scaling]</td>\n",
       "      <td>there is a tooth decay started in my all tooth...</td>\n",
       "      <td>there is a tooth decay started in my all tooth...</td>\n",
       "      <td>if you think it is a decay that has started in...</td>\n",
       "      <td>13</td>\n",
       "      <td>108</td>\n",
       "      <td>there is a tooth decay started in my all tooth...</td>\n",
       "      <td>if you think it is a decay that has started in...</td>\n",
       "      <td>[]</td>\n",
       "    </tr>\n",
       "    <tr>\n",
       "      <th>117</th>\n",
       "      <td>is it fine to use mifepristone for abortion af...</td>\n",
       "      <td>first please confirm the pregnancy with a seru...</td>\n",
       "      <td>[missed period]</td>\n",
       "      <td>is it fine to use mifepristone for abortion af...</td>\n",
       "      <td>is it fine to use mifepristone for abortion af...</td>\n",
       "      <td>first please confirm the pregnancy with a seru...</td>\n",
       "      <td>11</td>\n",
       "      <td>120</td>\n",
       "      <td>is it fine to use mifepristone for abortion af...</td>\n",
       "      <td>first please confirm the pregnancy with a seru...</td>\n",
       "      <td>[]</td>\n",
       "    </tr>\n",
       "    <tr>\n",
       "      <th>118</th>\n",
       "      <td>is it normal to miss periods after taking i-pill?</td>\n",
       "      <td>amenorrhea is not a disease. amenorrhea is sim...</td>\n",
       "      <td>[missed period]</td>\n",
       "      <td>is it normal to miss periods after taking i pi...</td>\n",
       "      <td>is it normal to miss periods after taking i pill</td>\n",
       "      <td>amenorrhea is not a disease amenorrhea is simp...</td>\n",
       "      <td>10</td>\n",
       "      <td>120</td>\n",
       "      <td>is it normal to miss periods after taking i pill</td>\n",
       "      <td>amenorrhea is not a disease amenorrhea is simp...</td>\n",
       "      <td>[]</td>\n",
       "    </tr>\n",
       "    <tr>\n",
       "      <th>119</th>\n",
       "      <td>why have i missed my periods?</td>\n",
       "      <td>this type of missed period could be due to ova...</td>\n",
       "      <td>[missed period]</td>\n",
       "      <td>why have i missed my periodsthis type of misse...</td>\n",
       "      <td>why have i missed my periods</td>\n",
       "      <td>this type of missed period could be due to ova...</td>\n",
       "      <td>6</td>\n",
       "      <td>79</td>\n",
       "      <td>why have i missed my periods</td>\n",
       "      <td>this type of missed period could be due to ova...</td>\n",
       "      <td>[]</td>\n",
       "    </tr>\n",
       "  </tbody>\n",
       "</table>\n",
       "</div>"
      ],
      "text/plain": [
       "                                              question  \\\n",
       "100                   how to get relief from dandruff?   \n",
       "101    i have developed hair dye allergy. please help.   \n",
       "102  while treating a patient for depression when c...   \n",
       "103  i have twin baby girls. one of them is not gai...   \n",
       "104  my 4 month baby has not passed stools. please ...   \n",
       "105    how to remove pimples and the scars on my face?   \n",
       "106  i brush my teeth twice daily. even then my tee...   \n",
       "107                       how to confirm my pregnancy?   \n",
       "108    does lexapro take a long time to start working?   \n",
       "109  my period has been late by 4 days. i am trying...   \n",
       "110  how to get rid of bad breath? i floss brush ev...   \n",
       "111  shall i use mtp kit as my last period was befo...   \n",
       "112  my teeth are yellow. is scaling only a tempora...   \n",
       "113       my mouth stinks very badly. what shall i do?   \n",
       "114  took urine pregnancy test on the 1st day of mi...   \n",
       "115               how to prevent bleeding on brushing?   \n",
       "116  there is a tooth decay started in my all tooth...   \n",
       "117  is it fine to use mifepristone for abortion af...   \n",
       "118  is it normal to miss periods after taking i-pill?   \n",
       "119                      why have i missed my periods?   \n",
       "\n",
       "                                                answer  \\\n",
       "100  the causes of dandruff are any of the followin...   \n",
       "101  as per the details given it seems that you hav...   \n",
       "102  you seem to be dealing with a patient with tre...   \n",
       "103  keep trying to give breast feeds as much as po...   \n",
       "104  it is common to have decrease in stool frequen...   \n",
       "105  pimple is somewhat hormonal and due to oily sk...   \n",
       "106  even after brushing twice daily if your teeth ...   \n",
       "107  the history typically suggests an implantation...   \n",
       "108  if lexapro (escitalopram) caused insomnia then...   \n",
       "109  i understand your concern completely here with...   \n",
       "110  do not worry. after following these tips you w...   \n",
       "111  first you have to check urine for pregnancy. t...   \n",
       "112  yellowing of teeth is mainly due to one of the...   \n",
       "113  get a full mouth scaling done from a dentist. ...   \n",
       "114  you tested too early with a urine pregnancy te...   \n",
       "115  you should use betadine gargle as mouthwash tw...   \n",
       "116  if you think it is a decay that has started in...   \n",
       "117  first please confirm the pregnancy with a seru...   \n",
       "118  amenorrhea is not a disease. amenorrhea is sim...   \n",
       "119  this type of missed period could be due to ova...   \n",
       "\n",
       "                                          tags  \\\n",
       "100                           [salicylic acid]   \n",
       "101                                  [allergy]   \n",
       "102  [selective serotonin reuptake inhibitors]   \n",
       "103                        [baby constipation]   \n",
       "104                        [baby constipation]   \n",
       "105                               [acne scars]   \n",
       "106                           [dental scaling]   \n",
       "107                            [missed period]   \n",
       "108  [selective serotonin reuptake inhibitors]   \n",
       "109                            [missed period]   \n",
       "110                           [dental scaling]   \n",
       "111                            [missed period]   \n",
       "112                           [dental scaling]   \n",
       "113                           [dental scaling]   \n",
       "114                            [missed period]   \n",
       "115                           [dental scaling]   \n",
       "116                           [dental scaling]   \n",
       "117                            [missed period]   \n",
       "118                            [missed period]   \n",
       "119                            [missed period]   \n",
       "\n",
       "                                               context  \\\n",
       "100  how to get relief from dandruffthe causes of d...   \n",
       "101  i have developed hair dye allergy please helpa...   \n",
       "102  while treating a patient for depression when c...   \n",
       "103  i have twin baby girls one of them is not gain...   \n",
       "104  my 4 month baby has not passed stools please h...   \n",
       "105  how to remove pimples and the scars on my face...   \n",
       "106  i brush my teeth twice daily even then my teet...   \n",
       "107  how to confirm my pregnancythe history typical...   \n",
       "108  does lexapro take a long time to start working...   \n",
       "109  my period has been late by 4 days i am trying ...   \n",
       "110  how to get rid of bad breath i floss brush eve...   \n",
       "111  shall i use mtp kit as my last period was befo...   \n",
       "112  my teeth are yellow is scaling only a temporar...   \n",
       "113  my mouth stinks very badly what shall i doget ...   \n",
       "114  took urine pregnancy test on the 1st day of mi...   \n",
       "115  how to prevent bleeding on brushingyou should ...   \n",
       "116  there is a tooth decay started in my all tooth...   \n",
       "117  is it fine to use mifepristone for abortion af...   \n",
       "118  is it normal to miss periods after taking i pi...   \n",
       "119  why have i missed my periodsthis type of misse...   \n",
       "\n",
       "                                 preprocessed_question  \\\n",
       "100                    how to get relief from dandruff   \n",
       "101      i have developed hair dye allergy please help   \n",
       "102  while treating a patient for depression when c...   \n",
       "103  i have twin baby girls one of them is not gain...   \n",
       "104  my 4 month baby has not passed stools please help   \n",
       "105     how to remove pimples and the scars on my face   \n",
       "106  i brush my teeth twice daily even then my teet...   \n",
       "107                        how to confirm my pregnancy   \n",
       "108     does lexapro take a long time to start working   \n",
       "109  my period has been late by 4 days i am trying ...   \n",
       "110  how to get rid of bad breath i floss brush eve...   \n",
       "111  shall i use mtp kit as my last period was befo...   \n",
       "112  my teeth are yellow is scaling only a temporar...   \n",
       "113         my mouth stinks very badly what shall i do   \n",
       "114  took urine pregnancy test on the 1st day of mi...   \n",
       "115                how to prevent bleeding on brushing   \n",
       "116  there is a tooth decay started in my all tooth...   \n",
       "117  is it fine to use mifepristone for abortion af...   \n",
       "118   is it normal to miss periods after taking i pill   \n",
       "119                       why have i missed my periods   \n",
       "\n",
       "                                   preprocessed_answer  question_len  \\\n",
       "100  the causes of dandruff are any of the followin...             6   \n",
       "101  as per the details given it seems that you hav...             8   \n",
       "102  you seem to be dealing with a patient with tre...            12   \n",
       "103  keep trying to give breast feeds as much as po...            14   \n",
       "104  it is common to have decrease in stool frequen...            10   \n",
       "105  pimple is somewhat hormonal and due to oily sk...            10   \n",
       "106  even after brushing twice daily if your teeth ...            15   \n",
       "107  the history typically suggests an implantation...             5   \n",
       "108  if lexapro escitalopram caused insomnia then i...             9   \n",
       "109  i understand your concern completely here with...            15   \n",
       "110  do not worry after following these tips you wi...            20   \n",
       "111  first you have to check urine for pregnancy th...            13   \n",
       "112  yellowing of teeth is mainly due to one of the...            14   \n",
       "113  get a full mouth scaling done from a dentist s...             9   \n",
       "114  you tested too early with a urine pregnancy te...            14   \n",
       "115  you should use betadine gargle as mouthwash tw...             6   \n",
       "116  if you think it is a decay that has started in...            13   \n",
       "117  first please confirm the pregnancy with a seru...            11   \n",
       "118  amenorrhea is not a disease amenorrhea is simp...            10   \n",
       "119  this type of missed period could be due to ova...             6   \n",
       "\n",
       "     answer_len                                 truncated_question  \\\n",
       "100         101                    how to get relief from dandruff   \n",
       "101         111      i have developed hair dye allergy please help   \n",
       "102         143  while treating a patient for depression when c...   \n",
       "103         210  i have twin baby girls one of them is not gain...   \n",
       "104         130  my 4 month baby has not passed stools please help   \n",
       "105         351     how to remove pimples and the scars on my face   \n",
       "106          63  i brush my teeth twice daily even then my teet...   \n",
       "107         173                        how to confirm my pregnancy   \n",
       "108          70     does lexapro take a long time to start working   \n",
       "109         172  my period has been late by 4 days i am trying ...   \n",
       "110         168  how to get rid of bad breath i floss brush eve...   \n",
       "111         129  shall i use mtp kit as my last period was befo...   \n",
       "112         646  my teeth are yellow is scaling only a temporar...   \n",
       "113         100         my mouth stinks very badly what shall i do   \n",
       "114         145  took urine pregnancy test on the 1st day of mi...   \n",
       "115          96                how to prevent bleeding on brushing   \n",
       "116         108  there is a tooth decay started in my all tooth...   \n",
       "117         120  is it fine to use mifepristone for abortion af...   \n",
       "118         120   is it normal to miss periods after taking i pill   \n",
       "119          79                       why have i missed my periods   \n",
       "\n",
       "                                      truncated_answer tags_100  \n",
       "100  the causes of dandruff are any of the followin...       []  \n",
       "101  as per the details given it seems that you hav...       []  \n",
       "102  you seem to be dealing with a patient with tre...       []  \n",
       "103  keep trying to give breast feeds as much as po...       []  \n",
       "104  it is common to have decrease in stool frequen...       []  \n",
       "105  pimple is somewhat hormonal and due to oily sk...       []  \n",
       "106  even after brushing twice daily if your teeth ...       []  \n",
       "107  the history typically suggests an implantation...       []  \n",
       "108  if lexapro escitalopram caused insomnia then i...       []  \n",
       "109  i understand your concern completely here with...       []  \n",
       "110  do not worry after following these tips you wi...       []  \n",
       "111  first you have to check urine for pregnancy th...       []  \n",
       "112  yellowing of teeth is mainly due to one of the...       []  \n",
       "113  get a full mouth scaling done from a dentist s...       []  \n",
       "114  you tested too early with a urine pregnancy te...       []  \n",
       "115  you should use betadine gargle as mouthwash tw...       []  \n",
       "116  if you think it is a decay that has started in...       []  \n",
       "117  first please confirm the pregnancy with a seru...       []  \n",
       "118  amenorrhea is not a disease amenorrhea is simp...       []  \n",
       "119  this type of missed period could be due to ova...       []  "
      ]
     },
     "execution_count": 103,
     "metadata": {},
     "output_type": "execute_result"
    }
   ],
   "source": [
    "all_QA.iloc[100:120]"
   ]
  },
  {
   "cell_type": "code",
   "execution_count": 35,
   "metadata": {},
   "outputs": [],
   "source": [
    "all_QA_tags = all_QA.loc[all_QA[\"tags_100\"].str.len() !=0].reset_index()\n",
    "all_QA_tags = all_QA_tags.loc[all_QA_tags['truncated_answer'].str.len() !=0].reset_index()\n",
    "# all_QA.loc[all_QA[\"tags_100\"].str.len() == 3]"
   ]
  },
  {
   "cell_type": "code",
   "execution_count": 36,
   "metadata": {},
   "outputs": [],
   "source": [
    "all_QA_tags = all_QA_tags[['truncated_question', 'truncated_answer', 'tags_100']]"
   ]
  },
  {
   "cell_type": "code",
   "execution_count": 100,
   "metadata": {},
   "outputs": [
    {
     "data": {
      "text/html": [
       "<div>\n",
       "<style scoped>\n",
       "    .dataframe tbody tr th:only-of-type {\n",
       "        vertical-align: middle;\n",
       "    }\n",
       "\n",
       "    .dataframe tbody tr th {\n",
       "        vertical-align: top;\n",
       "    }\n",
       "\n",
       "    .dataframe thead th {\n",
       "        text-align: right;\n",
       "    }\n",
       "</style>\n",
       "<table border=\"1\" class=\"dataframe\">\n",
       "  <thead>\n",
       "    <tr style=\"text-align: right;\">\n",
       "      <th></th>\n",
       "      <th>truncated_question</th>\n",
       "      <th>truncated_answer</th>\n",
       "      <th>tags_100</th>\n",
       "    </tr>\n",
       "  </thead>\n",
       "  <tbody>\n",
       "    <tr>\n",
       "      <th>0</th>\n",
       "      <td>suffering from anxiety restlessness and taking...</td>\n",
       "      <td>depression anxiety restlessness and panic atta...</td>\n",
       "      <td>[anxiety]</td>\n",
       "    </tr>\n",
       "    <tr>\n",
       "      <th>1</th>\n",
       "      <td>i am having headache and my period is late cou...</td>\n",
       "      <td>it can be a hormonal headache but hormonal hea...</td>\n",
       "      <td>[headache]</td>\n",
       "    </tr>\n",
       "    <tr>\n",
       "      <th>2</th>\n",
       "      <td>how to prevent headache in myopia</td>\n",
       "      <td>myopia is the most common refractive error at ...</td>\n",
       "      <td>[headache]</td>\n",
       "    </tr>\n",
       "    <tr>\n",
       "      <th>3</th>\n",
       "      <td>i am experiencing headaches due to light sensi...</td>\n",
       "      <td>we are here to help you your symptoms are sugg...</td>\n",
       "      <td>[headache]</td>\n",
       "    </tr>\n",
       "    <tr>\n",
       "      <th>4</th>\n",
       "      <td>i get headaches when i go out in the sun pleas...</td>\n",
       "      <td>the symptoms you have mentioned here are indic...</td>\n",
       "      <td>[headache]</td>\n",
       "    </tr>\n",
       "    <tr>\n",
       "      <th>5</th>\n",
       "      <td>my headache persists even after pituitary tumo...</td>\n",
       "      <td>i read your query and understand your concerns...</td>\n",
       "      <td>[headache]</td>\n",
       "    </tr>\n",
       "    <tr>\n",
       "      <th>6</th>\n",
       "      <td>is headache a symptom of hiv</td>\n",
       "      <td>i can understand your anxiety which is quite o...</td>\n",
       "      <td>[headache]</td>\n",
       "    </tr>\n",
       "    <tr>\n",
       "      <th>7</th>\n",
       "      <td>can headache occur as a side effect of bp medi...</td>\n",
       "      <td>first tell me in detail about your headache to...</td>\n",
       "      <td>[headache]</td>\n",
       "    </tr>\n",
       "    <tr>\n",
       "      <th>8</th>\n",
       "      <td>my daughter has headache blurred vision numbne...</td>\n",
       "      <td>i am afraid to say that the clinical history o...</td>\n",
       "      <td>[headache]</td>\n",
       "    </tr>\n",
       "    <tr>\n",
       "      <th>9</th>\n",
       "      <td>can pregnancy occur outside uterus</td>\n",
       "      <td>whatever your doctor said is true but there is...</td>\n",
       "      <td>[pregnancy]</td>\n",
       "    </tr>\n",
       "  </tbody>\n",
       "</table>\n",
       "</div>"
      ],
      "text/plain": [
       "                                  truncated_question  \\\n",
       "0  suffering from anxiety restlessness and taking...   \n",
       "1  i am having headache and my period is late cou...   \n",
       "2                  how to prevent headache in myopia   \n",
       "3  i am experiencing headaches due to light sensi...   \n",
       "4  i get headaches when i go out in the sun pleas...   \n",
       "5  my headache persists even after pituitary tumo...   \n",
       "6                       is headache a symptom of hiv   \n",
       "7  can headache occur as a side effect of bp medi...   \n",
       "8  my daughter has headache blurred vision numbne...   \n",
       "9                 can pregnancy occur outside uterus   \n",
       "\n",
       "                                    truncated_answer     tags_100  \n",
       "0  depression anxiety restlessness and panic atta...    [anxiety]  \n",
       "1  it can be a hormonal headache but hormonal hea...   [headache]  \n",
       "2  myopia is the most common refractive error at ...   [headache]  \n",
       "3  we are here to help you your symptoms are sugg...   [headache]  \n",
       "4  the symptoms you have mentioned here are indic...   [headache]  \n",
       "5  i read your query and understand your concerns...   [headache]  \n",
       "6  i can understand your anxiety which is quite o...   [headache]  \n",
       "7  first tell me in detail about your headache to...   [headache]  \n",
       "8  i am afraid to say that the clinical history o...   [headache]  \n",
       "9  whatever your doctor said is true but there is...  [pregnancy]  "
      ]
     },
     "execution_count": 100,
     "metadata": {},
     "output_type": "execute_result"
    }
   ],
   "source": [
    "all_QA_tags.head(10)"
   ]
  },
  {
   "cell_type": "code",
   "execution_count": 102,
   "metadata": {},
   "outputs": [
    {
     "data": {
      "text/plain": [
       "0       [anxiety]\n",
       "1      [headache]\n",
       "2      [headache]\n",
       "3      [headache]\n",
       "4      [headache]\n",
       "5      [headache]\n",
       "6      [headache]\n",
       "7      [headache]\n",
       "8      [headache]\n",
       "9     [pregnancy]\n",
       "10    [pregnancy]\n",
       "11    [pregnancy]\n",
       "12    [pregnancy]\n",
       "13    [pregnancy]\n",
       "14    [pregnancy]\n",
       "15    [pregnancy]\n",
       "16    [pregnancy]\n",
       "17         [acne]\n",
       "18         [acne]\n",
       "19         [acne]\n",
       "Name: tags_100, dtype: object"
      ]
     },
     "execution_count": 102,
     "metadata": {},
     "output_type": "execute_result"
    }
   ],
   "source": [
    "all_QA_tags['tags_100'].head(20)"
   ]
  },
  {
   "attachments": {},
   "cell_type": "markdown",
   "metadata": {},
   "source": [
    "## Split data for training and testing"
   ]
  },
  {
   "cell_type": "code",
   "execution_count": 39,
   "metadata": {},
   "outputs": [],
   "source": [
    "#splitting the data into train and validation\n",
    "from sklearn.model_selection import train_test_split\n",
    "train, validation = train_test_split(all_QA_tags, test_size=0.2,random_state=42,shuffle=True)\n",
    "train, test = train_test_split(train, test_size=0.2,random_state=42,shuffle=True)"
   ]
  },
  {
   "cell_type": "code",
   "execution_count": 40,
   "metadata": {},
   "outputs": [
    {
     "data": {
      "text/plain": [
       "(8835, 3)"
      ]
     },
     "execution_count": 40,
     "metadata": {},
     "output_type": "execute_result"
    }
   ],
   "source": [
    "train.shape"
   ]
  },
  {
   "cell_type": "code",
   "execution_count": 41,
   "metadata": {},
   "outputs": [
    {
     "data": {
      "text/plain": [
       "(2761, 3)"
      ]
     },
     "execution_count": 41,
     "metadata": {},
     "output_type": "execute_result"
    }
   ],
   "source": [
    "validation.shape"
   ]
  },
  {
   "cell_type": "code",
   "execution_count": 42,
   "metadata": {},
   "outputs": [
    {
     "data": {
      "text/plain": [
       "(2209, 3)"
      ]
     },
     "execution_count": 42,
     "metadata": {},
     "output_type": "execute_result"
    }
   ],
   "source": [
    "test.shape"
   ]
  },
  {
   "cell_type": "markdown",
   "metadata": {},
   "source": [
    "## Print the first 5 samples in the training set"
   ]
  },
  {
   "cell_type": "code",
   "execution_count": 43,
   "metadata": {},
   "outputs": [
    {
     "data": {
      "text/plain": [
       "757      the most effective skin care  i am for normal ...\n",
       "1265     my husband has a swollen finger and now his kn...\n",
       "7739     just diagnosed with hpv do my huband of 17 yrs...\n",
       "8445     does a migraine always include pain or can you...\n",
       "11635    was on birth control for 3 years then i stoppe...\n",
       "Name: truncated_question, dtype: object"
      ]
     },
     "execution_count": 43,
     "metadata": {},
     "output_type": "execute_result"
    }
   ],
   "source": [
    "train[\"truncated_question\"][:5]"
   ]
  },
  {
   "cell_type": "code",
   "execution_count": 44,
   "metadata": {},
   "outputs": [
    {
     "name": "stdout",
     "output_type": "stream",
     "text": [
      "the most effective skin care  i am for normal skincare but do not take my word for it try some out yourself study customer opinions and make your brain up next the most effective businesses may have a no risk assure you can send total or applied containers back and obtain a complete refund if you are not 100 pleased skin care -> ['skin']\n",
      "\n",
      "my husband has a swollen finger and now his knee and foot are swollen what kind of dr should he see -> ['vision', 'swelling', 'foot']\n",
      "\n",
      "just diagnosed with hpv do my huband of 17 yrs and i need to always use condoms for life now -> ['condom']\n",
      "\n",
      "does a migraine always include pain or can you just have light sensitivity -> ['pain']\n",
      "\n",
      "was on birth control for 3 years then i stopped a week later i got my period for a day then it stoped could i be prego -> ['period', 'pregnancy', 'birth control']\n",
      "\n"
     ]
    }
   ],
   "source": [
    "for q, a in zip(train[\"truncated_question\"][:5], train[\"tags_100\"][:5]):\n",
    "    print(f\"{q} -> {a}\\n\")"
   ]
  },
  {
   "attachments": {},
   "cell_type": "markdown",
   "metadata": {},
   "source": [
    "## Question tags with Bert\n",
    "\n",
    "Now we will start our way to train a question answering model. The pretrained model we'll be using is [Bert](https://arxiv.org/pdf/1810.04805.pdf)."
   ]
  },
  {
   "attachments": {},
   "cell_type": "markdown",
   "metadata": {},
   "source": [
    "### Defining the tokenizer\n",
    "\n",
    "We also set the max length to 495 here"
   ]
  },
  {
   "attachments": {},
   "cell_type": "markdown",
   "metadata": {},
   "source": [
    "### Convert some text to tokens with the tokenizer: To see and understand how tokenize works"
   ]
  },
  {
   "cell_type": "markdown",
   "metadata": {},
   "source": [
    "## Converting the inputs to tokens\n",
    "\n",
    "In adition to converting inputs to tokens and adding special tokens, it will truncate and pad inputs to the maximum length of the sequences defined in the model config. For example, you can check model config with, `tokenizer.model_max_length`."
   ]
  },
  {
   "cell_type": "code",
   "execution_count": 45,
   "metadata": {},
   "outputs": [
    {
     "name": "stderr",
     "output_type": "stream",
     "text": [
      "Some layers from the model checkpoint at bert-base-uncased were not used when initializing TFBertModel: ['mlm___cls', 'nsp___cls']\n",
      "- This IS expected if you are initializing TFBertModel from the checkpoint of a model trained on another task or with another architecture (e.g. initializing a BertForSequenceClassification model from a BertForPreTraining model).\n",
      "- This IS NOT expected if you are initializing TFBertModel from the checkpoint of a model that you expect to be exactly identical (initializing a BertForSequenceClassification model from a BertForSequenceClassification model).\n",
      "All the layers of TFBertModel were initialized from the model checkpoint at bert-base-uncased.\n",
      "If your task is similar to the task the model of the checkpoint was trained on, you can already use TFBertModel for predictions without further training.\n"
     ]
    }
   ],
   "source": [
    "\n",
    "import tensorflow as tf\n",
    "from transformers import BertTokenizer, TFBertForPreTraining, TFAutoModel, AutoTokenizer\n",
    "\n",
    "# tokenizer = BertTokenizer.from_pretrained(\"bert-base-uncased\", model_max_length = 125)\n",
    "tokenizer = AutoTokenizer.from_pretrained(\"bert-base-uncased\", model_max_length = 125)\n",
    "bert_model = TFAutoModel.from_pretrained(\"bert-base-uncased\", max_length = 125)\n",
    "\n",
    "# from transformers import AutoTokenizer, TFAutoModel\n",
    "# tokenizer = AutoTokenizer.from_pretrained(\"cambridgeltl/BioRedditBERT-uncased\", model_max_length = 125)\n",
    "\n",
    "# bert_model = TFAutoModel.from_pretrained(\"cambridgeltl/BioRedditBERT-uncased\", max_length = 125)"
   ]
  },
  {
   "attachments": {},
   "cell_type": "markdown",
   "metadata": {},
   "source": [
    "## Vocabulary to binary code for tags\n",
    "\n",
    "Since tag variable has many tags, so we need to find a way to convert tags to numeric values. In this project, we use StringLookup function from keras layer. As a result, we have a vector of length of the number of tags in dataset. The value of 1 in the vector means that the tag variable has the tag at that position."
   ]
  },
  {
   "cell_type": "code",
   "execution_count": 46,
   "metadata": {},
   "outputs": [
    {
     "name": "stdout",
     "output_type": "stream",
     "text": [
      "Vocabulary:\n",
      "\n",
      "['[UNK]', 'pregnancy', 'period', 'pain', 'exercise', 'sexual intercourse', 'coldness', 'skin', 'vision', 'drug', 'fever', 'baby', 'stomach', 'burn', 'nausea', 'penis', 'vagina', 'drinking', 'surgery', 'injection', 'anxiety', 'weight', 'diet', 'rash', 'food', 'antibiotic', 'condom', 'ears', 'flu', 'swelling', 'smoking', 'headache', 'hand', 'eyes', 'ejaculation', 'birth control', 'diarrhea', 'head', 'shingles', 'leg', 'cough', 'breast', 'arm', 'high blood pressure', 'virus', 'acne', 'insurance', 'pregnancy test', 'chest', 'foot', 'stress']\n"
     ]
    }
   ],
   "source": [
    "tags_100 = tf.ragged.constant(all_QA_tags[\"tags_100\"].values)\n",
    "lookup = tf.keras.layers.StringLookup(output_mode=\"multi_hot\")\n",
    "lookup.adapt(tags_100)\n",
    "vocab = lookup.get_vocabulary()\n",
    "\n",
    "\n",
    "def invert_multi_hot(encoded_labels):\n",
    "    \"\"\"Reverse a single multi-hot encoded label to a tuple of vocab terms.\"\"\"\n",
    "    hot_indices = np.argwhere(encoded_labels == 1.0)[..., 0]\n",
    "    return np.take(vocab, hot_indices)\n",
    "\n",
    "\n",
    "print(\"Vocabulary:\\n\")\n",
    "print(vocab)\n"
   ]
  },
  {
   "cell_type": "code",
   "execution_count": 47,
   "metadata": {},
   "outputs": [
    {
     "data": {
      "text/plain": [
       "51"
      ]
     },
     "execution_count": 47,
     "metadata": {},
     "output_type": "execute_result"
    }
   ],
   "source": [
    "len(vocab)"
   ]
  },
  {
   "cell_type": "code",
   "execution_count": 48,
   "metadata": {},
   "outputs": [
    {
     "name": "stdout",
     "output_type": "stream",
     "text": [
      "Original label: ['pregnancy']\n",
      "Label-binarized representation: [[0. 1. 0. 0. 0. 0. 0. 0. 0. 0. 0. 0. 0. 0. 0. 0. 0. 0. 0. 0. 0. 0. 0. 0.\n",
      "  0. 0. 0. 0. 0. 0. 0. 0. 0. 0. 0. 0. 0. 0. 0. 0. 0. 0. 0. 0. 0. 0. 0. 0.\n",
      "  0. 0. 0.]]\n"
     ]
    }
   ],
   "source": [
    "sample_label = all_QA_tags[\"tags_100\"].iloc[15]\n",
    "print(f\"Original label: {sample_label}\")\n",
    "\n",
    "label_binarized = lookup([sample_label])\n",
    "print(f\"Label-binarized representation: {label_binarized}\")\n"
   ]
  },
  {
   "cell_type": "code",
   "execution_count": 49,
   "metadata": {},
   "outputs": [
    {
     "data": {
      "text/plain": [
       "<tf.Tensor: shape=(51,), dtype=float32, numpy=\n",
       "array([0., 1., 0., 0., 0., 0., 0., 0., 0., 0., 0., 0., 0., 0., 0., 0., 0.,\n",
       "       0., 0., 0., 0., 0., 0., 0., 0., 0., 0., 0., 0., 0., 0., 0., 0., 0.,\n",
       "       0., 0., 0., 0., 0., 0., 0., 0., 0., 0., 0., 0., 0., 0., 0., 0., 0.],\n",
       "      dtype=float32)>"
      ]
     },
     "execution_count": 49,
     "metadata": {},
     "output_type": "execute_result"
    }
   ],
   "source": [
    "lookup(sample_label)"
   ]
  },
  {
   "attachments": {},
   "cell_type": "markdown",
   "metadata": {},
   "source": [
    "An example how bert model works"
   ]
  },
  {
   "cell_type": "code",
   "execution_count": 50,
   "metadata": {},
   "outputs": [],
   "source": [
    "\n",
    "input_ids = tokenizer(\"does show up in hair sample\", add_special_tokens=True, return_tensors=\"tf\")\n",
    "# Batch size 1\n",
    "\n",
    "outputs = bert_model(input_ids)\n",
    "prediction_logits, seq_relationship_logits = outputs[:2]"
   ]
  },
  {
   "cell_type": "code",
   "execution_count": 51,
   "metadata": {},
   "outputs": [
    {
     "data": {
      "text/plain": [
       "{'input_ids': <tf.Tensor: shape=(1, 8), dtype=int32, numpy=array([[ 101, 2515, 2265, 2039, 1999, 2606, 7099,  102]])>, 'token_type_ids': <tf.Tensor: shape=(1, 8), dtype=int32, numpy=array([[0, 0, 0, 0, 0, 0, 0, 0]])>, 'attention_mask': <tf.Tensor: shape=(1, 8), dtype=int32, numpy=array([[1, 1, 1, 1, 1, 1, 1, 1]])>}"
      ]
     },
     "execution_count": 51,
     "metadata": {},
     "output_type": "execute_result"
    }
   ],
   "source": [
    "input_ids"
   ]
  },
  {
   "cell_type": "code",
   "execution_count": 52,
   "metadata": {},
   "outputs": [
    {
     "data": {
      "text/plain": [
       "<tf.Tensor: shape=(1, 8), dtype=int32, numpy=array([[ 101, 2515, 2265, 2039, 1999, 2606, 7099,  102]])>"
      ]
     },
     "execution_count": 52,
     "metadata": {},
     "output_type": "execute_result"
    }
   ],
   "source": [
    "input_ids['input_ids']"
   ]
  },
  {
   "cell_type": "code",
   "execution_count": 53,
   "metadata": {},
   "outputs": [
    {
     "data": {
      "text/plain": [
       "TFBaseModelOutputWithPoolingAndCrossAttentions(last_hidden_state=<tf.Tensor: shape=(1, 8, 768), dtype=float32, numpy=\n",
       "array([[[-0.35877097, -0.2436432 ,  0.02884691, ..., -0.37103823,\n",
       "          0.34817886,  0.08836893],\n",
       "        [-0.04475386, -0.3682535 ,  0.3098363 , ..., -0.21683535,\n",
       "          0.7589135 , -0.36365938],\n",
       "        [-0.4964576 , -0.1499548 ,  0.6971106 , ..., -0.4307014 ,\n",
       "          0.37299612, -0.8714325 ],\n",
       "        ...,\n",
       "        [ 1.3492085 , -0.29993764,  0.7885003 , ..., -0.62087995,\n",
       "         -0.13188845, -0.78739303],\n",
       "        [ 0.52342206, -0.8765727 , -0.07321079, ..., -0.25163823,\n",
       "         -0.05105691, -0.53487813],\n",
       "        [ 0.94795084,  0.13952154, -0.3133632 , ...,  0.2914263 ,\n",
       "         -0.65409744, -0.48502716]]], dtype=float32)>, pooler_output=<tf.Tensor: shape=(1, 768), dtype=float32, numpy=\n",
       "array([[-0.8937712 , -0.29594472,  0.03675489,  0.67154986,  0.23174734,\n",
       "        -0.22914687,  0.91933614,  0.25051808,  0.12964685, -0.9999636 ,\n",
       "        -0.13179019,  0.32471517,  0.9849002 , -0.22427899,  0.9368009 ,\n",
       "        -0.68466765, -0.19699062, -0.62251025,  0.22230688, -0.71370476,\n",
       "         0.7384015 ,  0.99403805,  0.5149332 ,  0.35310808,  0.41416696,\n",
       "         0.6129069 , -0.6742611 ,  0.9440307 ,  0.96549743,  0.74482167,\n",
       "        -0.71360564,  0.20072877, -0.9921237 , -0.22445044, -0.39052135,\n",
       "        -0.9925387 ,  0.26437157, -0.74831825, -0.00925097,  0.00230682,\n",
       "        -0.923065  ,  0.2886408 ,  0.9998261 , -0.5590317 ,  0.21450819,\n",
       "        -0.27514938, -0.99999225,  0.31497294, -0.9229445 , -0.16099408,\n",
       "         0.21454093, -0.4018515 ,  0.12992202,  0.42067134,  0.38377547,\n",
       "         0.5024741 , -0.05994096,  0.19194375, -0.16317257, -0.51668847,\n",
       "        -0.58080137,  0.4344424 , -0.1339527 , -0.91831195,  0.01831208,\n",
       "        -0.03467521, -0.25101674, -0.3709821 , -0.11002937,  0.07789901,\n",
       "         0.85612804,  0.21440321,  0.56254077, -0.8799886 , -0.3168928 ,\n",
       "         0.25150645, -0.49678528,  1.        , -0.3939147 , -0.9842101 ,\n",
       "         0.26860276, -0.17115933,  0.4031416 ,  0.59678096, -0.10997652,\n",
       "        -1.        ,  0.23750976, -0.13483651, -0.9943961 ,  0.02549181,\n",
       "         0.5837893 , -0.19770257,  0.0873577 ,  0.4845445 , -0.44417888,\n",
       "        -0.30734828, -0.34767666, -0.176252  , -0.3989839 , -0.10070717,\n",
       "         0.09208986, -0.26902473, -0.14767914, -0.29092637,  0.2362216 ,\n",
       "        -0.31153712, -0.6503433 ,  0.17100002, -0.22047372,  0.63156855,\n",
       "         0.31146201, -0.34197262,  0.3716101 , -0.9527408 ,  0.6020148 ,\n",
       "        -0.2116593 , -0.9867842 , -0.48763874, -0.9935147 ,  0.7584159 ,\n",
       "        -0.18182927, -0.25573942,  0.9637574 ,  0.47030848,  0.28321257,\n",
       "        -0.10628588,  0.06634486, -1.        , -0.13735461, -0.30859765,\n",
       "         0.3575509 , -0.19809963, -0.9827038 , -0.9673364 ,  0.47928196,\n",
       "         0.95393836,  0.18875572,  0.9992229 , -0.18004654,  0.96399784,\n",
       "         0.18107913, -0.23793949, -0.20050633, -0.43653446,  0.5111372 ,\n",
       "         0.4582679 , -0.6477339 ,  0.25433695, -0.03619553, -0.32291144,\n",
       "        -0.33523577, -0.24790835,  0.11351437, -0.96343374, -0.28581876,\n",
       "         0.9709611 , -0.01129199, -0.12682244,  0.49066865, -0.23631734,\n",
       "        -0.36447576,  0.84980536,  0.31759068,  0.38005134, -0.18793668,\n",
       "         0.3180664 ,  0.31836307,  0.38093576, -0.8238563 ,  0.5143121 ,\n",
       "         0.39384386, -0.17288484, -0.25345832, -0.98535377, -0.30004793,\n",
       "         0.43441793,  0.99259365,  0.7219663 ,  0.21034934, -0.21662582,\n",
       "        -0.36501303,  0.06541286, -0.9704918 ,  0.9834739 , -0.2120008 ,\n",
       "         0.2821858 , -0.00572504, -0.29116416, -0.84255517, -0.30311537,\n",
       "         0.82314897,  0.11280368, -0.8662895 , -0.01184765, -0.35555553,\n",
       "        -0.36928484, -0.40826535,  0.5741382 , -0.4309501 , -0.43989134,\n",
       "        -0.07021438,  0.9368715 ,  0.9637903 ,  0.64664555, -0.4592557 ,\n",
       "         0.5357569 , -0.9285006 , -0.40260857,  0.12467171,  0.24845485,\n",
       "         0.21734633,  0.9944099 , -0.03078402, -0.10776656, -0.91151583,\n",
       "        -0.9899393 ,  0.06847219, -0.90638   , -0.07809687, -0.5856551 ,\n",
       "         0.32907832,  0.08242785, -0.18054554,  0.29992294, -0.987261  ,\n",
       "        -0.83546805,  0.37378526, -0.29767668,  0.39350593, -0.18153603,\n",
       "         0.30652994,  0.5296936 , -0.5696197 ,  0.81084967,  0.9171471 ,\n",
       "         0.02999703, -0.8227333 ,  0.8427817 , -0.3210002 ,  0.8614661 ,\n",
       "        -0.59573907,  0.9933306 ,  0.45740536,  0.2998303 , -0.9532291 ,\n",
       "         0.07222334, -0.90936464, -0.05450175, -0.20702231, -0.45149183,\n",
       "        -0.06480596,  0.4231632 ,  0.265943  ,  0.53541976, -0.47243366,\n",
       "         0.9959542 , -0.3341908 , -0.9769128 , -0.28848192,  0.13693492,\n",
       "        -0.9944901 ,  0.31194875,  0.3104185 , -0.16194063, -0.34732413,\n",
       "        -0.51026547, -0.97203016,  0.869904  ,  0.14186998,  0.9793873 ,\n",
       "        -0.14217955, -0.92453057, -0.21828978, -0.95572644, -0.0420334 ,\n",
       "        -0.13242212,  0.47643998, -0.01461685, -0.96000487,  0.5382693 ,\n",
       "         0.5572613 ,  0.27896267,  0.10023823,  0.9950006 ,  0.9999517 ,\n",
       "         0.9798137 ,  0.90020126,  0.7546084 , -0.97991705, -0.06743937,\n",
       "         0.9999802 , -0.7326625 , -0.99999934, -0.94850266, -0.7038155 ,\n",
       "         0.4939491 , -1.        , -0.17224148, -0.07785321, -0.9388011 ,\n",
       "        -0.05851831,  0.9820453 ,  0.99132955, -1.        ,  0.9201131 ,\n",
       "         0.93990386, -0.53095084,  0.44815427, -0.2992181 ,  0.98101825,\n",
       "         0.38451377,  0.5808235 , -0.12363043,  0.40751034, -0.6327837 ,\n",
       "        -0.87428135,  0.19122016, -0.03714136,  0.86891854,  0.29419664,\n",
       "        -0.6455403 , -0.93414724,  0.1356964 , -0.08485238, -0.07966624,\n",
       "        -0.96975446, -0.25297534, -0.36070642,  0.6137614 ,  0.22456181,\n",
       "         0.14226143, -0.75787747,  0.25407138, -0.41170758,  0.43701884,\n",
       "         0.5368972 , -0.8833874 , -0.6819331 , -0.16294782, -0.7085259 ,\n",
       "         0.04635558, -0.961708  ,  0.9815815 , -0.34200656, -0.07600184,\n",
       "         1.        , -0.3055335 , -0.9102724 ,  0.5071699 ,  0.23340116,\n",
       "        -0.14084432,  1.        ,  0.42982173, -0.9899489 , -0.4579754 ,\n",
       "         0.21165363, -0.49337056, -0.41819283,  0.9994523 , -0.20582451,\n",
       "         0.09756737,  0.2985946 ,  0.98846495, -0.99501616,  0.70661837,\n",
       "        -0.88966864, -0.9747271 ,  0.9685594 ,  0.9459591 , -0.14492233,\n",
       "        -0.7478846 ,  0.11304732, -0.26292032,  0.2775493 , -0.94697607,\n",
       "         0.6965369 ,  0.43492436, -0.15546013,  0.92097014, -0.8636706 ,\n",
       "        -0.4721331 ,  0.37484017, -0.20851266,  0.49801674,  0.12881874,\n",
       "         0.42180014, -0.31736088, -0.02817734, -0.3810359 , -0.16773121,\n",
       "        -0.9693684 ,  0.16157374,  1.        ,  0.13146946, -0.26872194,\n",
       "        -0.11070291, -0.10168029, -0.07982075,  0.2516809 ,  0.3322881 ,\n",
       "        -0.3026329 , -0.8314774 , -0.02798513, -0.9237058 , -0.99506944,\n",
       "         0.7767364 ,  0.28881845, -0.16995057,  0.9998307 ,  0.2787838 ,\n",
       "         0.08332112, -0.15655062,  0.43511224,  0.011105  ,  0.4685249 ,\n",
       "        -0.15948163,  0.98131126, -0.32456288,  0.3807426 ,  0.8669218 ,\n",
       "        -0.12234325, -0.32716066, -0.6491841 ,  0.16976699, -0.92545235,\n",
       "         0.11512466, -0.9700401 ,  0.97611374, -0.01829031,  0.28268245,\n",
       "         0.28612706,  0.28044727,  1.        , -0.10931918,  0.6653439 ,\n",
       "        -0.58444476,  0.82040995, -0.94286674, -0.6638958 , -0.42921728,\n",
       "         0.00587143,  0.29637092, -0.16079603,  0.32243797, -0.9760266 ,\n",
       "        -0.09335236, -0.15819338, -0.97464615, -0.99204737,  0.5314473 ,\n",
       "         0.7708915 ,  0.10020067, -0.6892588 , -0.55573183, -0.6462685 ,\n",
       "         0.28060898, -0.23870172, -0.9618173 ,  0.628951  , -0.31488606,\n",
       "         0.30410242, -0.26282594,  0.47716326, -0.06081733,  0.7204474 ,\n",
       "        -0.07079044, -0.10215334, -0.30963895, -0.85955566,  0.8262774 ,\n",
       "        -0.7349967 , -0.30548784, -0.1440871 ,  1.        , -0.23674688,\n",
       "         0.28129262,  0.60343045,  0.6684501 , -0.12106765,  0.17195588,\n",
       "         0.3314946 ,  0.21419768, -0.08423737,  0.36822534, -0.8061258 ,\n",
       "        -0.24183913,  0.56056577, -0.07835189,  0.00797329,  0.85542667,\n",
       "         0.14505036,  0.21352182, -0.07947156,  0.11104085,  0.9987579 ,\n",
       "        -0.13505822, -0.10661279, -0.5642036 , -0.01884621, -0.22688207,\n",
       "        -0.4976083 ,  0.99999976,  0.3667456 , -0.11684304, -0.99614763,\n",
       "        -0.28403223, -0.9115951 ,  0.9998222 ,  0.86641264, -0.89521015,\n",
       "         0.38202286,  0.40848368, -0.31587422,  0.6758583 , -0.29728636,\n",
       "        -0.3778883 ,  0.17582868,  0.2464017 ,  0.9641439 , -0.53733295,\n",
       "        -0.98489136, -0.6183259 ,  0.31165177, -0.95519084,  0.9852944 ,\n",
       "        -0.58582926, -0.03560346, -0.35171756, -0.00634813,  0.8625734 ,\n",
       "        -0.0495928 , -0.9884184 , -0.29547152,  0.17835635,  0.9839476 ,\n",
       "         0.26428607, -0.4743098 , -0.93502754, -0.08360735,  0.17325957,\n",
       "         0.07969883, -0.9546008 ,  0.98162293, -0.97649074,  0.28574333,\n",
       "         0.9999991 ,  0.33708683, -0.61211675,  0.13154705, -0.4488074 ,\n",
       "         0.27486658, -0.14556162,  0.6705759 , -0.9684607 , -0.3184606 ,\n",
       "        -0.15346336,  0.3823067 , -0.2037107 ,  0.16766219,  0.69896245,\n",
       "         0.17024256, -0.40062186, -0.5417914 , -0.05350834,  0.41822955,\n",
       "         0.6888558 , -0.32998976, -0.18238802,  0.17126721, -0.09728223,\n",
       "        -0.92767775, -0.33843446, -0.31190214, -0.99723274,  0.6729288 ,\n",
       "        -1.        ,  0.02764509, -0.38439324, -0.18392277,  0.8520326 ,\n",
       "         0.02317527, -0.00147054, -0.83896744,  0.10221323,  0.80632144,\n",
       "         0.82048327, -0.20134884,  0.2629711 , -0.7059906 ,  0.1461381 ,\n",
       "        -0.1923456 ,  0.23708615, -0.014278  ,  0.6513621 , -0.14224373,\n",
       "         1.        ,  0.12651543, -0.39088592, -0.96541446,  0.29275736,\n",
       "        -0.23941527,  0.9999867 , -0.89194494, -0.97084093,  0.32194167,\n",
       "        -0.55765444, -0.8215545 ,  0.31405908,  0.10967871, -0.67282826,\n",
       "        -0.37335968,  0.9500116 ,  0.89303225, -0.52119833,  0.36082476,\n",
       "        -0.24025972, -0.36061987,  0.06054316,  0.15223475,  0.9929591 ,\n",
       "         0.4929258 ,  0.7887717 ,  0.25951415,  0.1501477 ,  0.96769524,\n",
       "         0.24829489,  0.6141413 ,  0.14130357,  1.        ,  0.33718902,\n",
       "        -0.9268161 ,  0.30011964, -0.98079914, -0.30206212, -0.94419426,\n",
       "         0.34094048,  0.15577045,  0.8700314 , -0.25824863,  0.966981  ,\n",
       "         0.15320471,  0.01859568,  0.0034217 ,  0.3640729 ,  0.33440465,\n",
       "        -0.9511311 , -0.9923505 , -0.9924001 ,  0.25047565, -0.46403354,\n",
       "        -0.06331319,  0.26127395,  0.19445466,  0.35839564,  0.31255236,\n",
       "        -0.99999905,  0.94960004,  0.48241106,  0.29172072,  0.9809808 ,\n",
       "         0.02308636,  0.23758867,  0.2594108 , -0.989308  , -0.97734994,\n",
       "        -0.28400788, -0.37243238,  0.75271714,  0.57101476,  0.8648113 ,\n",
       "         0.3897606 , -0.4850704 , -0.26333204,  0.16417317, -0.28586295,\n",
       "        -0.9948428 ,  0.5218041 ,  0.32705304, -0.9583995 ,  0.9656073 ,\n",
       "        -0.3434195 , -0.20098059,  0.64371586, -0.01802345,  0.9309577 ,\n",
       "         0.83209234,  0.59911793,  0.11481636,  0.43817088,  0.92354345,\n",
       "         0.9348204 ,  0.99206084, -0.21171471,  0.76004946,  0.3929923 ,\n",
       "         0.36563197,  0.2755335 , -0.9468497 ,  0.12100028,  0.00179962,\n",
       "        -0.39508307,  0.2734256 , -0.28996545, -0.9388434 ,  0.5006268 ,\n",
       "        -0.16485946,  0.5720182 , -0.31067067,  0.12270314, -0.4077691 ,\n",
       "        -0.18846968, -0.7894728 , -0.47740608,  0.55848026,  0.38605222,\n",
       "         0.94158524,  0.40178186, -0.08629466, -0.6735121 , -0.2719604 ,\n",
       "        -0.08310556, -0.95254534,  0.8663924 , -0.0670147 ,  0.18488455,\n",
       "         0.05364466,  0.05445544,  0.6986501 , -0.2741277 , -0.37789384,\n",
       "        -0.3432013 , -0.70967233,  0.7828229 , -0.2851795 , -0.58682364,\n",
       "        -0.44530475,  0.6198909 ,  0.2653492 ,  0.9949816 , -0.22679251,\n",
       "         0.08327743, -0.13161385, -0.2784842 ,  0.32921943, -0.41087666,\n",
       "        -0.9999993 ,  0.35513705,  0.3115044 , -0.02143053, -0.12868354,\n",
       "         0.11451989,  0.10220894, -0.9641809 , -0.2928811 , -0.17631605,\n",
       "        -0.07076731, -0.45257008, -0.41790736,  0.52908367,  0.6316099 ,\n",
       "         0.4163335 ,  0.89519566, -0.22849262,  0.53659666,  0.52207434,\n",
       "        -0.01326132, -0.59972477,  0.91416645]], dtype=float32)>, past_key_values=None, hidden_states=None, attentions=None, cross_attentions=None)"
      ]
     },
     "execution_count": 53,
     "metadata": {},
     "output_type": "execute_result"
    }
   ],
   "source": [
    "bert_model(input_ids)"
   ]
  },
  {
   "cell_type": "code",
   "execution_count": 54,
   "metadata": {},
   "outputs": [
    {
     "data": {
      "text/plain": [
       "<tf.Tensor: shape=(1, 8), dtype=int32, numpy=array([[ 101, 2515, 2265, 2039, 1999, 2606, 7099,  102]])>"
      ]
     },
     "execution_count": 54,
     "metadata": {},
     "output_type": "execute_result"
    }
   ],
   "source": [
    "input_ids['input_ids']"
   ]
  },
  {
   "cell_type": "code",
   "execution_count": 55,
   "metadata": {},
   "outputs": [
    {
     "data": {
      "text/plain": [
       "TFBaseModelOutputWithPoolingAndCrossAttentions(last_hidden_state=<tf.Tensor: shape=(1, 8, 768), dtype=float32, numpy=\n",
       "array([[[-0.35877097, -0.2436432 ,  0.02884691, ..., -0.37103823,\n",
       "          0.34817886,  0.08836893],\n",
       "        [-0.04475386, -0.3682535 ,  0.3098363 , ..., -0.21683535,\n",
       "          0.7589135 , -0.36365938],\n",
       "        [-0.4964576 , -0.1499548 ,  0.6971106 , ..., -0.4307014 ,\n",
       "          0.37299612, -0.8714325 ],\n",
       "        ...,\n",
       "        [ 1.3492085 , -0.29993764,  0.7885003 , ..., -0.62087995,\n",
       "         -0.13188845, -0.78739303],\n",
       "        [ 0.52342206, -0.8765727 , -0.07321079, ..., -0.25163823,\n",
       "         -0.05105691, -0.53487813],\n",
       "        [ 0.94795084,  0.13952154, -0.3133632 , ...,  0.2914263 ,\n",
       "         -0.65409744, -0.48502716]]], dtype=float32)>, pooler_output=<tf.Tensor: shape=(1, 768), dtype=float32, numpy=\n",
       "array([[-0.8937712 , -0.29594472,  0.03675489,  0.67154986,  0.23174734,\n",
       "        -0.22914687,  0.91933614,  0.25051808,  0.12964685, -0.9999636 ,\n",
       "        -0.13179019,  0.32471517,  0.9849002 , -0.22427899,  0.9368009 ,\n",
       "        -0.68466765, -0.19699062, -0.62251025,  0.22230688, -0.71370476,\n",
       "         0.7384015 ,  0.99403805,  0.5149332 ,  0.35310808,  0.41416696,\n",
       "         0.6129069 , -0.6742611 ,  0.9440307 ,  0.96549743,  0.74482167,\n",
       "        -0.71360564,  0.20072877, -0.9921237 , -0.22445044, -0.39052135,\n",
       "        -0.9925387 ,  0.26437157, -0.74831825, -0.00925097,  0.00230682,\n",
       "        -0.923065  ,  0.2886408 ,  0.9998261 , -0.5590317 ,  0.21450819,\n",
       "        -0.27514938, -0.99999225,  0.31497294, -0.9229445 , -0.16099408,\n",
       "         0.21454093, -0.4018515 ,  0.12992202,  0.42067134,  0.38377547,\n",
       "         0.5024741 , -0.05994096,  0.19194375, -0.16317257, -0.51668847,\n",
       "        -0.58080137,  0.4344424 , -0.1339527 , -0.91831195,  0.01831208,\n",
       "        -0.03467521, -0.25101674, -0.3709821 , -0.11002937,  0.07789901,\n",
       "         0.85612804,  0.21440321,  0.56254077, -0.8799886 , -0.3168928 ,\n",
       "         0.25150645, -0.49678528,  1.        , -0.3939147 , -0.9842101 ,\n",
       "         0.26860276, -0.17115933,  0.4031416 ,  0.59678096, -0.10997652,\n",
       "        -1.        ,  0.23750976, -0.13483651, -0.9943961 ,  0.02549181,\n",
       "         0.5837893 , -0.19770257,  0.0873577 ,  0.4845445 , -0.44417888,\n",
       "        -0.30734828, -0.34767666, -0.176252  , -0.3989839 , -0.10070717,\n",
       "         0.09208986, -0.26902473, -0.14767914, -0.29092637,  0.2362216 ,\n",
       "        -0.31153712, -0.6503433 ,  0.17100002, -0.22047372,  0.63156855,\n",
       "         0.31146201, -0.34197262,  0.3716101 , -0.9527408 ,  0.6020148 ,\n",
       "        -0.2116593 , -0.9867842 , -0.48763874, -0.9935147 ,  0.7584159 ,\n",
       "        -0.18182927, -0.25573942,  0.9637574 ,  0.47030848,  0.28321257,\n",
       "        -0.10628588,  0.06634486, -1.        , -0.13735461, -0.30859765,\n",
       "         0.3575509 , -0.19809963, -0.9827038 , -0.9673364 ,  0.47928196,\n",
       "         0.95393836,  0.18875572,  0.9992229 , -0.18004654,  0.96399784,\n",
       "         0.18107913, -0.23793949, -0.20050633, -0.43653446,  0.5111372 ,\n",
       "         0.4582679 , -0.6477339 ,  0.25433695, -0.03619553, -0.32291144,\n",
       "        -0.33523577, -0.24790835,  0.11351437, -0.96343374, -0.28581876,\n",
       "         0.9709611 , -0.01129199, -0.12682244,  0.49066865, -0.23631734,\n",
       "        -0.36447576,  0.84980536,  0.31759068,  0.38005134, -0.18793668,\n",
       "         0.3180664 ,  0.31836307,  0.38093576, -0.8238563 ,  0.5143121 ,\n",
       "         0.39384386, -0.17288484, -0.25345832, -0.98535377, -0.30004793,\n",
       "         0.43441793,  0.99259365,  0.7219663 ,  0.21034934, -0.21662582,\n",
       "        -0.36501303,  0.06541286, -0.9704918 ,  0.9834739 , -0.2120008 ,\n",
       "         0.2821858 , -0.00572504, -0.29116416, -0.84255517, -0.30311537,\n",
       "         0.82314897,  0.11280368, -0.8662895 , -0.01184765, -0.35555553,\n",
       "        -0.36928484, -0.40826535,  0.5741382 , -0.4309501 , -0.43989134,\n",
       "        -0.07021438,  0.9368715 ,  0.9637903 ,  0.64664555, -0.4592557 ,\n",
       "         0.5357569 , -0.9285006 , -0.40260857,  0.12467171,  0.24845485,\n",
       "         0.21734633,  0.9944099 , -0.03078402, -0.10776656, -0.91151583,\n",
       "        -0.9899393 ,  0.06847219, -0.90638   , -0.07809687, -0.5856551 ,\n",
       "         0.32907832,  0.08242785, -0.18054554,  0.29992294, -0.987261  ,\n",
       "        -0.83546805,  0.37378526, -0.29767668,  0.39350593, -0.18153603,\n",
       "         0.30652994,  0.5296936 , -0.5696197 ,  0.81084967,  0.9171471 ,\n",
       "         0.02999703, -0.8227333 ,  0.8427817 , -0.3210002 ,  0.8614661 ,\n",
       "        -0.59573907,  0.9933306 ,  0.45740536,  0.2998303 , -0.9532291 ,\n",
       "         0.07222334, -0.90936464, -0.05450175, -0.20702231, -0.45149183,\n",
       "        -0.06480596,  0.4231632 ,  0.265943  ,  0.53541976, -0.47243366,\n",
       "         0.9959542 , -0.3341908 , -0.9769128 , -0.28848192,  0.13693492,\n",
       "        -0.9944901 ,  0.31194875,  0.3104185 , -0.16194063, -0.34732413,\n",
       "        -0.51026547, -0.97203016,  0.869904  ,  0.14186998,  0.9793873 ,\n",
       "        -0.14217955, -0.92453057, -0.21828978, -0.95572644, -0.0420334 ,\n",
       "        -0.13242212,  0.47643998, -0.01461685, -0.96000487,  0.5382693 ,\n",
       "         0.5572613 ,  0.27896267,  0.10023823,  0.9950006 ,  0.9999517 ,\n",
       "         0.9798137 ,  0.90020126,  0.7546084 , -0.97991705, -0.06743937,\n",
       "         0.9999802 , -0.7326625 , -0.99999934, -0.94850266, -0.7038155 ,\n",
       "         0.4939491 , -1.        , -0.17224148, -0.07785321, -0.9388011 ,\n",
       "        -0.05851831,  0.9820453 ,  0.99132955, -1.        ,  0.9201131 ,\n",
       "         0.93990386, -0.53095084,  0.44815427, -0.2992181 ,  0.98101825,\n",
       "         0.38451377,  0.5808235 , -0.12363043,  0.40751034, -0.6327837 ,\n",
       "        -0.87428135,  0.19122016, -0.03714136,  0.86891854,  0.29419664,\n",
       "        -0.6455403 , -0.93414724,  0.1356964 , -0.08485238, -0.07966624,\n",
       "        -0.96975446, -0.25297534, -0.36070642,  0.6137614 ,  0.22456181,\n",
       "         0.14226143, -0.75787747,  0.25407138, -0.41170758,  0.43701884,\n",
       "         0.5368972 , -0.8833874 , -0.6819331 , -0.16294782, -0.7085259 ,\n",
       "         0.04635558, -0.961708  ,  0.9815815 , -0.34200656, -0.07600184,\n",
       "         1.        , -0.3055335 , -0.9102724 ,  0.5071699 ,  0.23340116,\n",
       "        -0.14084432,  1.        ,  0.42982173, -0.9899489 , -0.4579754 ,\n",
       "         0.21165363, -0.49337056, -0.41819283,  0.9994523 , -0.20582451,\n",
       "         0.09756737,  0.2985946 ,  0.98846495, -0.99501616,  0.70661837,\n",
       "        -0.88966864, -0.9747271 ,  0.9685594 ,  0.9459591 , -0.14492233,\n",
       "        -0.7478846 ,  0.11304732, -0.26292032,  0.2775493 , -0.94697607,\n",
       "         0.6965369 ,  0.43492436, -0.15546013,  0.92097014, -0.8636706 ,\n",
       "        -0.4721331 ,  0.37484017, -0.20851266,  0.49801674,  0.12881874,\n",
       "         0.42180014, -0.31736088, -0.02817734, -0.3810359 , -0.16773121,\n",
       "        -0.9693684 ,  0.16157374,  1.        ,  0.13146946, -0.26872194,\n",
       "        -0.11070291, -0.10168029, -0.07982075,  0.2516809 ,  0.3322881 ,\n",
       "        -0.3026329 , -0.8314774 , -0.02798513, -0.9237058 , -0.99506944,\n",
       "         0.7767364 ,  0.28881845, -0.16995057,  0.9998307 ,  0.2787838 ,\n",
       "         0.08332112, -0.15655062,  0.43511224,  0.011105  ,  0.4685249 ,\n",
       "        -0.15948163,  0.98131126, -0.32456288,  0.3807426 ,  0.8669218 ,\n",
       "        -0.12234325, -0.32716066, -0.6491841 ,  0.16976699, -0.92545235,\n",
       "         0.11512466, -0.9700401 ,  0.97611374, -0.01829031,  0.28268245,\n",
       "         0.28612706,  0.28044727,  1.        , -0.10931918,  0.6653439 ,\n",
       "        -0.58444476,  0.82040995, -0.94286674, -0.6638958 , -0.42921728,\n",
       "         0.00587143,  0.29637092, -0.16079603,  0.32243797, -0.9760266 ,\n",
       "        -0.09335236, -0.15819338, -0.97464615, -0.99204737,  0.5314473 ,\n",
       "         0.7708915 ,  0.10020067, -0.6892588 , -0.55573183, -0.6462685 ,\n",
       "         0.28060898, -0.23870172, -0.9618173 ,  0.628951  , -0.31488606,\n",
       "         0.30410242, -0.26282594,  0.47716326, -0.06081733,  0.7204474 ,\n",
       "        -0.07079044, -0.10215334, -0.30963895, -0.85955566,  0.8262774 ,\n",
       "        -0.7349967 , -0.30548784, -0.1440871 ,  1.        , -0.23674688,\n",
       "         0.28129262,  0.60343045,  0.6684501 , -0.12106765,  0.17195588,\n",
       "         0.3314946 ,  0.21419768, -0.08423737,  0.36822534, -0.8061258 ,\n",
       "        -0.24183913,  0.56056577, -0.07835189,  0.00797329,  0.85542667,\n",
       "         0.14505036,  0.21352182, -0.07947156,  0.11104085,  0.9987579 ,\n",
       "        -0.13505822, -0.10661279, -0.5642036 , -0.01884621, -0.22688207,\n",
       "        -0.4976083 ,  0.99999976,  0.3667456 , -0.11684304, -0.99614763,\n",
       "        -0.28403223, -0.9115951 ,  0.9998222 ,  0.86641264, -0.89521015,\n",
       "         0.38202286,  0.40848368, -0.31587422,  0.6758583 , -0.29728636,\n",
       "        -0.3778883 ,  0.17582868,  0.2464017 ,  0.9641439 , -0.53733295,\n",
       "        -0.98489136, -0.6183259 ,  0.31165177, -0.95519084,  0.9852944 ,\n",
       "        -0.58582926, -0.03560346, -0.35171756, -0.00634813,  0.8625734 ,\n",
       "        -0.0495928 , -0.9884184 , -0.29547152,  0.17835635,  0.9839476 ,\n",
       "         0.26428607, -0.4743098 , -0.93502754, -0.08360735,  0.17325957,\n",
       "         0.07969883, -0.9546008 ,  0.98162293, -0.97649074,  0.28574333,\n",
       "         0.9999991 ,  0.33708683, -0.61211675,  0.13154705, -0.4488074 ,\n",
       "         0.27486658, -0.14556162,  0.6705759 , -0.9684607 , -0.3184606 ,\n",
       "        -0.15346336,  0.3823067 , -0.2037107 ,  0.16766219,  0.69896245,\n",
       "         0.17024256, -0.40062186, -0.5417914 , -0.05350834,  0.41822955,\n",
       "         0.6888558 , -0.32998976, -0.18238802,  0.17126721, -0.09728223,\n",
       "        -0.92767775, -0.33843446, -0.31190214, -0.99723274,  0.6729288 ,\n",
       "        -1.        ,  0.02764509, -0.38439324, -0.18392277,  0.8520326 ,\n",
       "         0.02317527, -0.00147054, -0.83896744,  0.10221323,  0.80632144,\n",
       "         0.82048327, -0.20134884,  0.2629711 , -0.7059906 ,  0.1461381 ,\n",
       "        -0.1923456 ,  0.23708615, -0.014278  ,  0.6513621 , -0.14224373,\n",
       "         1.        ,  0.12651543, -0.39088592, -0.96541446,  0.29275736,\n",
       "        -0.23941527,  0.9999867 , -0.89194494, -0.97084093,  0.32194167,\n",
       "        -0.55765444, -0.8215545 ,  0.31405908,  0.10967871, -0.67282826,\n",
       "        -0.37335968,  0.9500116 ,  0.89303225, -0.52119833,  0.36082476,\n",
       "        -0.24025972, -0.36061987,  0.06054316,  0.15223475,  0.9929591 ,\n",
       "         0.4929258 ,  0.7887717 ,  0.25951415,  0.1501477 ,  0.96769524,\n",
       "         0.24829489,  0.6141413 ,  0.14130357,  1.        ,  0.33718902,\n",
       "        -0.9268161 ,  0.30011964, -0.98079914, -0.30206212, -0.94419426,\n",
       "         0.34094048,  0.15577045,  0.8700314 , -0.25824863,  0.966981  ,\n",
       "         0.15320471,  0.01859568,  0.0034217 ,  0.3640729 ,  0.33440465,\n",
       "        -0.9511311 , -0.9923505 , -0.9924001 ,  0.25047565, -0.46403354,\n",
       "        -0.06331319,  0.26127395,  0.19445466,  0.35839564,  0.31255236,\n",
       "        -0.99999905,  0.94960004,  0.48241106,  0.29172072,  0.9809808 ,\n",
       "         0.02308636,  0.23758867,  0.2594108 , -0.989308  , -0.97734994,\n",
       "        -0.28400788, -0.37243238,  0.75271714,  0.57101476,  0.8648113 ,\n",
       "         0.3897606 , -0.4850704 , -0.26333204,  0.16417317, -0.28586295,\n",
       "        -0.9948428 ,  0.5218041 ,  0.32705304, -0.9583995 ,  0.9656073 ,\n",
       "        -0.3434195 , -0.20098059,  0.64371586, -0.01802345,  0.9309577 ,\n",
       "         0.83209234,  0.59911793,  0.11481636,  0.43817088,  0.92354345,\n",
       "         0.9348204 ,  0.99206084, -0.21171471,  0.76004946,  0.3929923 ,\n",
       "         0.36563197,  0.2755335 , -0.9468497 ,  0.12100028,  0.00179962,\n",
       "        -0.39508307,  0.2734256 , -0.28996545, -0.9388434 ,  0.5006268 ,\n",
       "        -0.16485946,  0.5720182 , -0.31067067,  0.12270314, -0.4077691 ,\n",
       "        -0.18846968, -0.7894728 , -0.47740608,  0.55848026,  0.38605222,\n",
       "         0.94158524,  0.40178186, -0.08629466, -0.6735121 , -0.2719604 ,\n",
       "        -0.08310556, -0.95254534,  0.8663924 , -0.0670147 ,  0.18488455,\n",
       "         0.05364466,  0.05445544,  0.6986501 , -0.2741277 , -0.37789384,\n",
       "        -0.3432013 , -0.70967233,  0.7828229 , -0.2851795 , -0.58682364,\n",
       "        -0.44530475,  0.6198909 ,  0.2653492 ,  0.9949816 , -0.22679251,\n",
       "         0.08327743, -0.13161385, -0.2784842 ,  0.32921943, -0.41087666,\n",
       "        -0.9999993 ,  0.35513705,  0.3115044 , -0.02143053, -0.12868354,\n",
       "         0.11451989,  0.10220894, -0.9641809 , -0.2928811 , -0.17631605,\n",
       "        -0.07076731, -0.45257008, -0.41790736,  0.52908367,  0.6316099 ,\n",
       "         0.4163335 ,  0.89519566, -0.22849262,  0.53659666,  0.52207434,\n",
       "        -0.01326132, -0.59972477,  0.91416645]], dtype=float32)>, past_key_values=None, hidden_states=None, attentions=None, cross_attentions=None)"
      ]
     },
     "execution_count": 55,
     "metadata": {},
     "output_type": "execute_result"
    }
   ],
   "source": [
    "bert_model(input_ids['input_ids'])"
   ]
  },
  {
   "cell_type": "code",
   "execution_count": 56,
   "metadata": {},
   "outputs": [
    {
     "data": {
      "text/plain": [
       "125"
      ]
     },
     "execution_count": 56,
     "metadata": {},
     "output_type": "execute_result"
    }
   ],
   "source": [
    "tokenizer.model_max_length"
   ]
  },
  {
   "cell_type": "code",
   "execution_count": 57,
   "metadata": {},
   "outputs": [
    {
     "data": {
      "text/plain": [
       "TFBaseModelOutputWithPoolingAndCrossAttentions(last_hidden_state=<tf.Tensor: shape=(1, 8, 768), dtype=float32, numpy=\n",
       "array([[[-0.35877097, -0.2436432 ,  0.02884691, ..., -0.37103823,\n",
       "          0.34817886,  0.08836893],\n",
       "        [-0.04475386, -0.3682535 ,  0.3098363 , ..., -0.21683535,\n",
       "          0.7589135 , -0.36365938],\n",
       "        [-0.4964576 , -0.1499548 ,  0.6971106 , ..., -0.4307014 ,\n",
       "          0.37299612, -0.8714325 ],\n",
       "        ...,\n",
       "        [ 1.3492085 , -0.29993764,  0.7885003 , ..., -0.62087995,\n",
       "         -0.13188845, -0.78739303],\n",
       "        [ 0.52342206, -0.8765727 , -0.07321079, ..., -0.25163823,\n",
       "         -0.05105691, -0.53487813],\n",
       "        [ 0.94795084,  0.13952154, -0.3133632 , ...,  0.2914263 ,\n",
       "         -0.65409744, -0.48502716]]], dtype=float32)>, pooler_output=<tf.Tensor: shape=(1, 768), dtype=float32, numpy=\n",
       "array([[-0.8937712 , -0.29594472,  0.03675489,  0.67154986,  0.23174734,\n",
       "        -0.22914687,  0.91933614,  0.25051808,  0.12964685, -0.9999636 ,\n",
       "        -0.13179019,  0.32471517,  0.9849002 , -0.22427899,  0.9368009 ,\n",
       "        -0.68466765, -0.19699062, -0.62251025,  0.22230688, -0.71370476,\n",
       "         0.7384015 ,  0.99403805,  0.5149332 ,  0.35310808,  0.41416696,\n",
       "         0.6129069 , -0.6742611 ,  0.9440307 ,  0.96549743,  0.74482167,\n",
       "        -0.71360564,  0.20072877, -0.9921237 , -0.22445044, -0.39052135,\n",
       "        -0.9925387 ,  0.26437157, -0.74831825, -0.00925097,  0.00230682,\n",
       "        -0.923065  ,  0.2886408 ,  0.9998261 , -0.5590317 ,  0.21450819,\n",
       "        -0.27514938, -0.99999225,  0.31497294, -0.9229445 , -0.16099408,\n",
       "         0.21454093, -0.4018515 ,  0.12992202,  0.42067134,  0.38377547,\n",
       "         0.5024741 , -0.05994096,  0.19194375, -0.16317257, -0.51668847,\n",
       "        -0.58080137,  0.4344424 , -0.1339527 , -0.91831195,  0.01831208,\n",
       "        -0.03467521, -0.25101674, -0.3709821 , -0.11002937,  0.07789901,\n",
       "         0.85612804,  0.21440321,  0.56254077, -0.8799886 , -0.3168928 ,\n",
       "         0.25150645, -0.49678528,  1.        , -0.3939147 , -0.9842101 ,\n",
       "         0.26860276, -0.17115933,  0.4031416 ,  0.59678096, -0.10997652,\n",
       "        -1.        ,  0.23750976, -0.13483651, -0.9943961 ,  0.02549181,\n",
       "         0.5837893 , -0.19770257,  0.0873577 ,  0.4845445 , -0.44417888,\n",
       "        -0.30734828, -0.34767666, -0.176252  , -0.3989839 , -0.10070717,\n",
       "         0.09208986, -0.26902473, -0.14767914, -0.29092637,  0.2362216 ,\n",
       "        -0.31153712, -0.6503433 ,  0.17100002, -0.22047372,  0.63156855,\n",
       "         0.31146201, -0.34197262,  0.3716101 , -0.9527408 ,  0.6020148 ,\n",
       "        -0.2116593 , -0.9867842 , -0.48763874, -0.9935147 ,  0.7584159 ,\n",
       "        -0.18182927, -0.25573942,  0.9637574 ,  0.47030848,  0.28321257,\n",
       "        -0.10628588,  0.06634486, -1.        , -0.13735461, -0.30859765,\n",
       "         0.3575509 , -0.19809963, -0.9827038 , -0.9673364 ,  0.47928196,\n",
       "         0.95393836,  0.18875572,  0.9992229 , -0.18004654,  0.96399784,\n",
       "         0.18107913, -0.23793949, -0.20050633, -0.43653446,  0.5111372 ,\n",
       "         0.4582679 , -0.6477339 ,  0.25433695, -0.03619553, -0.32291144,\n",
       "        -0.33523577, -0.24790835,  0.11351437, -0.96343374, -0.28581876,\n",
       "         0.9709611 , -0.01129199, -0.12682244,  0.49066865, -0.23631734,\n",
       "        -0.36447576,  0.84980536,  0.31759068,  0.38005134, -0.18793668,\n",
       "         0.3180664 ,  0.31836307,  0.38093576, -0.8238563 ,  0.5143121 ,\n",
       "         0.39384386, -0.17288484, -0.25345832, -0.98535377, -0.30004793,\n",
       "         0.43441793,  0.99259365,  0.7219663 ,  0.21034934, -0.21662582,\n",
       "        -0.36501303,  0.06541286, -0.9704918 ,  0.9834739 , -0.2120008 ,\n",
       "         0.2821858 , -0.00572504, -0.29116416, -0.84255517, -0.30311537,\n",
       "         0.82314897,  0.11280368, -0.8662895 , -0.01184765, -0.35555553,\n",
       "        -0.36928484, -0.40826535,  0.5741382 , -0.4309501 , -0.43989134,\n",
       "        -0.07021438,  0.9368715 ,  0.9637903 ,  0.64664555, -0.4592557 ,\n",
       "         0.5357569 , -0.9285006 , -0.40260857,  0.12467171,  0.24845485,\n",
       "         0.21734633,  0.9944099 , -0.03078402, -0.10776656, -0.91151583,\n",
       "        -0.9899393 ,  0.06847219, -0.90638   , -0.07809687, -0.5856551 ,\n",
       "         0.32907832,  0.08242785, -0.18054554,  0.29992294, -0.987261  ,\n",
       "        -0.83546805,  0.37378526, -0.29767668,  0.39350593, -0.18153603,\n",
       "         0.30652994,  0.5296936 , -0.5696197 ,  0.81084967,  0.9171471 ,\n",
       "         0.02999703, -0.8227333 ,  0.8427817 , -0.3210002 ,  0.8614661 ,\n",
       "        -0.59573907,  0.9933306 ,  0.45740536,  0.2998303 , -0.9532291 ,\n",
       "         0.07222334, -0.90936464, -0.05450175, -0.20702231, -0.45149183,\n",
       "        -0.06480596,  0.4231632 ,  0.265943  ,  0.53541976, -0.47243366,\n",
       "         0.9959542 , -0.3341908 , -0.9769128 , -0.28848192,  0.13693492,\n",
       "        -0.9944901 ,  0.31194875,  0.3104185 , -0.16194063, -0.34732413,\n",
       "        -0.51026547, -0.97203016,  0.869904  ,  0.14186998,  0.9793873 ,\n",
       "        -0.14217955, -0.92453057, -0.21828978, -0.95572644, -0.0420334 ,\n",
       "        -0.13242212,  0.47643998, -0.01461685, -0.96000487,  0.5382693 ,\n",
       "         0.5572613 ,  0.27896267,  0.10023823,  0.9950006 ,  0.9999517 ,\n",
       "         0.9798137 ,  0.90020126,  0.7546084 , -0.97991705, -0.06743937,\n",
       "         0.9999802 , -0.7326625 , -0.99999934, -0.94850266, -0.7038155 ,\n",
       "         0.4939491 , -1.        , -0.17224148, -0.07785321, -0.9388011 ,\n",
       "        -0.05851831,  0.9820453 ,  0.99132955, -1.        ,  0.9201131 ,\n",
       "         0.93990386, -0.53095084,  0.44815427, -0.2992181 ,  0.98101825,\n",
       "         0.38451377,  0.5808235 , -0.12363043,  0.40751034, -0.6327837 ,\n",
       "        -0.87428135,  0.19122016, -0.03714136,  0.86891854,  0.29419664,\n",
       "        -0.6455403 , -0.93414724,  0.1356964 , -0.08485238, -0.07966624,\n",
       "        -0.96975446, -0.25297534, -0.36070642,  0.6137614 ,  0.22456181,\n",
       "         0.14226143, -0.75787747,  0.25407138, -0.41170758,  0.43701884,\n",
       "         0.5368972 , -0.8833874 , -0.6819331 , -0.16294782, -0.7085259 ,\n",
       "         0.04635558, -0.961708  ,  0.9815815 , -0.34200656, -0.07600184,\n",
       "         1.        , -0.3055335 , -0.9102724 ,  0.5071699 ,  0.23340116,\n",
       "        -0.14084432,  1.        ,  0.42982173, -0.9899489 , -0.4579754 ,\n",
       "         0.21165363, -0.49337056, -0.41819283,  0.9994523 , -0.20582451,\n",
       "         0.09756737,  0.2985946 ,  0.98846495, -0.99501616,  0.70661837,\n",
       "        -0.88966864, -0.9747271 ,  0.9685594 ,  0.9459591 , -0.14492233,\n",
       "        -0.7478846 ,  0.11304732, -0.26292032,  0.2775493 , -0.94697607,\n",
       "         0.6965369 ,  0.43492436, -0.15546013,  0.92097014, -0.8636706 ,\n",
       "        -0.4721331 ,  0.37484017, -0.20851266,  0.49801674,  0.12881874,\n",
       "         0.42180014, -0.31736088, -0.02817734, -0.3810359 , -0.16773121,\n",
       "        -0.9693684 ,  0.16157374,  1.        ,  0.13146946, -0.26872194,\n",
       "        -0.11070291, -0.10168029, -0.07982075,  0.2516809 ,  0.3322881 ,\n",
       "        -0.3026329 , -0.8314774 , -0.02798513, -0.9237058 , -0.99506944,\n",
       "         0.7767364 ,  0.28881845, -0.16995057,  0.9998307 ,  0.2787838 ,\n",
       "         0.08332112, -0.15655062,  0.43511224,  0.011105  ,  0.4685249 ,\n",
       "        -0.15948163,  0.98131126, -0.32456288,  0.3807426 ,  0.8669218 ,\n",
       "        -0.12234325, -0.32716066, -0.6491841 ,  0.16976699, -0.92545235,\n",
       "         0.11512466, -0.9700401 ,  0.97611374, -0.01829031,  0.28268245,\n",
       "         0.28612706,  0.28044727,  1.        , -0.10931918,  0.6653439 ,\n",
       "        -0.58444476,  0.82040995, -0.94286674, -0.6638958 , -0.42921728,\n",
       "         0.00587143,  0.29637092, -0.16079603,  0.32243797, -0.9760266 ,\n",
       "        -0.09335236, -0.15819338, -0.97464615, -0.99204737,  0.5314473 ,\n",
       "         0.7708915 ,  0.10020067, -0.6892588 , -0.55573183, -0.6462685 ,\n",
       "         0.28060898, -0.23870172, -0.9618173 ,  0.628951  , -0.31488606,\n",
       "         0.30410242, -0.26282594,  0.47716326, -0.06081733,  0.7204474 ,\n",
       "        -0.07079044, -0.10215334, -0.30963895, -0.85955566,  0.8262774 ,\n",
       "        -0.7349967 , -0.30548784, -0.1440871 ,  1.        , -0.23674688,\n",
       "         0.28129262,  0.60343045,  0.6684501 , -0.12106765,  0.17195588,\n",
       "         0.3314946 ,  0.21419768, -0.08423737,  0.36822534, -0.8061258 ,\n",
       "        -0.24183913,  0.56056577, -0.07835189,  0.00797329,  0.85542667,\n",
       "         0.14505036,  0.21352182, -0.07947156,  0.11104085,  0.9987579 ,\n",
       "        -0.13505822, -0.10661279, -0.5642036 , -0.01884621, -0.22688207,\n",
       "        -0.4976083 ,  0.99999976,  0.3667456 , -0.11684304, -0.99614763,\n",
       "        -0.28403223, -0.9115951 ,  0.9998222 ,  0.86641264, -0.89521015,\n",
       "         0.38202286,  0.40848368, -0.31587422,  0.6758583 , -0.29728636,\n",
       "        -0.3778883 ,  0.17582868,  0.2464017 ,  0.9641439 , -0.53733295,\n",
       "        -0.98489136, -0.6183259 ,  0.31165177, -0.95519084,  0.9852944 ,\n",
       "        -0.58582926, -0.03560346, -0.35171756, -0.00634813,  0.8625734 ,\n",
       "        -0.0495928 , -0.9884184 , -0.29547152,  0.17835635,  0.9839476 ,\n",
       "         0.26428607, -0.4743098 , -0.93502754, -0.08360735,  0.17325957,\n",
       "         0.07969883, -0.9546008 ,  0.98162293, -0.97649074,  0.28574333,\n",
       "         0.9999991 ,  0.33708683, -0.61211675,  0.13154705, -0.4488074 ,\n",
       "         0.27486658, -0.14556162,  0.6705759 , -0.9684607 , -0.3184606 ,\n",
       "        -0.15346336,  0.3823067 , -0.2037107 ,  0.16766219,  0.69896245,\n",
       "         0.17024256, -0.40062186, -0.5417914 , -0.05350834,  0.41822955,\n",
       "         0.6888558 , -0.32998976, -0.18238802,  0.17126721, -0.09728223,\n",
       "        -0.92767775, -0.33843446, -0.31190214, -0.99723274,  0.6729288 ,\n",
       "        -1.        ,  0.02764509, -0.38439324, -0.18392277,  0.8520326 ,\n",
       "         0.02317527, -0.00147054, -0.83896744,  0.10221323,  0.80632144,\n",
       "         0.82048327, -0.20134884,  0.2629711 , -0.7059906 ,  0.1461381 ,\n",
       "        -0.1923456 ,  0.23708615, -0.014278  ,  0.6513621 , -0.14224373,\n",
       "         1.        ,  0.12651543, -0.39088592, -0.96541446,  0.29275736,\n",
       "        -0.23941527,  0.9999867 , -0.89194494, -0.97084093,  0.32194167,\n",
       "        -0.55765444, -0.8215545 ,  0.31405908,  0.10967871, -0.67282826,\n",
       "        -0.37335968,  0.9500116 ,  0.89303225, -0.52119833,  0.36082476,\n",
       "        -0.24025972, -0.36061987,  0.06054316,  0.15223475,  0.9929591 ,\n",
       "         0.4929258 ,  0.7887717 ,  0.25951415,  0.1501477 ,  0.96769524,\n",
       "         0.24829489,  0.6141413 ,  0.14130357,  1.        ,  0.33718902,\n",
       "        -0.9268161 ,  0.30011964, -0.98079914, -0.30206212, -0.94419426,\n",
       "         0.34094048,  0.15577045,  0.8700314 , -0.25824863,  0.966981  ,\n",
       "         0.15320471,  0.01859568,  0.0034217 ,  0.3640729 ,  0.33440465,\n",
       "        -0.9511311 , -0.9923505 , -0.9924001 ,  0.25047565, -0.46403354,\n",
       "        -0.06331319,  0.26127395,  0.19445466,  0.35839564,  0.31255236,\n",
       "        -0.99999905,  0.94960004,  0.48241106,  0.29172072,  0.9809808 ,\n",
       "         0.02308636,  0.23758867,  0.2594108 , -0.989308  , -0.97734994,\n",
       "        -0.28400788, -0.37243238,  0.75271714,  0.57101476,  0.8648113 ,\n",
       "         0.3897606 , -0.4850704 , -0.26333204,  0.16417317, -0.28586295,\n",
       "        -0.9948428 ,  0.5218041 ,  0.32705304, -0.9583995 ,  0.9656073 ,\n",
       "        -0.3434195 , -0.20098059,  0.64371586, -0.01802345,  0.9309577 ,\n",
       "         0.83209234,  0.59911793,  0.11481636,  0.43817088,  0.92354345,\n",
       "         0.9348204 ,  0.99206084, -0.21171471,  0.76004946,  0.3929923 ,\n",
       "         0.36563197,  0.2755335 , -0.9468497 ,  0.12100028,  0.00179962,\n",
       "        -0.39508307,  0.2734256 , -0.28996545, -0.9388434 ,  0.5006268 ,\n",
       "        -0.16485946,  0.5720182 , -0.31067067,  0.12270314, -0.4077691 ,\n",
       "        -0.18846968, -0.7894728 , -0.47740608,  0.55848026,  0.38605222,\n",
       "         0.94158524,  0.40178186, -0.08629466, -0.6735121 , -0.2719604 ,\n",
       "        -0.08310556, -0.95254534,  0.8663924 , -0.0670147 ,  0.18488455,\n",
       "         0.05364466,  0.05445544,  0.6986501 , -0.2741277 , -0.37789384,\n",
       "        -0.3432013 , -0.70967233,  0.7828229 , -0.2851795 , -0.58682364,\n",
       "        -0.44530475,  0.6198909 ,  0.2653492 ,  0.9949816 , -0.22679251,\n",
       "         0.08327743, -0.13161385, -0.2784842 ,  0.32921943, -0.41087666,\n",
       "        -0.9999993 ,  0.35513705,  0.3115044 , -0.02143053, -0.12868354,\n",
       "         0.11451989,  0.10220894, -0.9641809 , -0.2928811 , -0.17631605,\n",
       "        -0.07076731, -0.45257008, -0.41790736,  0.52908367,  0.6316099 ,\n",
       "         0.4163335 ,  0.89519566, -0.22849262,  0.53659666,  0.52207434,\n",
       "        -0.01326132, -0.59972477,  0.91416645]], dtype=float32)>, past_key_values=None, hidden_states=None, attentions=None, cross_attentions=None)"
      ]
     },
     "execution_count": 57,
     "metadata": {},
     "output_type": "execute_result"
    }
   ],
   "source": [
    "outputs\n"
   ]
  },
  {
   "cell_type": "code",
   "execution_count": 58,
   "metadata": {},
   "outputs": [
    {
     "data": {
      "text/plain": [
       "<tf.Tensor: shape=(1, 8, 768), dtype=float32, numpy=\n",
       "array([[[-0.35877097, -0.2436432 ,  0.02884691, ..., -0.37103823,\n",
       "          0.34817886,  0.08836893],\n",
       "        [-0.04475386, -0.3682535 ,  0.3098363 , ..., -0.21683535,\n",
       "          0.7589135 , -0.36365938],\n",
       "        [-0.4964576 , -0.1499548 ,  0.6971106 , ..., -0.4307014 ,\n",
       "          0.37299612, -0.8714325 ],\n",
       "        ...,\n",
       "        [ 1.3492085 , -0.29993764,  0.7885003 , ..., -0.62087995,\n",
       "         -0.13188845, -0.78739303],\n",
       "        [ 0.52342206, -0.8765727 , -0.07321079, ..., -0.25163823,\n",
       "         -0.05105691, -0.53487813],\n",
       "        [ 0.94795084,  0.13952154, -0.3133632 , ...,  0.2914263 ,\n",
       "         -0.65409744, -0.48502716]]], dtype=float32)>"
      ]
     },
     "execution_count": 58,
     "metadata": {},
     "output_type": "execute_result"
    }
   ],
   "source": [
    "prediction_logits"
   ]
  },
  {
   "cell_type": "code",
   "execution_count": 59,
   "metadata": {},
   "outputs": [
    {
     "data": {
      "text/plain": [
       "51"
      ]
     },
     "execution_count": 59,
     "metadata": {},
     "output_type": "execute_result"
    }
   ],
   "source": [
    "len(vocab)"
   ]
  },
  {
   "cell_type": "code",
   "execution_count": 60,
   "metadata": {},
   "outputs": [
    {
     "data": {
      "text/plain": [
       "{'input_ids': <tf.Tensor: shape=(1, 8), dtype=int32, numpy=array([[ 101, 2515, 2265, 2039, 1999, 2606, 7099,  102]])>, 'token_type_ids': <tf.Tensor: shape=(1, 8), dtype=int32, numpy=array([[0, 0, 0, 0, 0, 0, 0, 0]])>, 'attention_mask': <tf.Tensor: shape=(1, 8), dtype=int32, numpy=array([[1, 1, 1, 1, 1, 1, 1, 1]])>}"
      ]
     },
     "execution_count": 60,
     "metadata": {},
     "output_type": "execute_result"
    }
   ],
   "source": [
    "input_ids"
   ]
  },
  {
   "attachments": {},
   "cell_type": "markdown",
   "metadata": {},
   "source": [
    "Build model"
   ]
  },
  {
   "cell_type": "code",
   "execution_count": 61,
   "metadata": {},
   "outputs": [],
   "source": [
    "\n",
    "# #importing the pretrained biobert tokenizer and the biobert model\n",
    "# from transformers import AutoTokenizer, TFAutoModel\n",
    "# tokenizer = AutoTokenizer.from_pretrained(\"cambridgeltl/BioRedditBERT-uncased\")\n",
    "\n",
    "# bert_model = TFAutoModel.from_pretrained(\"cambridgeltl/BioRedditBERT-uncased\")"
   ]
  },
  {
   "attachments": {},
   "cell_type": "markdown",
   "metadata": {},
   "source": [
    "Build our model for multi-label classification. We will get the output from Bert for question. Then we apply "
   ]
  },
  {
   "cell_type": "code",
   "execution_count": 62,
   "metadata": {},
   "outputs": [],
   "source": [
    "class TagsWithBert(tf.keras.Model):\n",
    "    def __init__(\n",
    "            self,\n",
    "            trainable=False,\n",
    "            name=''):\n",
    "        super(TagsWithBert, self).__init__(name=name)\n",
    "        # self.Flat = tf.keras.layers.Flatten()\n",
    "        # self.tokenizer = tokenizer\n",
    "        self.Dense512 = tf.keras.layers.Dense(512,  activation=\"relu\")\n",
    "        self.Drop1 = tf.keras.layers.Dropout(0.3)\n",
    "        self.Dense256 = tf.keras.layers.Dense(256,  activation=\"relu\")\n",
    "        self.Drop2 = tf.keras.layers.Dropout(0.2)\n",
    "        self.Dense128 = tf.keras.layers.Dense(128,  activation=\"relu\")\n",
    "        self.Dense_mul_tags = tf.keras.layers.Dense(len(vocab), activation = \"sigmoid\")\n",
    "        self.biobert_model=bert_model\n",
    "        self.biobert_model.trainable=trainable\n",
    "        # self.cos=tf.keras.layers.Dot(axes=1,normalize=True)\n",
    "\n",
    "    def call(self, inputs):\n",
    "        # inputs = self.tokenizer(batch_inputs['question'])\n",
    "        # question_embeddings=bert_model(input_ids = inputs['question'])\n",
    "        question_embeddings = self.biobert_model(input_ids=inputs['question']).pooler_output\n",
    "        # print(\"Hello\")\n",
    "        output = self.Dense512(question_embeddings)\n",
    "        output = self.Drop1(output)\n",
    "        output = self.Dense256(output)\n",
    "        output = self.Drop2(output)\n",
    "        output = self.Dense128(output)\n",
    "        # print(\"Pass Dene256\")\n",
    "        output = self.Dense_mul_tags(output)\n",
    "        # print(\"pass last layer\")\n",
    "        # print(output.shape)\n",
    "    #   q_ffnn=self.Dense512(question_embeddings)\n",
    "    #   a_ffnn=self.Dense256(answer_embeddings)\n",
    "    #   output=self.cos([q_ffnn,a_ffnn])\n",
    "        return {\"label\":output}\n",
    "        # return output"
   ]
  },
  {
   "cell_type": "code",
   "execution_count": 63,
   "metadata": {},
   "outputs": [],
   "source": [
    "train_label = [lookup(x).numpy() for x in train['tags_100']]"
   ]
  },
  {
   "cell_type": "code",
   "execution_count": 64,
   "metadata": {},
   "outputs": [
    {
     "data": {
      "text/plain": [
       "array([0., 0., 0., 0., 0., 0., 0., 1., 0., 0., 0., 0., 0., 0., 0., 0., 0.,\n",
       "       0., 0., 0., 0., 0., 0., 0., 0., 0., 0., 0., 0., 0., 0., 0., 0., 0.,\n",
       "       0., 0., 0., 0., 0., 0., 0., 0., 0., 0., 0., 0., 0., 0., 0., 0., 0.],\n",
       "      dtype=float32)"
      ]
     },
     "execution_count": 64,
     "metadata": {},
     "output_type": "execute_result"
    }
   ],
   "source": [
    "train_label[0]"
   ]
  },
  {
   "cell_type": "code",
   "execution_count": 65,
   "metadata": {},
   "outputs": [
    {
     "data": {
      "text/plain": [
       "'the most effective skin care  i am for normal skincare but do not take my word for it try some out yourself study customer opinions and make your brain up next the most effective businesses may have a no risk assure you can send total or applied containers back and obtain a complete refund if you are not 100 pleased skin care'"
      ]
     },
     "execution_count": 65,
     "metadata": {},
     "output_type": "execute_result"
    }
   ],
   "source": [
    "train['truncated_question'].values[0]"
   ]
  },
  {
   "cell_type": "code",
   "execution_count": 66,
   "metadata": {},
   "outputs": [],
   "source": [
    "MAX_LENGTH = 125\n",
    "# import tensorflow as tf\n",
    "\n",
    "\n",
    "# Tokenize, filter and pad sentences\n",
    "def tokenize_and_filter(questions):\n",
    "  tokenized_questions = []\n",
    "  \n",
    "  for question in questions:\n",
    "    # generating sequences\n",
    "    tokenized_question =  tokenizer.encode(question, truncation=True)\n",
    "    # print(\"test1\")\n",
    "    # tokenized_question = tokenized_question.reshape([1,-1])\n",
    "    tokenized_questions.append(tokenized_question)\n",
    "    # print(\"test2\")\n",
    "  # padding the sequences\n",
    "  tokenized_questions = tf.keras.preprocessing.sequence.pad_sequences(\n",
    "      tokenized_questions, maxlen=MAX_LENGTH, padding='post')\n",
    "  \n",
    "  return tokenized_questions\n",
    "\n"
   ]
  },
  {
   "cell_type": "code",
   "execution_count": 67,
   "metadata": {},
   "outputs": [
    {
     "data": {
      "text/plain": [
       "(8835, 125)"
      ]
     },
     "execution_count": 67,
     "metadata": {},
     "output_type": "execute_result"
    }
   ],
   "source": [
    "tokenize_and_filter(train['truncated_question'].values).shape"
   ]
  },
  {
   "cell_type": "code",
   "execution_count": 68,
   "metadata": {},
   "outputs": [],
   "source": [
    "#tokenizing and padding the train questions and answers\n",
    "train_questions = tokenize_and_filter(train['truncated_question'].values)\n",
    "# train_questions = [x.reshape([1,-1]) for x in train_questions]"
   ]
  },
  {
   "cell_type": "code",
   "execution_count": 69,
   "metadata": {},
   "outputs": [],
   "source": [
    "val_questions = tokenize_and_filter(validation['truncated_question'].values)\n",
    "# val_questions = [x.reshape([1,-1]) for x in val_questions]"
   ]
  },
  {
   "cell_type": "code",
   "execution_count": 70,
   "metadata": {},
   "outputs": [
    {
     "data": {
      "text/plain": [
       "(8835, 125)"
      ]
     },
     "execution_count": 70,
     "metadata": {},
     "output_type": "execute_result"
    }
   ],
   "source": [
    "train_questions.shape"
   ]
  },
  {
   "cell_type": "code",
   "execution_count": 71,
   "metadata": {},
   "outputs": [
    {
     "data": {
      "text/plain": [
       "(8835, 125)"
      ]
     },
     "execution_count": 71,
     "metadata": {},
     "output_type": "execute_result"
    }
   ],
   "source": [
    "train_questions.shape"
   ]
  },
  {
   "cell_type": "code",
   "execution_count": 72,
   "metadata": {},
   "outputs": [],
   "source": [
    "# import tensorflow as tf\n",
    "BATCH_SIZE = 6\n",
    "BUFFER_SIZE = 2000\n",
    "train_dataset = tf.data.Dataset.from_tensor_slices((\n",
    "    {\n",
    "        'question': train_questions\n",
    "    },\n",
    "    {\n",
    "        'label': train_label\n",
    "    }\n",
    "\n",
    "))\n",
    "\n",
    "train_dataset = train_dataset.cache()\n",
    "train_dataset = train_dataset.shuffle(BUFFER_SIZE)\n",
    "train_dataset = train_dataset.batch(BATCH_SIZE,drop_remainder=True)\n",
    "train_dataset = train_dataset.prefetch(tf.data.experimental.AUTOTUNE)"
   ]
  },
  {
   "cell_type": "code",
   "execution_count": 73,
   "metadata": {},
   "outputs": [],
   "source": [
    "val_label = [lookup(x).numpy() for x in validation['tags_100']]"
   ]
  },
  {
   "cell_type": "code",
   "execution_count": 74,
   "metadata": {},
   "outputs": [
    {
     "data": {
      "text/plain": [
       "(51,)"
      ]
     },
     "execution_count": 74,
     "metadata": {},
     "output_type": "execute_result"
    }
   ],
   "source": [
    "val_label[0].shape"
   ]
  },
  {
   "cell_type": "code",
   "execution_count": 75,
   "metadata": {},
   "outputs": [],
   "source": [
    "BATCH_SIZE = 6\n",
    "BUFFER_SIZE = 2000\n",
    "val_dataset = tf.data.Dataset.from_tensor_slices((\n",
    "    {\n",
    "        'question': val_questions\n",
    "    },\n",
    "    {\n",
    "        'label': val_label\n",
    "    }\n",
    "\n",
    "))\n",
    "\n",
    "val_dataset = val_dataset.cache()\n",
    "val_dataset = val_dataset.shuffle(BUFFER_SIZE)\n",
    "val_dataset = val_dataset.batch(BATCH_SIZE,drop_remainder=True)\n",
    "val_dataset = val_dataset.prefetch(tf.data.experimental.AUTOTUNE)"
   ]
  },
  {
   "cell_type": "code",
   "execution_count": 76,
   "metadata": {},
   "outputs": [
    {
     "data": {
      "text/plain": [
       "(2761, 125)"
      ]
     },
     "execution_count": 76,
     "metadata": {},
     "output_type": "execute_result"
    }
   ],
   "source": [
    "val_questions.shape"
   ]
  },
  {
   "cell_type": "code",
   "execution_count": 77,
   "metadata": {},
   "outputs": [],
   "source": [
    "test_questions = tokenize_and_filter(test['truncated_question'].values)\n",
    "test_label = [lookup(x).numpy() for x in test['tags_100']]\n",
    "BATCH_SIZE = 1\n",
    "BUFFER_SIZE = 2000\n",
    "test_dataset = tf.data.Dataset.from_tensor_slices((\n",
    "    {\n",
    "        'question': test_questions\n",
    "    },\n",
    "    {\n",
    "        'label': test_label\n",
    "    }\n",
    "\n",
    "))\n",
    "\n",
    "test_dataset = test_dataset.cache()\n",
    "test_dataset = test_dataset.shuffle(BUFFER_SIZE)\n",
    "test_dataset = test_dataset.batch(BATCH_SIZE,drop_remainder=True)\n",
    "test_dataset = test_dataset.prefetch(tf.data.experimental.AUTOTUNE)"
   ]
  },
  {
   "cell_type": "code",
   "execution_count": 78,
   "metadata": {},
   "outputs": [],
   "source": [
    "model = TagsWithBert(trainable=True)\n",
    "model.compile(\n",
    "    loss=\"binary_crossentropy\", optimizer=\"sgd\", metrics=[tf.keras.metrics.CategoricalAccuracy()], run_eagerly=True\n",
    ")"
   ]
  },
  {
   "cell_type": "code",
   "execution_count": 79,
   "metadata": {},
   "outputs": [],
   "source": [
    "t=val_dataset.take(1)"
   ]
  },
  {
   "cell_type": "code",
   "execution_count": 80,
   "metadata": {},
   "outputs": [
    {
     "data": {
      "text/plain": [
       "<tf.Tensor: shape=(6, 125), dtype=int32, numpy=\n",
       "array([[  101,  2064,  6634,  4491,  3426,  2534, 14194, 22045,  1045,\n",
       "         2572,  1037,  2321,  2095,  2214,  2611,  1998,  1045,  2031,\n",
       "         2467,  2018, 10089,  2021,  2196,  2151,  6634,  4491,  2197,\n",
       "         2305,  2174,  1045,  2001,  3564,  2894,  1999,  2026,  3103,\n",
       "         9954,  2043,  1037,  2312,  5192,  2790,  2000,  4088,  3652,\n",
       "         2077,  2026,  2159,  2009,  2921,  3652,  1998,  1045,  2288,\n",
       "         2061, 10215,  1045,  2031,  2196,  2042,  2008,  6015,  2077,\n",
       "         2009,  2001,  2995,  3571,  1999,  1996,  6770,  1997,  2026,\n",
       "         4308,  2026,  2303,  2001, 10226,  1998,  1045,  2071,  4510,\n",
       "         2693,  2026,  2540,  2001,  3868,  1998,  1045,  2001, 18972,\n",
       "         1045,  2776, 20869,  2870,  2011,  4823,  2320,  1045,  2001,\n",
       "         5475,  1045,  2371,  2200,  2200,  5458,  2054,  2001,  2023,\n",
       "          102,     0,     0,     0,     0,     0,     0,     0,     0,\n",
       "            0,     0,     0,     0,     0,     0,     0,     0],\n",
       "       [  101,  2003,  2009,  4795,  2000, 13558,  1996,  5699, 15345,\n",
       "         1999,  1037,  4182,  2491,  5308,  2000, 14171,  1037,  2273,\n",
       "         3367,  6820,  2389,  5402,   102,     0,     0,     0,     0,\n",
       "            0,     0,     0,     0,     0,     0,     0,     0,     0,\n",
       "            0,     0,     0,     0,     0,     0,     0,     0,     0,\n",
       "            0,     0,     0,     0,     0,     0,     0,     0,     0,\n",
       "            0,     0,     0,     0,     0,     0,     0,     0,     0,\n",
       "            0,     0,     0,     0,     0,     0,     0,     0,     0,\n",
       "            0,     0,     0,     0,     0,     0,     0,     0,     0,\n",
       "            0,     0,     0,     0,     0,     0,     0,     0,     0,\n",
       "            0,     0,     0,     0,     0,     0,     0,     0,     0,\n",
       "            0,     0,     0,     0,     0,     0,     0,     0,     0,\n",
       "            0,     0,     0,     0,     0,     0,     0,     0,     0,\n",
       "            0,     0,     0,     0,     0,     0,     0,     0],\n",
       "       [  101,  2025,  2893,  2558,  2006, 16371, 10755,  2075,  1045,\n",
       "         2031,  2042,  2006,  1996, 16371, 10755,  2075,  2005,  2055,\n",
       "         1021,  2706,  2013,  2054,  2026,  1051, 19722, 13490,  8094,\n",
       "         2758,  1045,  2323,  2031,  2318,  2026,  2558,  2023,  2627,\n",
       "         5095,  1045,  2788,  2707,  2006,  4465,  2092,  2009,  2003,\n",
       "         2085,  6928,  1998,  1045,  2031,  2025,  2318,  2664,  2412,\n",
       "         2144,  1045,  2031,  2042,  2006,  1996, 16371, 10755,  2075,\n",
       "         2026,  2558,  2003,  2196,  8335,  1045,  2097,  2131,  2009,\n",
       "         3180,  2005,  1037,  2261,  2420,  1998,  1996,  2279,  3204,\n",
       "         1045,  2097, 21569,  2131,  2505,  2012,  2035,  2515,  3087,\n",
       "         2842,  2031,  3471,  2066,  2023,  2003,  2009,  3671,  2323,\n",
       "         1045,  4737,  2055,  2065,  1045,  2572,  6875,  2030,  2025,\n",
       "          102,     0,     0,     0,     0,     0,     0,     0,     0,\n",
       "            0,     0,     0,     0,     0,     0,     0,     0],\n",
       "       [  101,  1045,  2018,  3313,  2014,  6200, 11667,  8029, 18029,\n",
       "         1045,  2031,  3255,  2296,  2154,  2085,  2007,  2019,  2330,\n",
       "         6357,  2008,  2196,  2701,  1998,  2003,  2893,  7046,  1045,\n",
       "         2018,  1037,  3313,  2014,  6200, 11667,  8029, 18029,  2008,\n",
       "         2001,  2025,  2589,  2157,  1998,  1045,  2031,  3255,  2296,\n",
       "         2154,  2085,  2005,  1996,  2627,  1016,  2086,  2247,  2007,\n",
       "         2019,  2330,  6357,  2008,  2003,  2893,  7046,  2065,  2017,\n",
       "         2298,  2012,  2033,  2009,  3504,  2066,  1045,  2572,  4394,\n",
       "         2431,  2026, 10722, 18879,  1998,  1045,  2079,  2025,  2202,\n",
       "         2125,  2026,  4253,  2060,  2084,  2000,  6457,  2061,  2009,\n",
       "         2428,  2524,  2000,  2022, 10305,  2007,  2026,  3129,  2009,\n",
       "         2003,  2036,  2524,  2000,  2022, 10308,  2006,  2011,  2026,\n",
       "         2336,  2138,  1997,  1996,  3255,  1045,  2001,  6603,  2065,\n",
       "         2045,  2003,  2070,  2028,  2105,  1999,  2026,   102],\n",
       "       [  101, 10563,  2287,  2324,  2007,  2659,  3694,  9016,  1016,\n",
       "         2420, 14978,  2159,  3480,  2007,  2422,  1998, 13408,  3356,\n",
       "         5423,   102,     0,     0,     0,     0,     0,     0,     0,\n",
       "            0,     0,     0,     0,     0,     0,     0,     0,     0,\n",
       "            0,     0,     0,     0,     0,     0,     0,     0,     0,\n",
       "            0,     0,     0,     0,     0,     0,     0,     0,     0,\n",
       "            0,     0,     0,     0,     0,     0,     0,     0,     0,\n",
       "            0,     0,     0,     0,     0,     0,     0,     0,     0,\n",
       "            0,     0,     0,     0,     0,     0,     0,     0,     0,\n",
       "            0,     0,     0,     0,     0,     0,     0,     0,     0,\n",
       "            0,     0,     0,     0,     0,     0,     0,     0,     0,\n",
       "            0,     0,     0,     0,     0,     0,     0,     0,     0,\n",
       "            0,     0,     0,     0,     0,     0,     0,     0,     0,\n",
       "            0,     0,     0,     0,     0,     0,     0,     0],\n",
       "       [  101,  2064,  2019,  3424, 26591,  2083,  2019,  4921,  2507,\n",
       "         2017,  1037, 23438,  1037,  3232,  2420,  2101,   102,     0,\n",
       "            0,     0,     0,     0,     0,     0,     0,     0,     0,\n",
       "            0,     0,     0,     0,     0,     0,     0,     0,     0,\n",
       "            0,     0,     0,     0,     0,     0,     0,     0,     0,\n",
       "            0,     0,     0,     0,     0,     0,     0,     0,     0,\n",
       "            0,     0,     0,     0,     0,     0,     0,     0,     0,\n",
       "            0,     0,     0,     0,     0,     0,     0,     0,     0,\n",
       "            0,     0,     0,     0,     0,     0,     0,     0,     0,\n",
       "            0,     0,     0,     0,     0,     0,     0,     0,     0,\n",
       "            0,     0,     0,     0,     0,     0,     0,     0,     0,\n",
       "            0,     0,     0,     0,     0,     0,     0,     0,     0,\n",
       "            0,     0,     0,     0,     0,     0,     0,     0,     0,\n",
       "            0,     0,     0,     0,     0,     0,     0,     0]])>"
      ]
     },
     "execution_count": 80,
     "metadata": {},
     "output_type": "execute_result"
    }
   ],
   "source": [
    "t.get_single_element()[0]['question']"
   ]
  },
  {
   "cell_type": "code",
   "execution_count": 81,
   "metadata": {},
   "outputs": [
    {
     "data": {
      "text/plain": [
       "BertConfig {\n",
       "  \"_name_or_path\": \"bert-base-uncased\",\n",
       "  \"architectures\": [\n",
       "    \"BertForMaskedLM\"\n",
       "  ],\n",
       "  \"attention_probs_dropout_prob\": 0.1,\n",
       "  \"classifier_dropout\": null,\n",
       "  \"gradient_checkpointing\": false,\n",
       "  \"hidden_act\": \"gelu\",\n",
       "  \"hidden_dropout_prob\": 0.1,\n",
       "  \"hidden_size\": 768,\n",
       "  \"initializer_range\": 0.02,\n",
       "  \"intermediate_size\": 3072,\n",
       "  \"layer_norm_eps\": 1e-12,\n",
       "  \"max_length\": 125,\n",
       "  \"max_position_embeddings\": 512,\n",
       "  \"model_type\": \"bert\",\n",
       "  \"num_attention_heads\": 12,\n",
       "  \"num_hidden_layers\": 12,\n",
       "  \"pad_token_id\": 0,\n",
       "  \"position_embedding_type\": \"absolute\",\n",
       "  \"transformers_version\": \"4.15.0\",\n",
       "  \"type_vocab_size\": 2,\n",
       "  \"use_cache\": true,\n",
       "  \"vocab_size\": 30522\n",
       "}"
      ]
     },
     "execution_count": 81,
     "metadata": {},
     "output_type": "execute_result"
    }
   ],
   "source": [
    "bert_model.config"
   ]
  },
  {
   "cell_type": "code",
   "execution_count": 82,
   "metadata": {},
   "outputs": [
    {
     "name": "stdout",
     "output_type": "stream",
     "text": [
      "Epoch 1/30\n",
      "1472/1472 [==============================] - 531s 361ms/step - loss: 0.1769 - categorical_accuracy: 0.1454 - val_loss: 0.1394 - val_categorical_accuracy: 0.2105\n",
      "Epoch 2/30\n",
      "1472/1472 [==============================] - 532s 362ms/step - loss: 0.1454 - categorical_accuracy: 0.1898 - val_loss: 0.1383 - val_categorical_accuracy: 0.2105\n",
      "Epoch 3/30\n",
      "1472/1472 [==============================] - 521s 354ms/step - loss: 0.1434 - categorical_accuracy: 0.1970 - val_loss: 0.1372 - val_categorical_accuracy: 0.2105\n",
      "Epoch 4/30\n",
      "1472/1472 [==============================] - 528s 358ms/step - loss: 0.1415 - categorical_accuracy: 0.2037 - val_loss: 0.1354 - val_categorical_accuracy: 0.2105\n",
      "Epoch 5/30\n",
      "1472/1472 [==============================] - 544s 369ms/step - loss: 0.1374 - categorical_accuracy: 0.2249 - val_loss: 0.1272 - val_categorical_accuracy: 0.2754\n",
      "Epoch 6/30\n",
      "1472/1472 [==============================] - 519s 353ms/step - loss: 0.1291 - categorical_accuracy: 0.2904 - val_loss: 0.1203 - val_categorical_accuracy: 0.3348\n",
      "Epoch 7/30\n",
      "1472/1472 [==============================] - 527s 358ms/step - loss: 0.1241 - categorical_accuracy: 0.3205 - val_loss: 0.1163 - val_categorical_accuracy: 0.3467\n",
      "Epoch 8/30\n",
      "1472/1472 [==============================] - 527s 358ms/step - loss: 0.1195 - categorical_accuracy: 0.3368 - val_loss: 0.1115 - val_categorical_accuracy: 0.3768\n",
      "Epoch 9/30\n",
      "1472/1472 [==============================] - 521s 354ms/step - loss: 0.1154 - categorical_accuracy: 0.3619 - val_loss: 0.1066 - val_categorical_accuracy: 0.4033\n",
      "Epoch 10/30\n",
      "1472/1472 [==============================] - 519s 353ms/step - loss: 0.1103 - categorical_accuracy: 0.3982 - val_loss: 0.1008 - val_categorical_accuracy: 0.4547\n",
      "Epoch 11/30\n",
      "1472/1472 [==============================] - 516s 350ms/step - loss: 0.1054 - categorical_accuracy: 0.4275 - val_loss: 0.0951 - val_categorical_accuracy: 0.4793\n",
      "Epoch 12/30\n",
      "1472/1472 [==============================] - 516s 351ms/step - loss: 0.0994 - categorical_accuracy: 0.4754 - val_loss: 0.0880 - val_categorical_accuracy: 0.5246\n",
      "Epoch 13/30\n",
      "1472/1472 [==============================] - 520s 353ms/step - loss: 0.0938 - categorical_accuracy: 0.5144 - val_loss: 0.0825 - val_categorical_accuracy: 0.5920\n",
      "Epoch 14/30\n",
      "1472/1472 [==============================] - 520s 353ms/step - loss: 0.0884 - categorical_accuracy: 0.5510 - val_loss: 0.0766 - val_categorical_accuracy: 0.6254\n",
      "Epoch 15/30\n",
      "1472/1472 [==============================] - 516s 350ms/step - loss: 0.0834 - categorical_accuracy: 0.5842 - val_loss: 0.0711 - val_categorical_accuracy: 0.6793\n",
      "Epoch 16/30\n",
      "1472/1472 [==============================] - 521s 354ms/step - loss: 0.0782 - categorical_accuracy: 0.6172 - val_loss: 0.0664 - val_categorical_accuracy: 0.7069\n",
      "Epoch 17/30\n",
      "1472/1472 [==============================] - 519s 353ms/step - loss: 0.0733 - categorical_accuracy: 0.6476 - val_loss: 0.0615 - val_categorical_accuracy: 0.7156\n",
      "Epoch 18/30\n",
      "1472/1472 [==============================] - 536s 364ms/step - loss: 0.0686 - categorical_accuracy: 0.6630 - val_loss: 0.0571 - val_categorical_accuracy: 0.7301\n",
      "Epoch 19/30\n",
      "1472/1472 [==============================] - 517s 351ms/step - loss: 0.0645 - categorical_accuracy: 0.6793 - val_loss: 0.0524 - val_categorical_accuracy: 0.7391\n",
      "Epoch 20/30\n",
      "1472/1472 [==============================] - 519s 352ms/step - loss: 0.0604 - categorical_accuracy: 0.6943 - val_loss: 0.0494 - val_categorical_accuracy: 0.7167\n",
      "Epoch 21/30\n",
      "1472/1472 [==============================] - 519s 353ms/step - loss: 0.0567 - categorical_accuracy: 0.7064 - val_loss: 0.0460 - val_categorical_accuracy: 0.7486\n",
      "Epoch 22/30\n",
      "1472/1472 [==============================] - 521s 354ms/step - loss: 0.0535 - categorical_accuracy: 0.7150 - val_loss: 0.0428 - val_categorical_accuracy: 0.7475\n",
      "Epoch 23/30\n",
      "1472/1472 [==============================] - 521s 354ms/step - loss: 0.0504 - categorical_accuracy: 0.7241 - val_loss: 0.0411 - val_categorical_accuracy: 0.7514\n",
      "Epoch 24/30\n",
      "1472/1472 [==============================] - 517s 351ms/step - loss: 0.0475 - categorical_accuracy: 0.7266 - val_loss: 0.0387 - val_categorical_accuracy: 0.7388\n",
      "Epoch 25/30\n",
      "1472/1472 [==============================] - 525s 356ms/step - loss: 0.0451 - categorical_accuracy: 0.7317 - val_loss: 0.0373 - val_categorical_accuracy: 0.7609\n",
      "Epoch 26/30\n",
      "1472/1472 [==============================] - 525s 357ms/step - loss: 0.0428 - categorical_accuracy: 0.7344 - val_loss: 0.0346 - val_categorical_accuracy: 0.7362\n",
      "Epoch 27/30\n",
      "1472/1472 [==============================] - 518s 352ms/step - loss: 0.0408 - categorical_accuracy: 0.7327 - val_loss: 0.0340 - val_categorical_accuracy: 0.7446\n",
      "Epoch 28/30\n",
      "1472/1472 [==============================] - 527s 358ms/step - loss: 0.0388 - categorical_accuracy: 0.7322 - val_loss: 0.0336 - val_categorical_accuracy: 0.7315\n",
      "Epoch 29/30\n",
      "1472/1472 [==============================] - 554s 376ms/step - loss: 0.0376 - categorical_accuracy: 0.7326 - val_loss: 0.0313 - val_categorical_accuracy: 0.7435\n"
     ]
    }
   ],
   "source": [
    "callback = tf.keras.callbacks.EarlyStopping(monitor='categorical_accuracy', patience=3)\n",
    "history = model.fit(train_dataset, validation_data=val_dataset,epochs=30, callbacks=[callback])"
   ]
  },
  {
   "attachments": {},
   "cell_type": "markdown",
   "metadata": {},
   "source": [
    "We should train more with higher epochs = 50 or more if needed since the loss is still decreasing and accuracy is increasing after just 30 epochs. I don't want to wait more time for this demo purpose model. However, you can see that the results are very good as below for the predicted tags."
   ]
  },
  {
   "cell_type": "code",
   "execution_count": 83,
   "metadata": {},
   "outputs": [
    {
     "name": "stdout",
     "output_type": "stream",
     "text": [
      "2209/2209 [==============================] - 246s 111ms/step - loss: 0.0305 - categorical_accuracy: 0.7537\n"
     ]
    },
    {
     "data": {
      "text/plain": [
       "[0.030517101287841797, 0.7537347078323364]"
      ]
     },
     "execution_count": 83,
     "metadata": {},
     "output_type": "execute_result"
    }
   ],
   "source": [
    "model.evaluate(test_dataset)"
   ]
  },
  {
   "cell_type": "code",
   "execution_count": 84,
   "metadata": {},
   "outputs": [
    {
     "data": {
      "image/png": "[encoded data removed]",
      "text/plain": [
       "<Figure size 640x480 with 1 Axes>"
      ]
     },
     "metadata": {},
     "output_type": "display_data"
    }
   ],
   "source": [
    "from matplotlib import pyplot as plt\n",
    "plt.plot(history.history['categorical_accuracy'])\n",
    "plt.plot(history.history['val_categorical_accuracy'])\n",
    "plt.title('model accuracy')\n",
    "plt.ylabel('accuracy')\n",
    "plt.xlabel('epoch')\n",
    "plt.legend(['train', 'val'], loc='upper left')\n",
    "plt.show()"
   ]
  },
  {
   "cell_type": "code",
   "execution_count": 88,
   "metadata": {},
   "outputs": [
    {
     "data": {
      "image/png": "[encoded data removed]",
      "text/plain": [
       "<Figure size 640x480 with 1 Axes>"
      ]
     },
     "metadata": {},
     "output_type": "display_data"
    }
   ],
   "source": [
    "from matplotlib import pyplot as plt\n",
    "plt.plot(history.history['loss'])\n",
    "plt.plot(history.history['val_loss'])\n",
    "plt.title('model loss')\n",
    "plt.ylabel('loss')\n",
    "plt.xlabel('epoch')\n",
    "plt.legend(['train', 'val'], loc='upper left')\n",
    "plt.show()"
   ]
  },
  {
   "cell_type": "code",
   "execution_count": 238,
   "metadata": {},
   "outputs": [],
   "source": [
    "inference_dataset = test_dataset.take(100)"
   ]
  },
  {
   "cell_type": "code",
   "execution_count": 248,
   "metadata": {},
   "outputs": [
    {
     "name": "stdout",
     "output_type": "stream",
     "text": [
      "Abstract: [CLS] how effective is the tdap booster shot [SEP] [PAD] [PAD] [PAD] [PAD] [PAD] [PAD] [PAD] [PAD] [PAD] [PAD] [PAD] [PAD] [PAD] [PAD] [PAD] [PAD] [PAD] [PAD] [PAD] [PAD] [PAD] [PAD] [PAD] [PAD] [PAD] [PAD] [PAD] [PAD] [PAD] [PAD] [PAD] [PAD] [PAD] [PAD] [PAD] [PAD] [PAD] [PAD] [PAD] [PAD] [PAD] [PAD] [PAD] [PAD] [PAD] [PAD] [PAD] [PAD] [PAD] [PAD] [PAD] [PAD] [PAD] [PAD] [PAD] [PAD] [PAD] [PAD] [PAD] [PAD] [PAD] [PAD] [PAD] [PAD] [PAD] [PAD] [PAD] [PAD] [PAD] [PAD] [PAD] [PAD] [PAD] [PAD] [PAD] [PAD] [PAD] [PAD] [PAD] [PAD] [PAD] [PAD] [PAD] [PAD] [PAD] [PAD] [PAD] [PAD] [PAD] [PAD] [PAD] [PAD] [PAD] [PAD] [PAD] [PAD] [PAD] [PAD] [PAD] [PAD] [PAD] [PAD] [PAD] [PAD] [PAD] [PAD] [PAD] [PAD] [PAD] [PAD] [PAD] [PAD] [PAD] [PAD] [PAD]\n",
      "Label(s): ['injection']\n",
      "Predicted probabilities (0.6 cut off):([(0.86384636, 'injection')]\n",
      " \n"
     ]
    }
   ],
   "source": [
    "# Create a model for inference.\n",
    "\n",
    "# Create a small dataset just for demoing inference.\n",
    "# inference_dataset = val_dataset.take(100)\n",
    "text_batch, label_batch = next(iter(inference_dataset))\n",
    "predicted_probabilities = model.predict(text_batch)\n",
    "\n",
    "# Perform inference.\n",
    "for i, text in enumerate(text_batch['question']):\n",
    "    label = label_batch['label'][i].numpy()\n",
    "    print(f\"Abstract: {tokenizer.convert_tokens_to_string(tokenizer.convert_ids_to_tokens(text))}\")\n",
    "    print(f\"Label(s): {invert_multi_hot(label)}\")\n",
    "    predicted_proba = [proba for proba in predicted_probabilities['label']]\n",
    "    # top_3_labels = [\n",
    "    #     x\n",
    "    #     for _, x in sorted(\n",
    "    #         zip(predicted_probabilities['label'][i], lookup.get_vocabulary()),\n",
    "    #         key=lambda pair: pair[0],\n",
    "    #         reverse=True,\n",
    "    #     )\n",
    "    # ][:3]\n",
    "    res = []\n",
    "    for (x,y) in sorted(zip(predicted_probabilities['label'][i], lookup.get_vocabulary()), reverse=True):\n",
    "        if (x >0.6):\n",
    "            res.append((x,y))\n",
    "        # print((x,y))\n",
    "\n",
    "    # print(f\"Predicted Label(s): ({', '.join([label for label in top_3_labels])})\")\n",
    "\n",
    "    print(f\"Predicted probabilities (0.6 cut off):({res}\")\n",
    "\n",
    "    print(\" \")\n"
   ]
  },
  {
   "cell_type": "code",
   "execution_count": 96,
   "metadata": {},
   "outputs": [
    {
     "name": "stdout",
     "output_type": "stream",
     "text": [
      "[(0.8370679, 'leg'), (0.7785309, 'pain')]\n"
     ]
    }
   ],
   "source": [
    "# [(x,y) for (x,y) in (sorted(zip(predicted_probabilities['label'][i], lookup.get_vocabulary()), reverse=True) & (x >0.6))]\n",
    "res = []\n",
    "for (x,y) in sorted(zip(predicted_probabilities['label'][i], lookup.get_vocabulary()), reverse=True):\n",
    "    if (x >0.6):\n",
    "        res.append((x,y))\n",
    "        # print((x,y))\n",
    "print(res)"
   ]
  },
  {
   "cell_type": "code",
   "execution_count": 279,
   "metadata": {},
   "outputs": [],
   "source": [
    "q = pd.DataFrame(data = {'q':[\"i remove mascara can not i just wash my makeup off with soap and water\", \n",
    "\"how effective is the tdap booster shot\", \"How can I reduce fever after getting vaccine shot?\",\"How do I get my face clean after make up?\"]})\n"
   ]
  },
  {
   "cell_type": "code",
   "execution_count": 280,
   "metadata": {},
   "outputs": [
    {
     "data": {
      "text/plain": [
       "0    i remove mascara can not i just wash my makeup...\n",
       "1               how effective is the tdap booster shot\n",
       "2    How can I reduce fever after getting vaccine s...\n",
       "3            How do I get my face clean after make up?\n",
       "Name: q, dtype: object"
      ]
     },
     "execution_count": 280,
     "metadata": {},
     "output_type": "execute_result"
    }
   ],
   "source": [
    "q['q']"
   ]
  },
  {
   "cell_type": "code",
   "execution_count": 281,
   "metadata": {},
   "outputs": [],
   "source": [
    "test_check = tokenize_and_filter(q['q'].values)\n",
    "# test_check_label = [lookup(x).numpy() for x in test['tags_100']]\n",
    "BATCH_SIZE = 2\n",
    "BUFFER_SIZE = 2000\n",
    "test_check_dataset = tf.data.Dataset.from_tensor_slices((\n",
    "    {\n",
    "        'question': test_check\n",
    "    }\n",
    "))\n",
    "\n",
    "test_check_dataset = test_check_dataset.cache()\n",
    "test_check_dataset = test_check_dataset.shuffle(BUFFER_SIZE)\n",
    "test_check_dataset = test_check_dataset.batch(BATCH_SIZE,drop_remainder=True)\n",
    "test_check_dataset = test_check_dataset.prefetch(tf.data.experimental.AUTOTUNE)"
   ]
  },
  {
   "cell_type": "code",
   "execution_count": 286,
   "metadata": {},
   "outputs": [
    {
     "name": "stdout",
     "output_type": "stream",
     "text": [
      "Abstract: [CLS] how effective is the tdap booster shot [SEP] [PAD] [PAD] [PAD] [PAD] [PAD] [PAD] [PAD] [PAD] [PAD] [PAD] [PAD] [PAD] [PAD] [PAD] [PAD] [PAD] [PAD] [PAD] [PAD] [PAD] [PAD] [PAD] [PAD] [PAD] [PAD] [PAD] [PAD] [PAD] [PAD] [PAD] [PAD] [PAD] [PAD] [PAD] [PAD] [PAD] [PAD] [PAD] [PAD] [PAD] [PAD] [PAD] [PAD] [PAD] [PAD] [PAD] [PAD] [PAD] [PAD] [PAD] [PAD] [PAD] [PAD] [PAD] [PAD] [PAD] [PAD] [PAD] [PAD] [PAD] [PAD] [PAD] [PAD] [PAD] [PAD] [PAD] [PAD] [PAD] [PAD] [PAD] [PAD] [PAD] [PAD] [PAD] [PAD] [PAD] [PAD] [PAD] [PAD] [PAD] [PAD] [PAD] [PAD] [PAD] [PAD] [PAD] [PAD] [PAD] [PAD] [PAD] [PAD] [PAD] [PAD] [PAD] [PAD] [PAD] [PAD] [PAD] [PAD] [PAD] [PAD] [PAD] [PAD] [PAD] [PAD] [PAD] [PAD] [PAD] [PAD] [PAD] [PAD] [PAD] [PAD] [PAD] [PAD]\n",
      "Predicted probabilities (0.6 cut off):([(0.86384636, 'injection')]\n",
      " \n",
      "Abstract: [CLS] how do i get my face clean after make up? [SEP] [PAD] [PAD] [PAD] [PAD] [PAD] [PAD] [PAD] [PAD] [PAD] [PAD] [PAD] [PAD] [PAD] [PAD] [PAD] [PAD] [PAD] [PAD] [PAD] [PAD] [PAD] [PAD] [PAD] [PAD] [PAD] [PAD] [PAD] [PAD] [PAD] [PAD] [PAD] [PAD] [PAD] [PAD] [PAD] [PAD] [PAD] [PAD] [PAD] [PAD] [PAD] [PAD] [PAD] [PAD] [PAD] [PAD] [PAD] [PAD] [PAD] [PAD] [PAD] [PAD] [PAD] [PAD] [PAD] [PAD] [PAD] [PAD] [PAD] [PAD] [PAD] [PAD] [PAD] [PAD] [PAD] [PAD] [PAD] [PAD] [PAD] [PAD] [PAD] [PAD] [PAD] [PAD] [PAD] [PAD] [PAD] [PAD] [PAD] [PAD] [PAD] [PAD] [PAD] [PAD] [PAD] [PAD] [PAD] [PAD] [PAD] [PAD] [PAD] [PAD] [PAD] [PAD] [PAD] [PAD] [PAD] [PAD] [PAD] [PAD] [PAD] [PAD] [PAD] [PAD] [PAD] [PAD] [PAD] [PAD] [PAD] [PAD] [PAD] [PAD]\n",
      "Predicted probabilities (0.6 cut off):([(0.43243155, 'skin')]\n",
      " \n"
     ]
    }
   ],
   "source": [
    "# Create a model for inference.\n",
    "\n",
    "# Create a small dataset just for demoing inference.\n",
    "# inference_dataset = val_dataset.take(100)\n",
    "text_batch = next(iter(test_check_dataset))\n",
    "predicted_probabilities = model.predict(text_batch)\n",
    "\n",
    "# Perform inference.\n",
    "for i, text in enumerate(text_batch['question']):\n",
    "    # label = label_batch['label'][i].numpy()\n",
    "    print(f\"Abstract: {tokenizer.convert_tokens_to_string(tokenizer.convert_ids_to_tokens(text))}\")\n",
    "    # print(f\"Label(s): {invert_multi_hot(label)}\")\n",
    "    predicted_proba = [proba for proba in predicted_probabilities['label']]\n",
    "    # top_3_labels = [\n",
    "    #     x\n",
    "    #     for _, x in sorted(\n",
    "    #         zip(predicted_probabilities['label'][i], lookup.get_vocabulary()),\n",
    "    #         key=lambda pair: pair[0],\n",
    "    #         reverse=True,\n",
    "    #     )\n",
    "    # ][:3]\n",
    "    res = []\n",
    "    for (x,y) in sorted(zip(predicted_probabilities['label'][i], lookup.get_vocabulary()), reverse=True):\n",
    "        if (x > 0.2):\n",
    "            res.append((x,y))\n",
    "        # print((x,y))\n",
    "\n",
    "    # print(f\"Predicted Label(s): ({', '.join([label for label in top_3_labels])})\")\n",
    "\n",
    "    print(f\"Predicted probabilities (0.6 cut off):({res}\")\n",
    "\n",
    "    print(\" \")"
   ]
  }
 ],
 "metadata": {
  "kernelspec": {
   "display_name": "imagecaption",
   "language": "python",
   "name": "python3"
  },
  "language_info": {
   "codemirror_mode": {
    "name": "ipython",
    "version": 3
   },
   "file_extension": ".py",
   "mimetype": "text/x-python",
   "name": "python",
   "nbconvert_exporter": "python",
   "pygments_lexer": "ipython3",
   "version": "3.8.0"
  },
  "vscode": {
   "interpreter": {
    "hash": "36ce5b3a484ad8c08e98408ff7161e62c875c035ad08be362fd34a279f2fc076"
   }
  }
 },
 "nbformat": 4,
 "nbformat_minor": 4
}
